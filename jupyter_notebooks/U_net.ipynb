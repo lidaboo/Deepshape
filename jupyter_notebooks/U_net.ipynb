{
 "cells": [
  {
   "cell_type": "code",
   "execution_count": 39,
   "metadata": {},
   "outputs": [
    {
     "name": "stdout",
     "output_type": "stream",
     "text": [
      "/home/chenxupeng/projects/deepshape\n"
     ]
    }
   ],
   "source": [
    "cd /home/chenxupeng/projects/deepshape/"
   ]
  },
  {
   "cell_type": "code",
   "execution_count": 40,
   "metadata": {},
   "outputs": [],
   "source": [
    "import numpy as np\n",
    "import argparse, sys, os, errno\n",
    "from glob import glob\n",
    "import pandas as pd\n",
    "import matplotlib.pyplot as plt\n",
    "import seaborn as sns\n",
    "import h5py\n",
    "from tqdm import tqdm\n",
    "import keras as K\n",
    "from keras.callbacks import TensorBoard\n",
    "from keras.callbacks import EarlyStopping\n",
    "from unet_128_model import *\n",
    "from keras.optimizers import Adam\n",
    "from keras.callbacks import ModelCheckpoint"
   ]
  },
  {
   "cell_type": "code",
   "execution_count": 41,
   "metadata": {},
   "outputs": [],
   "source": [
    "os.environ[\"CUDA_DEVICE_ORDER\"] = \"PCI_BUS_ID\" # so the IDs match nvidia-smi\n",
    "os.environ[\"CUDA_VISIBLE_DEVICES\"] = \"4\"\n",
    "import tensorflow as tf\n",
    "from keras.backend.tensorflow_backend import set_session\n",
    "config = tf.ConfigProto()\n",
    "config.gpu_options.per_process_gpu_memory_fraction = 0.9\n",
    "set_session(tf.Session(config=config))"
   ]
  },
  {
   "cell_type": "code",
   "execution_count": 71,
   "metadata": {},
   "outputs": [],
   "source": [
    "model = UNET_128()\n",
    "optim = Adam()\n",
    "model.compile(optimizer=optim, loss=binary_crossentropy_with_nan, metrics=[binary_accuracy_with_nan,mse_with_nan])\n",
    "# last activation output(None,128,128,1)\n",
    "#want: (None,128)\n",
    "#model.summary()"
   ]
  },
  {
   "cell_type": "code",
   "execution_count": 8,
   "metadata": {},
   "outputs": [],
   "source": [
    "with h5py.File('/home/chenxupeng/projects/deepshape/data/new/train_1') as f:\n",
    "    images_train = f['train_images'][:1000]\n",
    "with h5py.File('/home/chenxupeng/projects/deepshape/data/new/test_0') as f:\n",
    "    images_test= f['test_images'][:1000]\n",
    "with h5py.File('/home/chenxupeng/projects/deepshape/data/new/Spitale_2015_invivo_CDS_0.1') as f:\n",
    "    y_train = f['y_train'][:1000]\n",
    "    y_test = f['y_test'][:1000]"
   ]
  },
  {
   "cell_type": "code",
   "execution_count": 73,
   "metadata": {},
   "outputs": [
    {
     "data": {
      "text/plain": [
       "'\\na = np.ndarray([y_train.shape[0],])\\nfor i in range(y_train.shape[0]):\\n    a[i] = np.sum(np.isnan(y_train[i]))\\n%pylab inline\\nhist(a,bins = 50)\\n'"
      ]
     },
     "execution_count": 73,
     "metadata": {},
     "output_type": "execute_result"
    }
   ],
   "source": [
    "'''\n",
    "a = np.ndarray([y_train.shape[0],])\n",
    "for i in range(y_train.shape[0]):\n",
    "    a[i] = np.sum(np.isnan(y_train[i]))\n",
    "%pylab inline\n",
    "hist(a,bins = 50)\n",
    "'''"
   ]
  },
  {
   "cell_type": "code",
   "execution_count": 74,
   "metadata": {},
   "outputs": [],
   "source": [
    "#callbacks = [model_checkpoint]\n",
    "model_checkpoint = ModelCheckpoint('output/newunet.hdf5', monitor='binary_accuracy_with_nan', save_best_only=True)"
   ]
  },
  {
   "cell_type": "code",
   "execution_count": 81,
   "metadata": {},
   "outputs": [],
   "source": [
    "def Model(images_train,images_test,y_train,y_test_true,count):\n",
    "    model.fit(images_train, y_train, batch_size=16, nb_epoch=50,\n",
    "              verbose=1, shuffle=True,validation_split=0.2,\n",
    "              callbacks=[EarlyStopping(monitor='binary_crossentropy', patience=10, verbose=0),TensorBoard(log_dir='/home/chenxupeng/projects/deepshape/output/tensorboard/unet/log_dir')])\n",
    "    num_test = images_test.shape[0]\n",
    "    y_test = np.ndarray([num_test,128],dtype=np.float32)\n",
    "    predict = model.predict([images_test], verbose=0)\n",
    "    for i in tqdm(range(num_test)):\n",
    "        y_test[i] = predict[i]\n",
    "    np.save('/home/chenxupeng/projects/deepshape/output/unet_predict'+str(count)+'.npy', y_test)\n",
    "    acc = 0.0\n",
    "    y_test[np.where(y_test >= 0.5)] = 1\n",
    "    y_test[np.where(y_test < 0.5)] = 0\n",
    "    for i in range(num_test):\n",
    "        accu = 0.0\n",
    "        index = np.where(np.isnan(y_test[i]) ==0)[0]\n",
    "        count = index.shape[0]\n",
    "        for j in range(count):\n",
    "            if y_test[i][index][j] == y_test_true[i][index][j]:\n",
    "                accu +=1\n",
    "        accu /=float(count) \n",
    "        acc +=accu\n",
    "    acc /=num_test\n",
    "    print(\"accuracy : \",acc)\n",
    "    model.save('output/newunet_1.hdf5')\n",
    "    model.save_weights('output/newunet_weights_1.hdf5')\n",
    "    return acc"
   ]
  },
  {
   "cell_type": "code",
   "execution_count": 82,
   "metadata": {},
   "outputs": [
    {
     "name": "stderr",
     "output_type": "stream",
     "text": [
      "/home/chenxupeng/apps/anaconda2/lib/python2.7/site-packages/ipykernel_launcher.py:4: UserWarning: The `nb_epoch` argument in `fit` has been renamed `epochs`.\n",
      "  after removing the cwd from sys.path.\n"
     ]
    },
    {
     "name": "stdout",
     "output_type": "stream",
     "text": [
      "Train on 800 samples, validate on 200 samples\n",
      "Epoch 1/50\n",
      "800/800 [==============================] - 10s 12ms/step - loss: 0.0449 - binary_accuracy_with_nan: 0.9989 - mse_with_nan: 0.0011 - val_loss: 7.9253 - val_binary_accuracy_with_nan: 0.5067 - val_mse_with_nan: 0.4164\n",
      "Epoch 2/50\n",
      "800/800 [==============================] - 10s 12ms/step - loss: 0.0441 - binary_accuracy_with_nan: 0.9988 - mse_with_nan: 0.0012 - val_loss: 7.9210 - val_binary_accuracy_with_nan: 0.5093 - val_mse_with_nan: 0.4152\n",
      "Epoch 3/50\n",
      "800/800 [==============================] - 10s 12ms/step - loss: 0.0425 - binary_accuracy_with_nan: 0.9989 - mse_with_nan: 0.0011 - val_loss: 7.9287 - val_binary_accuracy_with_nan: 0.5102 - val_mse_with_nan: 0.4140\n",
      "Epoch 4/50\n",
      "800/800 [==============================] - 10s 12ms/step - loss: 0.0404 - binary_accuracy_with_nan: 0.9989 - mse_with_nan: 0.0011 - val_loss: 7.9730 - val_binary_accuracy_with_nan: 0.5043 - val_mse_with_nan: 0.4152\n",
      "Epoch 5/50\n",
      "800/800 [==============================] - 10s 12ms/step - loss: 0.0415 - binary_accuracy_with_nan: 0.9988 - mse_with_nan: 0.0012 - val_loss: 7.9246 - val_binary_accuracy_with_nan: 0.5090 - val_mse_with_nan: 0.4127\n",
      "Epoch 6/50\n",
      "800/800 [==============================] - 10s 12ms/step - loss: 0.0400 - binary_accuracy_with_nan: 0.9989 - mse_with_nan: 0.0012 - val_loss: 7.9595 - val_binary_accuracy_with_nan: 0.5087 - val_mse_with_nan: 0.4119\n",
      "Epoch 7/50\n",
      "800/800 [==============================] - 10s 12ms/step - loss: 0.0395 - binary_accuracy_with_nan: 0.9988 - mse_with_nan: 0.0012 - val_loss: 7.9662 - val_binary_accuracy_with_nan: 0.5059 - val_mse_with_nan: 0.4108\n",
      "Epoch 8/50\n",
      "800/800 [==============================] - 10s 12ms/step - loss: 0.0383 - binary_accuracy_with_nan: 0.9988 - mse_with_nan: 0.0012 - val_loss: 7.9884 - val_binary_accuracy_with_nan: 0.5073 - val_mse_with_nan: 0.4127\n",
      "Epoch 9/50\n",
      "800/800 [==============================] - 10s 12ms/step - loss: 0.0382 - binary_accuracy_with_nan: 0.9988 - mse_with_nan: 0.0012 - val_loss: 8.0062 - val_binary_accuracy_with_nan: 0.5024 - val_mse_with_nan: 0.4134\n",
      "Epoch 10/50\n",
      "800/800 [==============================] - 10s 13ms/step - loss: 0.0360 - binary_accuracy_with_nan: 0.9988 - mse_with_nan: 0.0011 - val_loss: 8.0079 - val_binary_accuracy_with_nan: 0.5002 - val_mse_with_nan: 0.4127\n",
      "Epoch 11/50\n",
      "800/800 [==============================] - 10s 12ms/step - loss: 0.0360 - binary_accuracy_with_nan: 0.9988 - mse_with_nan: 0.0012 - val_loss: 7.9858 - val_binary_accuracy_with_nan: 0.5010 - val_mse_with_nan: 0.4114\n",
      "Epoch 12/50\n",
      "800/800 [==============================] - 10s 13ms/step - loss: 0.0336 - binary_accuracy_with_nan: 0.9990 - mse_with_nan: 0.0010 - val_loss: 8.0065 - val_binary_accuracy_with_nan: 0.5038 - val_mse_with_nan: 0.4114\n",
      "Epoch 13/50\n",
      "800/800 [==============================] - 10s 13ms/step - loss: 0.0320 - binary_accuracy_with_nan: 0.9990 - mse_with_nan: 0.0010 - val_loss: 8.0022 - val_binary_accuracy_with_nan: 0.5029 - val_mse_with_nan: 0.4106\n",
      "Epoch 14/50\n",
      "800/800 [==============================] - 10s 13ms/step - loss: 0.0324 - binary_accuracy_with_nan: 0.9989 - mse_with_nan: 0.0011 - val_loss: 8.0097 - val_binary_accuracy_with_nan: 0.5037 - val_mse_with_nan: 0.4104\n",
      "Epoch 15/50\n",
      "800/800 [==============================] - 10s 13ms/step - loss: 0.0301 - binary_accuracy_with_nan: 0.9990 - mse_with_nan: 9.4639e-04 - val_loss: 8.0377 - val_binary_accuracy_with_nan: 0.4987 - val_mse_with_nan: 0.4105\n",
      "Epoch 16/50\n",
      "800/800 [==============================] - 10s 13ms/step - loss: 0.0295 - binary_accuracy_with_nan: 0.9991 - mse_with_nan: 9.2467e-04 - val_loss: 8.0422 - val_binary_accuracy_with_nan: 0.5002 - val_mse_with_nan: 0.4101\n",
      "Epoch 17/50\n",
      "800/800 [==============================] - 10s 13ms/step - loss: 0.0297 - binary_accuracy_with_nan: 0.9990 - mse_with_nan: 9.6996e-04 - val_loss: 8.0324 - val_binary_accuracy_with_nan: 0.4989 - val_mse_with_nan: 0.4090\n",
      "Epoch 18/50\n",
      "800/800 [==============================] - 10s 13ms/step - loss: 0.0286 - binary_accuracy_with_nan: 0.9990 - mse_with_nan: 9.5202e-04 - val_loss: 8.0244 - val_binary_accuracy_with_nan: 0.5039 - val_mse_with_nan: 0.4111\n",
      "Epoch 19/50\n",
      "800/800 [==============================] - 10s 13ms/step - loss: 0.0281 - binary_accuracy_with_nan: 0.9990 - mse_with_nan: 9.6799e-04 - val_loss: 8.0113 - val_binary_accuracy_with_nan: 0.5037 - val_mse_with_nan: 0.4090\n",
      "Epoch 20/50\n",
      "800/800 [==============================] - 10s 13ms/step - loss: 0.0267 - binary_accuracy_with_nan: 0.9991 - mse_with_nan: 8.8883e-04 - val_loss: 8.0138 - val_binary_accuracy_with_nan: 0.5069 - val_mse_with_nan: 0.4143\n",
      "Epoch 21/50\n",
      "800/800 [==============================] - 10s 13ms/step - loss: 0.0253 - binary_accuracy_with_nan: 0.9992 - mse_with_nan: 8.4195e-04 - val_loss: 8.0245 - val_binary_accuracy_with_nan: 0.5016 - val_mse_with_nan: 0.4078\n",
      "Epoch 22/50\n",
      "800/800 [==============================] - 10s 13ms/step - loss: 0.0242 - binary_accuracy_with_nan: 0.9992 - mse_with_nan: 7.8968e-04 - val_loss: 8.0279 - val_binary_accuracy_with_nan: 0.5038 - val_mse_with_nan: 0.4075\n",
      "Epoch 23/50\n",
      "800/800 [==============================] - 10s 13ms/step - loss: 0.0242 - binary_accuracy_with_nan: 0.9992 - mse_with_nan: 8.4487e-04 - val_loss: 8.0639 - val_binary_accuracy_with_nan: 0.4973 - val_mse_with_nan: 0.4102\n",
      "Epoch 24/50\n",
      "800/800 [==============================] - 10s 13ms/step - loss: 0.0237 - binary_accuracy_with_nan: 0.9992 - mse_with_nan: 8.2643e-04 - val_loss: 8.0113 - val_binary_accuracy_with_nan: 0.5027 - val_mse_with_nan: 0.4061\n",
      "Epoch 25/50\n",
      "800/800 [==============================] - 10s 13ms/step - loss: 0.0235 - binary_accuracy_with_nan: 0.9992 - mse_with_nan: 8.3572e-04 - val_loss: 8.0364 - val_binary_accuracy_with_nan: 0.5002 - val_mse_with_nan: 0.4065\n",
      "Epoch 26/50\n",
      "800/800 [==============================] - 10s 13ms/step - loss: 0.0243 - binary_accuracy_with_nan: 0.9991 - mse_with_nan: 9.0284e-04 - val_loss: 8.0279 - val_binary_accuracy_with_nan: 0.4990 - val_mse_with_nan: 0.4066\n",
      "Epoch 27/50\n",
      "800/800 [==============================] - 10s 13ms/step - loss: 0.0228 - binary_accuracy_with_nan: 0.9992 - mse_with_nan: 8.2462e-04 - val_loss: 8.0375 - val_binary_accuracy_with_nan: 0.4958 - val_mse_with_nan: 0.4054\n",
      "Epoch 28/50\n",
      "800/800 [==============================] - 10s 13ms/step - loss: 0.0222 - binary_accuracy_with_nan: 0.9992 - mse_with_nan: 8.0497e-04 - val_loss: 8.0664 - val_binary_accuracy_with_nan: 0.4921 - val_mse_with_nan: 0.4032\n",
      "Epoch 29/50\n",
      "800/800 [==============================] - 10s 13ms/step - loss: 0.0226 - binary_accuracy_with_nan: 0.9991 - mse_with_nan: 8.6092e-04 - val_loss: 8.0416 - val_binary_accuracy_with_nan: 0.4950 - val_mse_with_nan: 0.4026\n",
      "Epoch 30/50\n",
      "800/800 [==============================] - 10s 13ms/step - loss: 0.0216 - binary_accuracy_with_nan: 0.9992 - mse_with_nan: 8.0039e-04 - val_loss: 8.0741 - val_binary_accuracy_with_nan: 0.4996 - val_mse_with_nan: 0.4090\n",
      "Epoch 31/50\n",
      "800/800 [==============================] - 10s 13ms/step - loss: 0.0217 - binary_accuracy_with_nan: 0.9992 - mse_with_nan: 8.3305e-04 - val_loss: 8.0736 - val_binary_accuracy_with_nan: 0.4980 - val_mse_with_nan: 0.4081\n",
      "Epoch 32/50\n",
      "800/800 [==============================] - 10s 13ms/step - loss: 0.0217 - binary_accuracy_with_nan: 0.9992 - mse_with_nan: 8.2860e-04 - val_loss: 8.0494 - val_binary_accuracy_with_nan: 0.4972 - val_mse_with_nan: 0.4071\n",
      "Epoch 33/50\n",
      "800/800 [==============================] - 10s 13ms/step - loss: 0.0223 - binary_accuracy_with_nan: 0.9992 - mse_with_nan: 8.0971e-04 - val_loss: 8.0545 - val_binary_accuracy_with_nan: 0.4988 - val_mse_with_nan: 0.4062\n",
      "Epoch 34/50\n",
      "800/800 [==============================] - 10s 13ms/step - loss: 0.0241 - binary_accuracy_with_nan: 0.9992 - mse_with_nan: 7.6291e-04 - val_loss: 8.0371 - val_binary_accuracy_with_nan: 0.4974 - val_mse_with_nan: 0.4092\n",
      "Epoch 35/50\n",
      "800/800 [==============================] - 10s 13ms/step - loss: 0.0216 - binary_accuracy_with_nan: 0.9993 - mse_with_nan: 7.4781e-04 - val_loss: 8.0698 - val_binary_accuracy_with_nan: 0.4982 - val_mse_with_nan: 0.4092\n",
      "Epoch 36/50\n",
      "800/800 [==============================] - 10s 13ms/step - loss: 0.0214 - binary_accuracy_with_nan: 0.9992 - mse_with_nan: 7.7740e-04 - val_loss: 8.0314 - val_binary_accuracy_with_nan: 0.5060 - val_mse_with_nan: 0.4069\n",
      "Epoch 37/50\n",
      "800/800 [==============================] - 10s 13ms/step - loss: 0.0194 - binary_accuracy_with_nan: 0.9993 - mse_with_nan: 7.2193e-04 - val_loss: 8.0709 - val_binary_accuracy_with_nan: 0.4993 - val_mse_with_nan: 0.4082\n",
      "Epoch 38/50\n",
      "800/800 [==============================] - 10s 13ms/step - loss: 0.0194 - binary_accuracy_with_nan: 0.9993 - mse_with_nan: 7.4233e-04 - val_loss: 8.0840 - val_binary_accuracy_with_nan: 0.4957 - val_mse_with_nan: 0.4073\n",
      "Epoch 39/50\n",
      "800/800 [==============================] - 10s 13ms/step - loss: 0.0188 - binary_accuracy_with_nan: 0.9993 - mse_with_nan: 7.0892e-04 - val_loss: 8.0507 - val_binary_accuracy_with_nan: 0.4977 - val_mse_with_nan: 0.4067\n",
      "Epoch 40/50\n",
      "800/800 [==============================] - 10s 13ms/step - loss: 0.0187 - binary_accuracy_with_nan: 0.9992 - mse_with_nan: 7.5246e-04 - val_loss: 8.1090 - val_binary_accuracy_with_nan: 0.4945 - val_mse_with_nan: 0.4060\n",
      "Epoch 41/50\n",
      "800/800 [==============================] - 10s 13ms/step - loss: 0.0175 - binary_accuracy_with_nan: 0.9993 - mse_with_nan: 7.0181e-04 - val_loss: 8.1303 - val_binary_accuracy_with_nan: 0.4901 - val_mse_with_nan: 0.4053\n",
      "Epoch 42/50\n",
      "800/800 [==============================] - 10s 13ms/step - loss: 0.0177 - binary_accuracy_with_nan: 0.9993 - mse_with_nan: 6.7851e-04 - val_loss: 8.0551 - val_binary_accuracy_with_nan: 0.5062 - val_mse_with_nan: 0.4010\n",
      "Epoch 43/50\n",
      "800/800 [==============================] - 10s 13ms/step - loss: 0.0165 - binary_accuracy_with_nan: 0.9994 - mse_with_nan: 6.2513e-04 - val_loss: 8.1287 - val_binary_accuracy_with_nan: 0.4867 - val_mse_with_nan: 0.4065\n",
      "Epoch 44/50\n",
      "800/800 [==============================] - 10s 13ms/step - loss: 0.0179 - binary_accuracy_with_nan: 0.9993 - mse_with_nan: 6.6897e-04 - val_loss: 8.0848 - val_binary_accuracy_with_nan: 0.4970 - val_mse_with_nan: 0.4091\n",
      "Epoch 45/50\n",
      "800/800 [==============================] - 10s 13ms/step - loss: 0.0170 - binary_accuracy_with_nan: 0.9993 - mse_with_nan: 6.7215e-04 - val_loss: 8.1036 - val_binary_accuracy_with_nan: 0.4951 - val_mse_with_nan: 0.4093\n",
      "Epoch 46/50\n",
      "800/800 [==============================] - 10s 13ms/step - loss: 0.0153 - binary_accuracy_with_nan: 0.9994 - mse_with_nan: 6.2534e-04 - val_loss: 8.1306 - val_binary_accuracy_with_nan: 0.4942 - val_mse_with_nan: 0.4070\n",
      "Epoch 47/50\n",
      "800/800 [==============================] - 10s 13ms/step - loss: 0.0150 - binary_accuracy_with_nan: 0.9994 - mse_with_nan: 6.2109e-04 - val_loss: 8.1457 - val_binary_accuracy_with_nan: 0.4925 - val_mse_with_nan: 0.4079\n",
      "Epoch 48/50\n",
      "800/800 [==============================] - 10s 13ms/step - loss: 0.0149 - binary_accuracy_with_nan: 0.9994 - mse_with_nan: 6.0837e-04 - val_loss: 8.1095 - val_binary_accuracy_with_nan: 0.4921 - val_mse_with_nan: 0.4057\n",
      "Epoch 49/50\n",
      "800/800 [==============================] - 10s 13ms/step - loss: 0.0163 - binary_accuracy_with_nan: 0.9993 - mse_with_nan: 6.9144e-04 - val_loss: 8.0886 - val_binary_accuracy_with_nan: 0.4970 - val_mse_with_nan: 0.4012\n",
      "Epoch 50/50\n",
      "800/800 [==============================] - 10s 13ms/step - loss: 0.0151 - binary_accuracy_with_nan: 0.9994 - mse_with_nan: 6.1496e-04 - val_loss: 8.1115 - val_binary_accuracy_with_nan: 0.4948 - val_mse_with_nan: 0.4076\n"
     ]
    },
    {
     "name": "stderr",
     "output_type": "stream",
     "text": [
      "100%|██████████| 1000/1000 [00:00<00:00, 437636.06it/s]\n"
     ]
    },
    {
     "name": "stdout",
     "output_type": "stream",
     "text": [
      "('accuracy : ', 0.0488125)\n"
     ]
    }
   ],
   "source": [
    "number = 1000\n",
    "for i in range(1):\n",
    "    acc = Model(images_train[:number,:,:,:],images_test[:number,:,:,:],y_train[:number,:],y_test[:number,:],i)"
   ]
  },
  {
   "cell_type": "code",
   "execution_count": 30,
   "metadata": {},
   "outputs": [],
   "source": [
    "b = np.load('/home/chenxupeng/projects/deepshape/output/unet_predict0.npy')"
   ]
  },
  {
   "cell_type": "code",
   "execution_count": 44,
   "metadata": {},
   "outputs": [],
   "source": [
    "from keras.models import load_model\n",
    "model = load_model('output/newunet.hdf5')"
   ]
  },
  {
   "cell_type": "code",
   "execution_count": 101,
   "metadata": {},
   "outputs": [],
   "source": [
    "weights = h5py.File('output/newunet_weights_1.hdf5')"
   ]
  },
  {
   "cell_type": "code",
   "execution_count": 120,
   "metadata": {},
   "outputs": [
    {
     "data": {
      "text/plain": [
       "(array([ 1.,  0.,  2.,  1.,  0.,  0.,  1.,  1.,  1.,  2.,  2.,  1.,  1.,\n",
       "         0.,  0.,  1.,  0.,  0.,  0.,  0.,  0.,  0.,  0.,  0.,  0.,  0.,\n",
       "         0.,  0.,  1.,  0.,  0.,  1.,  0.,  0.,  0.,  3.,  1.,  2.,  0.,\n",
       "         2.,  0.,  1.,  0.,  0.,  1.,  0.,  2.,  1.,  1.,  2.]),\n",
       " array([-0.402661  , -0.38678174, -0.37090249, -0.35502324, -0.33914399,\n",
       "        -0.32326473, -0.30738548, -0.29150623, -0.27562698, -0.25974772,\n",
       "        -0.24386847, -0.22798922, -0.21210997, -0.19623071, -0.18035146,\n",
       "        -0.16447221, -0.14859295, -0.1327137 , -0.11683445, -0.1009552 ,\n",
       "        -0.08507594, -0.06919669, -0.05331744, -0.03743819, -0.02155893,\n",
       "        -0.00567968,  0.01019957,  0.02607882,  0.04195808,  0.05783733,\n",
       "         0.07371658,  0.08959583,  0.10547509,  0.12135434,  0.13723359,\n",
       "         0.15311284,  0.1689921 ,  0.18487135,  0.2007506 ,  0.21662985,\n",
       "         0.23250911,  0.24838836,  0.26426761,  0.28014686,  0.29602612,\n",
       "         0.31190537,  0.32778462,  0.34366387,  0.35954313,  0.37542238,\n",
       "         0.39130163]),\n",
       " <a list of 50 Patch objects>)"
      ]
     },
     "execution_count": 120,
     "metadata": {},
     "output_type": "execute_result"
    },
    {
     "data": {
      "image/png": "[encoded data removed]",
      "text/plain": [
       "<matplotlib.figure.Figure at 0x7fad1ca2b7d0>"
      ]
     },
     "metadata": {},
     "output_type": "display_data"
    }
   ],
   "source": [
    "hist(weights['conv2d_69/conv2d_69/kernel:0'][:].flatten(),bins =50)"
   ]
  },
  {
   "cell_type": "code",
   "execution_count": 91,
   "metadata": {},
   "outputs": [
    {
     "name": "stdout",
     "output_type": "stream",
     "text": [
      "__________________________________________________________________________________________________\n",
      "Layer (type)                    Output Shape         Param #     Connected to                     \n",
      "==================================================================================================\n",
      "input_3 (InputLayer)            (None, 128, 128, 16) 0                                            \n",
      "__________________________________________________________________________________________________\n",
      "conv2d_47 (Conv2D)              (None, 128, 128, 32) 4640        input_3[0][0]                    \n",
      "__________________________________________________________________________________________________\n",
      "batch_normalization_47 (BatchNo (None, 128, 128, 32) 128         conv2d_47[0][0]                  \n",
      "__________________________________________________________________________________________________\n",
      "activation_47 (Activation)      (None, 128, 128, 32) 0           batch_normalization_47[0][0]     \n",
      "__________________________________________________________________________________________________\n",
      "conv2d_48 (Conv2D)              (None, 128, 128, 32) 9248        activation_47[0][0]              \n",
      "__________________________________________________________________________________________________\n",
      "batch_normalization_48 (BatchNo (None, 128, 128, 32) 128         conv2d_48[0][0]                  \n",
      "__________________________________________________________________________________________________\n",
      "activation_48 (Activation)      (None, 128, 128, 32) 0           batch_normalization_48[0][0]     \n",
      "__________________________________________________________________________________________________\n",
      "dropout_21 (Dropout)            (None, 128, 128, 32) 0           activation_48[0][0]              \n",
      "__________________________________________________________________________________________________\n",
      "max_pooling2d_11 (MaxPooling2D) (None, 64, 64, 32)   0           dropout_21[0][0]                 \n",
      "__________________________________________________________________________________________________\n",
      "conv2d_49 (Conv2D)              (None, 64, 64, 64)   18496       max_pooling2d_11[0][0]           \n",
      "__________________________________________________________________________________________________\n",
      "batch_normalization_49 (BatchNo (None, 64, 64, 64)   256         conv2d_49[0][0]                  \n",
      "__________________________________________________________________________________________________\n",
      "activation_49 (Activation)      (None, 64, 64, 64)   0           batch_normalization_49[0][0]     \n",
      "__________________________________________________________________________________________________\n",
      "conv2d_50 (Conv2D)              (None, 64, 64, 64)   36928       activation_49[0][0]              \n",
      "__________________________________________________________________________________________________\n",
      "batch_normalization_50 (BatchNo (None, 64, 64, 64)   256         conv2d_50[0][0]                  \n",
      "__________________________________________________________________________________________________\n",
      "activation_50 (Activation)      (None, 64, 64, 64)   0           batch_normalization_50[0][0]     \n",
      "__________________________________________________________________________________________________\n",
      "dropout_22 (Dropout)            (None, 64, 64, 64)   0           activation_50[0][0]              \n",
      "__________________________________________________________________________________________________\n",
      "max_pooling2d_12 (MaxPooling2D) (None, 32, 32, 64)   0           dropout_22[0][0]                 \n",
      "__________________________________________________________________________________________________\n",
      "conv2d_51 (Conv2D)              (None, 32, 32, 128)  73856       max_pooling2d_12[0][0]           \n",
      "__________________________________________________________________________________________________\n",
      "batch_normalization_51 (BatchNo (None, 32, 32, 128)  512         conv2d_51[0][0]                  \n",
      "__________________________________________________________________________________________________\n",
      "activation_51 (Activation)      (None, 32, 32, 128)  0           batch_normalization_51[0][0]     \n",
      "__________________________________________________________________________________________________\n",
      "conv2d_52 (Conv2D)              (None, 32, 32, 128)  147584      activation_51[0][0]              \n",
      "__________________________________________________________________________________________________\n",
      "batch_normalization_52 (BatchNo (None, 32, 32, 128)  512         conv2d_52[0][0]                  \n",
      "__________________________________________________________________________________________________\n",
      "activation_52 (Activation)      (None, 32, 32, 128)  0           batch_normalization_52[0][0]     \n",
      "__________________________________________________________________________________________________\n",
      "dropout_23 (Dropout)            (None, 32, 32, 128)  0           activation_52[0][0]              \n",
      "__________________________________________________________________________________________________\n",
      "max_pooling2d_13 (MaxPooling2D) (None, 16, 16, 128)  0           dropout_23[0][0]                 \n",
      "__________________________________________________________________________________________________\n",
      "conv2d_53 (Conv2D)              (None, 16, 16, 256)  295168      max_pooling2d_13[0][0]           \n",
      "__________________________________________________________________________________________________\n",
      "batch_normalization_53 (BatchNo (None, 16, 16, 256)  1024        conv2d_53[0][0]                  \n",
      "__________________________________________________________________________________________________\n",
      "activation_53 (Activation)      (None, 16, 16, 256)  0           batch_normalization_53[0][0]     \n",
      "__________________________________________________________________________________________________\n",
      "conv2d_54 (Conv2D)              (None, 16, 16, 256)  590080      activation_53[0][0]              \n",
      "__________________________________________________________________________________________________\n",
      "batch_normalization_54 (BatchNo (None, 16, 16, 256)  1024        conv2d_54[0][0]                  \n",
      "__________________________________________________________________________________________________\n",
      "activation_54 (Activation)      (None, 16, 16, 256)  0           batch_normalization_54[0][0]     \n",
      "__________________________________________________________________________________________________\n",
      "dropout_24 (Dropout)            (None, 16, 16, 256)  0           activation_54[0][0]              \n",
      "__________________________________________________________________________________________________\n",
      "max_pooling2d_14 (MaxPooling2D) (None, 8, 8, 256)    0           dropout_24[0][0]                 \n",
      "__________________________________________________________________________________________________\n",
      "conv2d_55 (Conv2D)              (None, 8, 8, 512)    1180160     max_pooling2d_14[0][0]           \n",
      "__________________________________________________________________________________________________\n",
      "batch_normalization_55 (BatchNo (None, 8, 8, 512)    2048        conv2d_55[0][0]                  \n",
      "__________________________________________________________________________________________________\n",
      "activation_55 (Activation)      (None, 8, 8, 512)    0           batch_normalization_55[0][0]     \n",
      "__________________________________________________________________________________________________\n",
      "conv2d_56 (Conv2D)              (None, 8, 8, 512)    2359808     activation_55[0][0]              \n",
      "__________________________________________________________________________________________________\n",
      "batch_normalization_56 (BatchNo (None, 8, 8, 512)    2048        conv2d_56[0][0]                  \n",
      "__________________________________________________________________________________________________\n",
      "activation_56 (Activation)      (None, 8, 8, 512)    0           batch_normalization_56[0][0]     \n",
      "__________________________________________________________________________________________________\n",
      "dropout_25 (Dropout)            (None, 8, 8, 512)    0           activation_56[0][0]              \n",
      "__________________________________________________________________________________________________\n",
      "max_pooling2d_15 (MaxPooling2D) (None, 4, 4, 512)    0           dropout_25[0][0]                 \n",
      "__________________________________________________________________________________________________\n",
      "conv2d_57 (Conv2D)              (None, 4, 4, 1024)   4719616     max_pooling2d_15[0][0]           \n",
      "__________________________________________________________________________________________________\n",
      "batch_normalization_57 (BatchNo (None, 4, 4, 1024)   4096        conv2d_57[0][0]                  \n",
      "__________________________________________________________________________________________________\n",
      "activation_57 (Activation)      (None, 4, 4, 1024)   0           batch_normalization_57[0][0]     \n",
      "__________________________________________________________________________________________________\n",
      "conv2d_58 (Conv2D)              (None, 4, 4, 1024)   9438208     activation_57[0][0]              \n",
      "__________________________________________________________________________________________________\n",
      "batch_normalization_58 (BatchNo (None, 4, 4, 1024)   4096        conv2d_58[0][0]                  \n",
      "__________________________________________________________________________________________________\n",
      "activation_58 (Activation)      (None, 4, 4, 1024)   0           batch_normalization_58[0][0]     \n",
      "__________________________________________________________________________________________________\n",
      "dropout_26 (Dropout)            (None, 4, 4, 1024)   0           activation_58[0][0]              \n",
      "__________________________________________________________________________________________________\n",
      "up_sampling2d_11 (UpSampling2D) (None, 8, 8, 1024)   0           dropout_26[0][0]                 \n",
      "__________________________________________________________________________________________________\n",
      "concatenate_11 (Concatenate)    (None, 8, 8, 1536)   0           up_sampling2d_11[0][0]           \n",
      "                                                                 dropout_25[0][0]                 \n",
      "__________________________________________________________________________________________________\n",
      "conv2d_59 (Conv2D)              (None, 8, 8, 512)    7078400     concatenate_11[0][0]             \n",
      "__________________________________________________________________________________________________\n",
      "batch_normalization_59 (BatchNo (None, 8, 8, 512)    2048        conv2d_59[0][0]                  \n",
      "__________________________________________________________________________________________________\n",
      "activation_59 (Activation)      (None, 8, 8, 512)    0           batch_normalization_59[0][0]     \n",
      "__________________________________________________________________________________________________\n",
      "conv2d_60 (Conv2D)              (None, 8, 8, 512)    2359808     activation_59[0][0]              \n",
      "__________________________________________________________________________________________________\n",
      "batch_normalization_60 (BatchNo (None, 8, 8, 512)    2048        conv2d_60[0][0]                  \n",
      "__________________________________________________________________________________________________\n",
      "activation_60 (Activation)      (None, 8, 8, 512)    0           batch_normalization_60[0][0]     \n",
      "__________________________________________________________________________________________________\n",
      "dropout_27 (Dropout)            (None, 8, 8, 512)    0           activation_60[0][0]              \n",
      "__________________________________________________________________________________________________\n",
      "up_sampling2d_12 (UpSampling2D) (None, 16, 16, 512)  0           dropout_27[0][0]                 \n",
      "__________________________________________________________________________________________________\n",
      "concatenate_12 (Concatenate)    (None, 16, 16, 768)  0           up_sampling2d_12[0][0]           \n",
      "                                                                 dropout_24[0][0]                 \n",
      "__________________________________________________________________________________________________\n",
      "conv2d_61 (Conv2D)              (None, 16, 16, 256)  1769728     concatenate_12[0][0]             \n",
      "__________________________________________________________________________________________________\n",
      "batch_normalization_61 (BatchNo (None, 16, 16, 256)  1024        conv2d_61[0][0]                  \n",
      "__________________________________________________________________________________________________\n",
      "activation_61 (Activation)      (None, 16, 16, 256)  0           batch_normalization_61[0][0]     \n",
      "__________________________________________________________________________________________________\n",
      "conv2d_62 (Conv2D)              (None, 16, 16, 256)  590080      activation_61[0][0]              \n",
      "__________________________________________________________________________________________________\n",
      "batch_normalization_62 (BatchNo (None, 16, 16, 256)  1024        conv2d_62[0][0]                  \n",
      "__________________________________________________________________________________________________\n",
      "activation_62 (Activation)      (None, 16, 16, 256)  0           batch_normalization_62[0][0]     \n",
      "__________________________________________________________________________________________________\n",
      "dropout_28 (Dropout)            (None, 16, 16, 256)  0           activation_62[0][0]              \n",
      "__________________________________________________________________________________________________\n",
      "up_sampling2d_13 (UpSampling2D) (None, 32, 32, 256)  0           dropout_28[0][0]                 \n",
      "__________________________________________________________________________________________________\n",
      "concatenate_13 (Concatenate)    (None, 32, 32, 384)  0           up_sampling2d_13[0][0]           \n",
      "                                                                 dropout_23[0][0]                 \n",
      "__________________________________________________________________________________________________\n",
      "conv2d_63 (Conv2D)              (None, 32, 32, 128)  442496      concatenate_13[0][0]             \n",
      "__________________________________________________________________________________________________\n",
      "batch_normalization_63 (BatchNo (None, 32, 32, 128)  512         conv2d_63[0][0]                  \n",
      "__________________________________________________________________________________________________\n",
      "activation_63 (Activation)      (None, 32, 32, 128)  0           batch_normalization_63[0][0]     \n",
      "__________________________________________________________________________________________________\n",
      "conv2d_64 (Conv2D)              (None, 32, 32, 128)  147584      activation_63[0][0]              \n",
      "__________________________________________________________________________________________________\n",
      "batch_normalization_64 (BatchNo (None, 32, 32, 128)  512         conv2d_64[0][0]                  \n",
      "__________________________________________________________________________________________________\n",
      "activation_64 (Activation)      (None, 32, 32, 128)  0           batch_normalization_64[0][0]     \n",
      "__________________________________________________________________________________________________\n",
      "dropout_29 (Dropout)            (None, 32, 32, 128)  0           activation_64[0][0]              \n",
      "__________________________________________________________________________________________________\n",
      "up_sampling2d_14 (UpSampling2D) (None, 64, 64, 128)  0           dropout_29[0][0]                 \n",
      "__________________________________________________________________________________________________\n",
      "concatenate_14 (Concatenate)    (None, 64, 64, 192)  0           up_sampling2d_14[0][0]           \n",
      "                                                                 dropout_22[0][0]                 \n",
      "__________________________________________________________________________________________________\n",
      "conv2d_65 (Conv2D)              (None, 64, 64, 64)   110656      concatenate_14[0][0]             \n",
      "__________________________________________________________________________________________________\n",
      "batch_normalization_65 (BatchNo (None, 64, 64, 64)   256         conv2d_65[0][0]                  \n",
      "__________________________________________________________________________________________________\n",
      "activation_65 (Activation)      (None, 64, 64, 64)   0           batch_normalization_65[0][0]     \n",
      "__________________________________________________________________________________________________\n",
      "conv2d_66 (Conv2D)              (None, 64, 64, 64)   36928       activation_65[0][0]              \n",
      "__________________________________________________________________________________________________\n",
      "batch_normalization_66 (BatchNo (None, 64, 64, 64)   256         conv2d_66[0][0]                  \n",
      "__________________________________________________________________________________________________\n",
      "activation_66 (Activation)      (None, 64, 64, 64)   0           batch_normalization_66[0][0]     \n",
      "__________________________________________________________________________________________________\n",
      "dropout_30 (Dropout)            (None, 64, 64, 64)   0           activation_66[0][0]              \n",
      "__________________________________________________________________________________________________\n",
      "up_sampling2d_15 (UpSampling2D) (None, 128, 128, 64) 0           dropout_30[0][0]                 \n",
      "__________________________________________________________________________________________________\n",
      "concatenate_15 (Concatenate)    (None, 128, 128, 96) 0           up_sampling2d_15[0][0]           \n",
      "                                                                 dropout_21[0][0]                 \n",
      "__________________________________________________________________________________________________\n",
      "conv2d_67 (Conv2D)              (None, 128, 128, 32) 27680       concatenate_15[0][0]             \n",
      "__________________________________________________________________________________________________\n",
      "batch_normalization_67 (BatchNo (None, 128, 128, 32) 128         conv2d_67[0][0]                  \n",
      "__________________________________________________________________________________________________\n",
      "activation_67 (Activation)      (None, 128, 128, 32) 0           batch_normalization_67[0][0]     \n",
      "__________________________________________________________________________________________________\n",
      "conv2d_68 (Conv2D)              (None, 128, 128, 32) 9248        activation_67[0][0]              \n",
      "__________________________________________________________________________________________________\n",
      "batch_normalization_68 (BatchNo (None, 128, 128, 32) 128         conv2d_68[0][0]                  \n",
      "__________________________________________________________________________________________________\n",
      "activation_68 (Activation)      (None, 128, 128, 32) 0           batch_normalization_68[0][0]     \n",
      "__________________________________________________________________________________________________\n",
      "conv2d_69 (Conv2D)              (None, 128, 128, 1)  33          activation_68[0][0]              \n",
      "__________________________________________________________________________________________________\n",
      "batch_normalization_69 (BatchNo (None, 128, 128, 1)  4           conv2d_69[0][0]                  \n",
      "__________________________________________________________________________________________________\n",
      "activation_69 (Activation)      (None, 128, 128, 1)  0           batch_normalization_69[0][0]     \n",
      "__________________________________________________________________________________________________\n",
      "lambda_5 (Lambda)               (None, 128)          0           activation_69[0][0]              \n",
      "__________________________________________________________________________________________________\n",
      "reshape_3 (Reshape)             (None, 128)          0           lambda_5[0][0]                   \n",
      "__________________________________________________________________________________________________\n",
      "lambda_6 (Lambda)               (None, 128)          0           reshape_3[0][0]                  \n",
      "==================================================================================================\n",
      "Total params: 31,470,501\n",
      "Trainable params: 31,458,467\n",
      "Non-trainable params: 12,034\n",
      "__________________________________________________________________________________________________\n"
     ]
    }
   ],
   "source": [
    "model.summary()"
   ]
  },
  {
   "cell_type": "code",
   "execution_count": 64,
   "metadata": {},
   "outputs": [
    {
     "data": {
      "text/plain": [
       "array([ 0.04075397,  0.05833072,  0.00320405, ...,  0.07187954,\n",
       "        0.04653677,  0.07539184], dtype=float32)"
      ]
     },
     "execution_count": 64,
     "metadata": {},
     "output_type": "execute_result"
    }
   ],
   "source": [
    "np.abs(weights[0]).flatten()"
   ]
  },
  {
   "cell_type": "code",
   "execution_count": 66,
   "metadata": {},
   "outputs": [
    {
     "data": {
      "text/plain": [
       "0.31577942"
      ]
     },
     "execution_count": 66,
     "metadata": {},
     "output_type": "execute_result"
    }
   ],
   "source": [
    "np.max(np.abs(weights[0]).flatten())"
   ]
  },
  {
   "cell_type": "code",
   "execution_count": 32,
   "metadata": {},
   "outputs": [],
   "source": [
    "c = {}\n",
    "for i in range(1000):\n",
    "    index = np.where(np.isnan(y_test[i]) ==0)[0]\n",
    "    c[i] = b[i][index]"
   ]
  },
  {
   "cell_type": "code",
   "execution_count": 34,
   "metadata": {},
   "outputs": [
    {
     "data": {
      "text/plain": [
       "array([ 0.07683542,  0.99696356,  0.58331442,  0.00804483,  0.93075985], dtype=float32)"
      ]
     },
     "execution_count": 34,
     "metadata": {},
     "output_type": "execute_result"
    }
   ],
   "source": [
    "c[1]"
   ]
  },
  {
   "cell_type": "code",
   "execution_count": 17,
   "metadata": {},
   "outputs": [],
   "source": [
    "a = {}\n",
    "for i in range(1000):\n",
    "    index = np.where(np.isnan(y_test[i]) ==0)[0]\n",
    "    a[i] = y_test[i][index]"
   ]
  },
  {
   "cell_type": "code",
   "execution_count": 35,
   "metadata": {},
   "outputs": [
    {
     "data": {
      "text/plain": [
       "array([ 1.,  0.,  0.,  1.,  0.,  1.,  1.,  1.,  1.], dtype=float32)"
      ]
     },
     "execution_count": 35,
     "metadata": {},
     "output_type": "execute_result"
    }
   ],
   "source": [
    "a[0]"
   ]
  },
  {
   "cell_type": "code",
   "execution_count": 21,
   "metadata": {},
   "outputs": [],
   "source": [
    "count_0 = {}\n",
    "count_1 = {}\n",
    "ratio = {}\n",
    "for i in range(1000):\n",
    "    whole = a[i].shape[0]\n",
    "    count_1[i] = np.sum(a[i])\n",
    "    count_0[i] = whole -count_1[i]\n",
    "#正样本的比例\n",
    "    ratio[i] = count_1[i] / whole"
   ]
  },
  {
   "cell_type": "code",
   "execution_count": null,
   "metadata": {},
   "outputs": [],
   "source": []
  },
  {
   "cell_type": "code",
   "execution_count": 25,
   "metadata": {},
   "outputs": [],
   "source": [
    "ratio_ = np.array([val for key,val in ratio.iteritems()])\n",
    "count_1_ = np.array([val for key,val in count_1.iteritems()])\n",
    "count_0_ = np.array([val for key,val in count_0.iteritems()])"
   ]
  },
  {
   "cell_type": "code",
   "execution_count": 29,
   "metadata": {},
   "outputs": [
    {
     "data": {
      "text/plain": [
       "0.5087093899376165"
      ]
     },
     "execution_count": 29,
     "metadata": {},
     "output_type": "execute_result"
    }
   ],
   "source": [
    "np.sum(count_1_)/(np.sum(count_1_)+np.sum(count_0_))"
   ]
  },
  {
   "cell_type": "code",
   "execution_count": 22,
   "metadata": {},
   "outputs": [
    {
     "name": "stdout",
     "output_type": "stream",
     "text": [
      "Populating the interactive namespace from numpy and matplotlib\n"
     ]
    },
    {
     "name": "stderr",
     "output_type": "stream",
     "text": [
      "/home/chenxupeng/apps/anaconda2/lib/python2.7/site-packages/IPython/core/magics/pylab.py:161: UserWarning: pylab import has clobbered these variables: ['concatenate', 'f', 'number']\n",
      "`%matplotlib` prevents importing * from pylab and numpy\n",
      "  \"\\n`%matplotlib` prevents importing * from pylab and numpy\"\n"
     ]
    }
   ],
   "source": [
    "%pylab inline"
   ]
  },
  {
   "cell_type": "code",
   "execution_count": 24,
   "metadata": {},
   "outputs": [
    {
     "data": {
      "text/plain": [
       "(array([ 59.,   0.,   2.,   8.,   5.,  14.,  10.,  19.,  14.,   7.,  28.,\n",
       "         27.,  41.,  21.,  26.,  29.,  38.,  15.,  25.,  20.,  37.,  26.,\n",
       "         24.,  11.,   0.,  78.,  21.,  20.,  23.,   6.,  33.,  23.,  11.,\n",
       "         26.,  27.,  16.,  12.,  16.,  13.,   3.,  28.,  16.,  20.,  17.,\n",
       "          8.,  23.,  10.,   8.,   1.,  35.]),\n",
       " array([ 0.  ,  0.02,  0.04,  0.06,  0.08,  0.1 ,  0.12,  0.14,  0.16,\n",
       "         0.18,  0.2 ,  0.22,  0.24,  0.26,  0.28,  0.3 ,  0.32,  0.34,\n",
       "         0.36,  0.38,  0.4 ,  0.42,  0.44,  0.46,  0.48,  0.5 ,  0.52,\n",
       "         0.54,  0.56,  0.58,  0.6 ,  0.62,  0.64,  0.66,  0.68,  0.7 ,\n",
       "         0.72,  0.74,  0.76,  0.78,  0.8 ,  0.82,  0.84,  0.86,  0.88,\n",
       "         0.9 ,  0.92,  0.94,  0.96,  0.98,  1.  ]),\n",
       " <a list of 50 Patch objects>)"
      ]
     },
     "execution_count": 24,
     "metadata": {},
     "output_type": "execute_result"
    },
    {
     "data": {
      "image/png": "[encoded data removed]",
      "text/plain": [
       "<matplotlib.figure.Figure at 0x7fad5c1ae1d0>"
      ]
     },
     "metadata": {},
     "output_type": "display_data"
    }
   ],
   "source": [
    "hist(ratio_,bins =50)"
   ]
  },
  {
   "cell_type": "code",
   "execution_count": null,
   "metadata": {},
   "outputs": [],
   "source": []
  },
  {
   "cell_type": "code",
   "execution_count": 124,
   "metadata": {},
   "outputs": [],
   "source": [
    "#analyze model output"
   ]
  },
  {
   "cell_type": "code",
   "execution_count": 4,
   "metadata": {},
   "outputs": [
    {
     "name": "stderr",
     "output_type": "stream",
     "text": [
      "/home/chenxupeng/apps/anaconda2/lib/python2.7/site-packages/tensorflow/python/ops/gradients_impl.py:93: UserWarning: Converting sparse IndexedSlices to a dense Tensor of unknown shape. This may consume a large amount of memory.\n",
      "  \"Converting sparse IndexedSlices to a dense Tensor of unknown shape. \"\n"
     ]
    }
   ],
   "source": [
    "from keras.models import load_model\n",
    "model = load_model('output/newunet_1.hdf5')\n",
    "#model.summary()"
   ]
  },
  {
   "cell_type": "code",
   "execution_count": null,
   "metadata": {},
   "outputs": [],
   "source": []
  },
  {
   "cell_type": "code",
   "execution_count": null,
   "metadata": {},
   "outputs": [],
   "source": []
  },
  {
   "cell_type": "code",
   "execution_count": 6,
   "metadata": {},
   "outputs": [],
   "source": [
    "inp = model.input                                           # input placeholder\n",
    "outputs = [layer.output for layer in model.layers]          # all layer outputs\n",
    "functor = K.function([inp]+ [K.learning_phase()], outputs ) # evaluation function"
   ]
  },
  {
   "cell_type": "code",
   "execution_count": 10,
   "metadata": {},
   "outputs": [],
   "source": [
    "# Testing\n",
    "layer_outs = functor([images_test[:100], 1.])"
   ]
  },
  {
   "cell_type": "code",
   "execution_count": 42,
   "metadata": {},
   "outputs": [
    {
     "data": {
      "text/plain": [
       "(100, 128, 128, 16)"
      ]
     },
     "execution_count": 42,
     "metadata": {},
     "output_type": "execute_result"
    }
   ],
   "source": [
    "layer_outs[0].shape"
   ]
  },
  {
   "cell_type": "code",
   "execution_count": 16,
   "metadata": {},
   "outputs": [],
   "source": [
    "#存一下输出\n",
    "with h5py.File('newunet_1_output') as f:\n",
    "    for i in range(98):\n",
    "        f.create_dataset(str(i),data = layer_outs[i])"
   ]
  },
  {
   "cell_type": "code",
   "execution_count": 30,
   "metadata": {},
   "outputs": [
    {
     "name": "stdout",
     "output_type": "stream",
     "text": [
      "(100, 128, 128, 16)\n"
     ]
    }
   ],
   "source": [
    "for i in range(1):\n",
    "    print layer_outs[i].shape\n",
    "#92 layers "
   ]
  },
  {
   "cell_type": "code",
   "execution_count": 82,
   "metadata": {},
   "outputs": [
    {
     "data": {
      "text/plain": [
       "(100, 128, 128, 1)"
      ]
     },
     "execution_count": 82,
     "metadata": {},
     "output_type": "execute_result"
    }
   ],
   "source": [
    "layer_outs[94].shape"
   ]
  },
  {
   "cell_type": "code",
   "execution_count": 24,
   "metadata": {},
   "outputs": [],
   "source": [
    "def check_sym(array):\n",
    "    out = ((array - array.T) ** 2).mean(axis=None)\n",
    "    return out"
   ]
  },
  {
   "cell_type": "code",
   "execution_count": 83,
   "metadata": {},
   "outputs": [],
   "source": [
    "mse = {}\n",
    "for i in range(95):\n",
    "    mse[i] = {}\n",
    "    shape = layer_outs[i].shape\n",
    "    for j in range(shape[0]):\n",
    "        mse[i][j] = {}\n",
    "        for t in range(shape[3]):\n",
    "            mse[i][j][t]=check_sym(layer_outs[i][j,:,:,t])"
   ]
  },
  {
   "cell_type": "code",
   "execution_count": 84,
   "metadata": {},
   "outputs": [],
   "source": [
    "#转换一层的dict to array\n",
    "def dict_array(dict,t):\n",
    "    array = np.ndarray([100,len(mse[t][0])])\n",
    "    for i in range(len(mse[t])):\n",
    "        array[i] = np.array([val for key,val in np.array([val for key,val in mse[t].iteritems()])[i].iteritems()])\n",
    "    array = array.flatten()\n",
    "    return array"
   ]
  },
  {
   "cell_type": "code",
   "execution_count": 85,
   "metadata": {},
   "outputs": [
    {
     "name": "stdout",
     "output_type": "stream",
     "text": [
      "Populating the interactive namespace from numpy and matplotlib\n"
     ]
    },
    {
     "name": "stderr",
     "output_type": "stream",
     "text": [
      "/home/chenxupeng/apps/anaconda2/lib/python2.7/site-packages/IPython/core/magics/pylab.py:161: UserWarning: pylab import has clobbered these variables: ['shape']\n",
      "`%matplotlib` prevents importing * from pylab and numpy\n",
      "  \"\\n`%matplotlib` prevents importing * from pylab and numpy\"\n"
     ]
    }
   ],
   "source": [
    "%pylab inline"
   ]
  },
  {
   "cell_type": "code",
   "execution_count": 87,
   "metadata": {},
   "outputs": [
    {
     "data": {
      "text/plain": [
       "(array([ 1.,  2.,  1.,  1.,  1.,  0.,  1.,  0.,  1.,  3.,  0.,  2.,  0.,\n",
       "         5.,  4.,  0.,  3.,  3.,  3.,  7.,  4.,  3.,  3.,  3.,  1.,  0.,\n",
       "         3.,  4.,  4.,  1.,  1.,  2.,  2.,  5.,  3.,  5.,  3.,  1.,  1.,\n",
       "         3.,  2.,  4.,  1.,  0.,  1.,  0.,  1.,  0.,  0.,  1.]),\n",
       " array([ 0.24797349,  0.25062591,  0.25327834,  0.25593076,  0.25858318,\n",
       "         0.26123561,  0.26388803,  0.26654046,  0.26919288,  0.27184531,\n",
       "         0.27449773,  0.27715015,  0.27980258,  0.282455  ,  0.28510743,\n",
       "         0.28775985,  0.29041228,  0.2930647 ,  0.29571712,  0.29836955,\n",
       "         0.30102197,  0.3036744 ,  0.30632682,  0.30897925,  0.31163167,\n",
       "         0.31428409,  0.31693652,  0.31958894,  0.32224137,  0.32489379,\n",
       "         0.32754622,  0.33019864,  0.33285106,  0.33550349,  0.33815591,\n",
       "         0.34080834,  0.34346076,  0.34611318,  0.34876561,  0.35141803,\n",
       "         0.35407046,  0.35672288,  0.35937531,  0.36202773,  0.36468015,\n",
       "         0.36733258,  0.369985  ,  0.37263743,  0.37528985,  0.37794228,\n",
       "         0.3805947 ]),\n",
       " <a list of 50 Patch objects>)"
      ]
     },
     "execution_count": 87,
     "metadata": {},
     "output_type": "execute_result"
    },
    {
     "data": {
      "image/png": "[encoded data removed]",
      "text/plain": [
       "<matplotlib.figure.Figure at 0x7fdb40aa7510>"
      ]
     },
     "metadata": {},
     "output_type": "display_data"
    }
   ],
   "source": [
    "hist(dict_array(mse,94),bins = 50)"
   ]
  },
  {
   "cell_type": "code",
   "execution_count": 88,
   "metadata": {},
   "outputs": [
    {
     "name": "stdout",
     "output_type": "stream",
     "text": [
      "__________________________________________________________________________________________________\n",
      "Layer (type)                    Output Shape         Param #     Connected to                     \n",
      "==================================================================================================\n",
      "input_3 (InputLayer)            (None, 128, 128, 16) 0                                            \n",
      "__________________________________________________________________________________________________\n",
      "conv2d_47 (Conv2D)              (None, 128, 128, 32) 4640        input_3[0][0]                    \n",
      "__________________________________________________________________________________________________\n",
      "batch_normalization_47 (BatchNo (None, 128, 128, 32) 128         conv2d_47[0][0]                  \n",
      "__________________________________________________________________________________________________\n",
      "activation_47 (Activation)      (None, 128, 128, 32) 0           batch_normalization_47[0][0]     \n",
      "__________________________________________________________________________________________________\n",
      "conv2d_48 (Conv2D)              (None, 128, 128, 32) 9248        activation_47[0][0]              \n",
      "__________________________________________________________________________________________________\n",
      "batch_normalization_48 (BatchNo (None, 128, 128, 32) 128         conv2d_48[0][0]                  \n",
      "__________________________________________________________________________________________________\n",
      "activation_48 (Activation)      (None, 128, 128, 32) 0           batch_normalization_48[0][0]     \n",
      "__________________________________________________________________________________________________\n",
      "dropout_21 (Dropout)            (None, 128, 128, 32) 0           activation_48[0][0]              \n",
      "__________________________________________________________________________________________________\n",
      "max_pooling2d_11 (MaxPooling2D) (None, 64, 64, 32)   0           dropout_21[0][0]                 \n",
      "__________________________________________________________________________________________________\n",
      "conv2d_49 (Conv2D)              (None, 64, 64, 64)   18496       max_pooling2d_11[0][0]           \n",
      "__________________________________________________________________________________________________\n",
      "batch_normalization_49 (BatchNo (None, 64, 64, 64)   256         conv2d_49[0][0]                  \n",
      "__________________________________________________________________________________________________\n",
      "activation_49 (Activation)      (None, 64, 64, 64)   0           batch_normalization_49[0][0]     \n",
      "__________________________________________________________________________________________________\n",
      "conv2d_50 (Conv2D)              (None, 64, 64, 64)   36928       activation_49[0][0]              \n",
      "__________________________________________________________________________________________________\n",
      "batch_normalization_50 (BatchNo (None, 64, 64, 64)   256         conv2d_50[0][0]                  \n",
      "__________________________________________________________________________________________________\n",
      "activation_50 (Activation)      (None, 64, 64, 64)   0           batch_normalization_50[0][0]     \n",
      "__________________________________________________________________________________________________\n",
      "dropout_22 (Dropout)            (None, 64, 64, 64)   0           activation_50[0][0]              \n",
      "__________________________________________________________________________________________________\n",
      "max_pooling2d_12 (MaxPooling2D) (None, 32, 32, 64)   0           dropout_22[0][0]                 \n",
      "__________________________________________________________________________________________________\n",
      "conv2d_51 (Conv2D)              (None, 32, 32, 128)  73856       max_pooling2d_12[0][0]           \n",
      "__________________________________________________________________________________________________\n",
      "batch_normalization_51 (BatchNo (None, 32, 32, 128)  512         conv2d_51[0][0]                  \n",
      "__________________________________________________________________________________________________\n",
      "activation_51 (Activation)      (None, 32, 32, 128)  0           batch_normalization_51[0][0]     \n",
      "__________________________________________________________________________________________________\n",
      "conv2d_52 (Conv2D)              (None, 32, 32, 128)  147584      activation_51[0][0]              \n",
      "__________________________________________________________________________________________________\n",
      "batch_normalization_52 (BatchNo (None, 32, 32, 128)  512         conv2d_52[0][0]                  \n",
      "__________________________________________________________________________________________________\n",
      "activation_52 (Activation)      (None, 32, 32, 128)  0           batch_normalization_52[0][0]     \n",
      "__________________________________________________________________________________________________\n",
      "dropout_23 (Dropout)            (None, 32, 32, 128)  0           activation_52[0][0]              \n",
      "__________________________________________________________________________________________________\n",
      "max_pooling2d_13 (MaxPooling2D) (None, 16, 16, 128)  0           dropout_23[0][0]                 \n",
      "__________________________________________________________________________________________________\n",
      "conv2d_53 (Conv2D)              (None, 16, 16, 256)  295168      max_pooling2d_13[0][0]           \n",
      "__________________________________________________________________________________________________\n",
      "batch_normalization_53 (BatchNo (None, 16, 16, 256)  1024        conv2d_53[0][0]                  \n",
      "__________________________________________________________________________________________________\n",
      "activation_53 (Activation)      (None, 16, 16, 256)  0           batch_normalization_53[0][0]     \n",
      "__________________________________________________________________________________________________\n",
      "conv2d_54 (Conv2D)              (None, 16, 16, 256)  590080      activation_53[0][0]              \n",
      "__________________________________________________________________________________________________\n",
      "batch_normalization_54 (BatchNo (None, 16, 16, 256)  1024        conv2d_54[0][0]                  \n",
      "__________________________________________________________________________________________________\n",
      "activation_54 (Activation)      (None, 16, 16, 256)  0           batch_normalization_54[0][0]     \n",
      "__________________________________________________________________________________________________\n",
      "dropout_24 (Dropout)            (None, 16, 16, 256)  0           activation_54[0][0]              \n",
      "__________________________________________________________________________________________________\n",
      "max_pooling2d_14 (MaxPooling2D) (None, 8, 8, 256)    0           dropout_24[0][0]                 \n",
      "__________________________________________________________________________________________________\n",
      "conv2d_55 (Conv2D)              (None, 8, 8, 512)    1180160     max_pooling2d_14[0][0]           \n",
      "__________________________________________________________________________________________________\n",
      "batch_normalization_55 (BatchNo (None, 8, 8, 512)    2048        conv2d_55[0][0]                  \n",
      "__________________________________________________________________________________________________\n",
      "activation_55 (Activation)      (None, 8, 8, 512)    0           batch_normalization_55[0][0]     \n",
      "__________________________________________________________________________________________________\n",
      "conv2d_56 (Conv2D)              (None, 8, 8, 512)    2359808     activation_55[0][0]              \n",
      "__________________________________________________________________________________________________\n",
      "batch_normalization_56 (BatchNo (None, 8, 8, 512)    2048        conv2d_56[0][0]                  \n",
      "__________________________________________________________________________________________________\n",
      "activation_56 (Activation)      (None, 8, 8, 512)    0           batch_normalization_56[0][0]     \n",
      "__________________________________________________________________________________________________\n",
      "dropout_25 (Dropout)            (None, 8, 8, 512)    0           activation_56[0][0]              \n",
      "__________________________________________________________________________________________________\n",
      "max_pooling2d_15 (MaxPooling2D) (None, 4, 4, 512)    0           dropout_25[0][0]                 \n",
      "__________________________________________________________________________________________________\n",
      "conv2d_57 (Conv2D)              (None, 4, 4, 1024)   4719616     max_pooling2d_15[0][0]           \n",
      "__________________________________________________________________________________________________\n",
      "batch_normalization_57 (BatchNo (None, 4, 4, 1024)   4096        conv2d_57[0][0]                  \n",
      "__________________________________________________________________________________________________\n",
      "activation_57 (Activation)      (None, 4, 4, 1024)   0           batch_normalization_57[0][0]     \n",
      "__________________________________________________________________________________________________\n",
      "conv2d_58 (Conv2D)              (None, 4, 4, 1024)   9438208     activation_57[0][0]              \n",
      "__________________________________________________________________________________________________\n",
      "batch_normalization_58 (BatchNo (None, 4, 4, 1024)   4096        conv2d_58[0][0]                  \n",
      "__________________________________________________________________________________________________\n",
      "activation_58 (Activation)      (None, 4, 4, 1024)   0           batch_normalization_58[0][0]     \n",
      "__________________________________________________________________________________________________\n",
      "dropout_26 (Dropout)            (None, 4, 4, 1024)   0           activation_58[0][0]              \n",
      "__________________________________________________________________________________________________\n",
      "up_sampling2d_11 (UpSampling2D) (None, 8, 8, 1024)   0           dropout_26[0][0]                 \n",
      "__________________________________________________________________________________________________\n",
      "concatenate_11 (Concatenate)    (None, 8, 8, 1536)   0           up_sampling2d_11[0][0]           \n",
      "                                                                 dropout_25[0][0]                 \n",
      "__________________________________________________________________________________________________\n",
      "conv2d_59 (Conv2D)              (None, 8, 8, 512)    7078400     concatenate_11[0][0]             \n",
      "__________________________________________________________________________________________________\n",
      "batch_normalization_59 (BatchNo (None, 8, 8, 512)    2048        conv2d_59[0][0]                  \n",
      "__________________________________________________________________________________________________\n",
      "activation_59 (Activation)      (None, 8, 8, 512)    0           batch_normalization_59[0][0]     \n",
      "__________________________________________________________________________________________________\n",
      "conv2d_60 (Conv2D)              (None, 8, 8, 512)    2359808     activation_59[0][0]              \n",
      "__________________________________________________________________________________________________\n",
      "batch_normalization_60 (BatchNo (None, 8, 8, 512)    2048        conv2d_60[0][0]                  \n",
      "__________________________________________________________________________________________________\n",
      "activation_60 (Activation)      (None, 8, 8, 512)    0           batch_normalization_60[0][0]     \n",
      "__________________________________________________________________________________________________\n",
      "dropout_27 (Dropout)            (None, 8, 8, 512)    0           activation_60[0][0]              \n",
      "__________________________________________________________________________________________________\n",
      "up_sampling2d_12 (UpSampling2D) (None, 16, 16, 512)  0           dropout_27[0][0]                 \n",
      "__________________________________________________________________________________________________\n",
      "concatenate_12 (Concatenate)    (None, 16, 16, 768)  0           up_sampling2d_12[0][0]           \n",
      "                                                                 dropout_24[0][0]                 \n",
      "__________________________________________________________________________________________________\n",
      "conv2d_61 (Conv2D)              (None, 16, 16, 256)  1769728     concatenate_12[0][0]             \n",
      "__________________________________________________________________________________________________\n",
      "batch_normalization_61 (BatchNo (None, 16, 16, 256)  1024        conv2d_61[0][0]                  \n",
      "__________________________________________________________________________________________________\n",
      "activation_61 (Activation)      (None, 16, 16, 256)  0           batch_normalization_61[0][0]     \n",
      "__________________________________________________________________________________________________\n",
      "conv2d_62 (Conv2D)              (None, 16, 16, 256)  590080      activation_61[0][0]              \n",
      "__________________________________________________________________________________________________\n",
      "batch_normalization_62 (BatchNo (None, 16, 16, 256)  1024        conv2d_62[0][0]                  \n",
      "__________________________________________________________________________________________________\n",
      "activation_62 (Activation)      (None, 16, 16, 256)  0           batch_normalization_62[0][0]     \n",
      "__________________________________________________________________________________________________\n",
      "dropout_28 (Dropout)            (None, 16, 16, 256)  0           activation_62[0][0]              \n",
      "__________________________________________________________________________________________________\n",
      "up_sampling2d_13 (UpSampling2D) (None, 32, 32, 256)  0           dropout_28[0][0]                 \n",
      "__________________________________________________________________________________________________\n",
      "concatenate_13 (Concatenate)    (None, 32, 32, 384)  0           up_sampling2d_13[0][0]           \n",
      "                                                                 dropout_23[0][0]                 \n",
      "__________________________________________________________________________________________________\n",
      "conv2d_63 (Conv2D)              (None, 32, 32, 128)  442496      concatenate_13[0][0]             \n",
      "__________________________________________________________________________________________________\n",
      "batch_normalization_63 (BatchNo (None, 32, 32, 128)  512         conv2d_63[0][0]                  \n",
      "__________________________________________________________________________________________________\n",
      "activation_63 (Activation)      (None, 32, 32, 128)  0           batch_normalization_63[0][0]     \n",
      "__________________________________________________________________________________________________\n",
      "conv2d_64 (Conv2D)              (None, 32, 32, 128)  147584      activation_63[0][0]              \n",
      "__________________________________________________________________________________________________\n",
      "batch_normalization_64 (BatchNo (None, 32, 32, 128)  512         conv2d_64[0][0]                  \n",
      "__________________________________________________________________________________________________\n",
      "activation_64 (Activation)      (None, 32, 32, 128)  0           batch_normalization_64[0][0]     \n",
      "__________________________________________________________________________________________________\n",
      "dropout_29 (Dropout)            (None, 32, 32, 128)  0           activation_64[0][0]              \n",
      "__________________________________________________________________________________________________\n",
      "up_sampling2d_14 (UpSampling2D) (None, 64, 64, 128)  0           dropout_29[0][0]                 \n",
      "__________________________________________________________________________________________________\n",
      "concatenate_14 (Concatenate)    (None, 64, 64, 192)  0           up_sampling2d_14[0][0]           \n",
      "                                                                 dropout_22[0][0]                 \n",
      "__________________________________________________________________________________________________\n",
      "conv2d_65 (Conv2D)              (None, 64, 64, 64)   110656      concatenate_14[0][0]             \n",
      "__________________________________________________________________________________________________\n",
      "batch_normalization_65 (BatchNo (None, 64, 64, 64)   256         conv2d_65[0][0]                  \n",
      "__________________________________________________________________________________________________\n",
      "activation_65 (Activation)      (None, 64, 64, 64)   0           batch_normalization_65[0][0]     \n",
      "__________________________________________________________________________________________________\n",
      "conv2d_66 (Conv2D)              (None, 64, 64, 64)   36928       activation_65[0][0]              \n",
      "__________________________________________________________________________________________________\n",
      "batch_normalization_66 (BatchNo (None, 64, 64, 64)   256         conv2d_66[0][0]                  \n",
      "__________________________________________________________________________________________________\n",
      "activation_66 (Activation)      (None, 64, 64, 64)   0           batch_normalization_66[0][0]     \n",
      "__________________________________________________________________________________________________\n",
      "dropout_30 (Dropout)            (None, 64, 64, 64)   0           activation_66[0][0]              \n",
      "__________________________________________________________________________________________________\n",
      "up_sampling2d_15 (UpSampling2D) (None, 128, 128, 64) 0           dropout_30[0][0]                 \n",
      "__________________________________________________________________________________________________\n",
      "concatenate_15 (Concatenate)    (None, 128, 128, 96) 0           up_sampling2d_15[0][0]           \n",
      "                                                                 dropout_21[0][0]                 \n",
      "__________________________________________________________________________________________________\n",
      "conv2d_67 (Conv2D)              (None, 128, 128, 32) 27680       concatenate_15[0][0]             \n",
      "__________________________________________________________________________________________________\n",
      "batch_normalization_67 (BatchNo (None, 128, 128, 32) 128         conv2d_67[0][0]                  \n",
      "__________________________________________________________________________________________________\n",
      "activation_67 (Activation)      (None, 128, 128, 32) 0           batch_normalization_67[0][0]     \n",
      "__________________________________________________________________________________________________\n",
      "conv2d_68 (Conv2D)              (None, 128, 128, 32) 9248        activation_67[0][0]              \n",
      "__________________________________________________________________________________________________\n",
      "batch_normalization_68 (BatchNo (None, 128, 128, 32) 128         conv2d_68[0][0]                  \n",
      "__________________________________________________________________________________________________\n",
      "activation_68 (Activation)      (None, 128, 128, 32) 0           batch_normalization_68[0][0]     \n",
      "__________________________________________________________________________________________________\n",
      "conv2d_69 (Conv2D)              (None, 128, 128, 1)  33          activation_68[0][0]              \n",
      "__________________________________________________________________________________________________\n",
      "batch_normalization_69 (BatchNo (None, 128, 128, 1)  4           conv2d_69[0][0]                  \n",
      "__________________________________________________________________________________________________\n",
      "activation_69 (Activation)      (None, 128, 128, 1)  0           batch_normalization_69[0][0]     \n",
      "__________________________________________________________________________________________________\n",
      "lambda_5 (Lambda)               (None, 128)          0           activation_69[0][0]              \n",
      "__________________________________________________________________________________________________\n",
      "reshape_3 (Reshape)             (None, 128)          0           lambda_5[0][0]                   \n",
      "__________________________________________________________________________________________________\n",
      "lambda_6 (Lambda)               (None, 128)          0           reshape_3[0][0]                  \n",
      "==================================================================================================\n",
      "Total params: 31,470,501\n",
      "Trainable params: 31,458,467\n",
      "Non-trainable params: 12,034\n",
      "__________________________________________________________________________________________________\n"
     ]
    }
   ],
   "source": [
    "model.summary()"
   ]
  },
  {
   "cell_type": "code",
   "execution_count": 108,
   "metadata": {},
   "outputs": [
    {
     "data": {
      "text/plain": [
       "<matplotlib.image.AxesImage at 0x7fdb222708d0>"
      ]
     },
     "execution_count": 108,
     "metadata": {},
     "output_type": "execute_result"
    },
    {
     "data": {
      "image/png": "[encoded data removed]",
      "text/plain": [
       "<matplotlib.figure.Figure at 0x7fdb316794d0>"
      ]
     },
     "metadata": {},
     "output_type": "display_data"
    }
   ],
   "source": [
    "#imshow 查看输出  94  91\n",
    "imshow(layer_outs[94][3,:,:,0],cmap=cm.RdBu_r)"
   ]
  },
  {
   "cell_type": "code",
   "execution_count": null,
   "metadata": {},
   "outputs": [],
   "source": []
  },
  {
   "cell_type": "code",
   "execution_count": null,
   "metadata": {},
   "outputs": [],
   "source": []
  }
 ],
 "metadata": {
  "kernelspec": {
   "display_name": "Python 2",
   "language": "python",
   "name": "python2"
  },
  "language_info": {
   "codemirror_mode": {
    "name": "ipython",
    "version": 2
   },
   "file_extension": ".py",
   "mimetype": "text/x-python",
   "name": "python",
   "nbconvert_exporter": "python",
   "pygments_lexer": "ipython2",
   "version": "2.7.14"
  }
 },
 "nbformat": 4,
 "nbformat_minor": 2
}
