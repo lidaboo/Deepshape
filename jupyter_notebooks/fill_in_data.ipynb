{
 "cells": [
  {
   "cell_type": "code",
   "execution_count": 2,
   "metadata": {},
   "outputs": [],
   "source": [
    "import numpy as np\n",
    "import h5py\n",
    "from tqdm import tqdm"
   ]
  },
  {
   "cell_type": "code",
   "execution_count": 3,
   "metadata": {},
   "outputs": [
    {
     "name": "stdout",
     "output_type": "stream",
     "text": [
      "/home/chenxupeng/projects/deepshape\n"
     ]
    }
   ],
   "source": [
    "cd /home/chenxupeng/projects/deepshape/"
   ]
  },
  {
   "cell_type": "code",
   "execution_count": 7,
   "metadata": {},
   "outputs": [
    {
     "name": "stdout",
     "output_type": "stream",
     "text": [
      "[u'X_test', u'X_train', u'names_test', u'names_train', u'y_test', u'y_train']\n"
     ]
    }
   ],
   "source": [
    "with h5py.File('data/new/Spitale_2015_invivo_CDS_0.1') as f:\n",
    "    X_train = f['X_train'][:]\n",
    "    y_train = f['y_train'][:]\n",
    "    names_train = f['names_train'][:]\n",
    "    print f.keys()"
   ]
  },
  {
   "cell_type": "code",
   "execution_count": 6,
   "metadata": {},
   "outputs": [
    {
     "data": {
      "text/plain": [
       "array(['ENSMUST00000027232.13-CDS', 'ENSMUST00000070080.5-CDS',\n",
       "       'ENSMUST00000072751.12-CDS', ..., 'ENSMUST00000022629.8-CDS',\n",
       "       'ENSMUST00000031779.16-CDS', 'ENSMUST00000147812.7-CDS'],\n",
       "      dtype='|S25')"
      ]
     },
     "execution_count": 6,
     "metadata": {},
     "output_type": "execute_result"
    }
   ],
   "source": [
    "names_train"
   ]
  },
  {
   "cell_type": "code",
   "execution_count": 9,
   "metadata": {},
   "outputs": [],
   "source": [
    "with h5py.File('/home/chenxupeng/projects/deepshape/data/icSHAPE/Spitale_2015_invitro/CDS') as f:\n",
    "    name = f['name'][:]\n",
    "    start = f['start'][:]\n",
    "    end = f['end'][:]\n",
    "length = start-end"
   ]
  },
  {
   "cell_type": "code",
   "execution_count": 10,
   "metadata": {},
   "outputs": [
    {
     "data": {
      "text/plain": [
       "array(['ENSMUST00000027232.13-CDS', 'ENSMUST00000070080.5-CDS',\n",
       "       'ENSMUST00000072751.12-CDS', ..., 'ENSMUST00000022629.8-CDS',\n",
       "       'ENSMUST00000124979.2-CDS', 'ENSMUST00000031779.16-CDS'],\n",
       "      dtype='|S25')"
      ]
     },
     "execution_count": 10,
     "metadata": {},
     "output_type": "execute_result"
    }
   ],
   "source": [
    "name"
   ]
  },
  {
   "cell_type": "code",
   "execution_count": null,
   "metadata": {},
   "outputs": [],
   "source": []
  }
 ],
 "metadata": {
  "kernelspec": {
   "display_name": "Python 2",
   "language": "python",
   "name": "python2"
  },
  "language_info": {
   "codemirror_mode": {
    "name": "ipython",
    "version": 2
   },
   "file_extension": ".py",
   "mimetype": "text/x-python",
   "name": "python",
   "nbconvert_exporter": "python",
   "pygments_lexer": "ipython2",
   "version": "2.7.14"
  }
 },
 "nbformat": 4,
 "nbformat_minor": 2
}
