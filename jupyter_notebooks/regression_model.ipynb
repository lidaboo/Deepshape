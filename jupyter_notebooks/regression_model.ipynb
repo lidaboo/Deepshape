{
 "cells": [
  {
   "cell_type": "code",
   "execution_count": 26,
   "metadata": {},
   "outputs": [
    {
     "name": "stdout",
     "output_type": "stream",
     "text": [
      "Populating the interactive namespace from numpy and matplotlib\n"
     ]
    },
    {
     "name": "stderr",
     "output_type": "stream",
     "text": [
      "/Share/home/chenxupeng/anaconda2/lib/python2.7/site-packages/IPython/core/magics/pylab.py:161: UserWarning: pylab import has clobbered these variables: ['f', 'isnan']\n",
      "`%matplotlib` prevents importing * from pylab and numpy\n",
      "  \"\\n`%matplotlib` prevents importing * from pylab and numpy\"\n"
     ]
    }
   ],
   "source": [
    "%pylab inline"
   ]
  },
  {
   "cell_type": "code",
   "execution_count": null,
   "metadata": {
    "collapsed": true
   },
   "outputs": [],
   "source": []
  },
  {
   "cell_type": "code",
   "execution_count": 27,
   "metadata": {},
   "outputs": [
    {
     "name": "stdout",
     "output_type": "stream",
     "text": [
      "/Share/home/shibinbin/projects/Deepfold2\n"
     ]
    }
   ],
   "source": [
    "cd /Share/home/chenxupeng/shibinbin/projects/Deepfold2/"
   ]
  },
  {
   "cell_type": "code",
   "execution_count": 28,
   "metadata": {
    "collapsed": true
   },
   "outputs": [],
   "source": [
    "import h5py\n",
    "predictions = {}\n",
    "with h5py.File('output/Known/icSHAPE/Spitale_2015_invitro/r=all,w=128,m=fcn1,reg=1', 'r') as f:\n",
    "    for seqname in f.keys():\n",
    "        g = f[seqname]\n",
    "        predictions[seqname] = {}\n",
    "        for key in g.keys():\n",
    "            predictions[seqname][key] = g[key][:]"
   ]
  },
  {
   "cell_type": "code",
   "execution_count": 29,
   "metadata": {},
   "outputs": [
    {
     "data": {
      "text/plain": [
       "540"
      ]
     },
     "execution_count": 29,
     "metadata": {},
     "output_type": "execute_result"
    }
   ],
   "source": [
    "len(predictions)"
   ]
  },
  {
   "cell_type": "code",
   "execution_count": 30,
   "metadata": {
    "collapsed": true
   },
   "outputs": [],
   "source": [
    "name = {}\n",
    "for i in range(540):\n",
    "    name[i] = predictions.keys()[i].split('_')[0]"
   ]
  },
  {
   "cell_type": "code",
   "execution_count": 31,
   "metadata": {},
   "outputs": [
    {
     "data": {
      "text/plain": [
       "{0: u'tRNA',\n",
       " 1: u'srp',\n",
       " 2: u'grp1',\n",
       " 3: u'tmRNA',\n",
       " 4: u'RNaseP',\n",
       " 5: u'tmRNA',\n",
       " 6: u'srp',\n",
       " 7: u'grp2',\n",
       " 8: u'tRNA',\n",
       " 9: u'16s',\n",
       " 10: u'srp',\n",
       " 11: u'tRNA',\n",
       " 12: u'grp1',\n",
       " 13: u'RNaseP',\n",
       " 14: u'RNaseP',\n",
       " 15: u'grp1',\n",
       " 16: u'srp',\n",
       " 17: u'RNaseP',\n",
       " 18: u'tRNA',\n",
       " 19: u'tRNA',\n",
       " 20: u'RNaseP',\n",
       " 21: u'RNaseP',\n",
       " 22: u'RNaseP',\n",
       " 23: u'srp',\n",
       " 24: u'grp1',\n",
       " 25: u'tmRNA',\n",
       " 26: u'tmRNA',\n",
       " 27: u'tmRNA',\n",
       " 28: u'srp',\n",
       " 29: u'tRNA',\n",
       " 30: u'RNaseP',\n",
       " 31: u'tRNA',\n",
       " 32: u'grp1',\n",
       " 33: u'srp',\n",
       " 34: u'srp',\n",
       " 35: u'grp1',\n",
       " 36: u'grp1',\n",
       " 37: u'RNaseP',\n",
       " 38: u'5s',\n",
       " 39: u'RNaseP',\n",
       " 40: u'16s',\n",
       " 41: u'grp1',\n",
       " 42: u'grp1',\n",
       " 43: u'16s',\n",
       " 44: u'16s',\n",
       " 45: u'RNaseP',\n",
       " 46: u'tRNA',\n",
       " 47: u'srp',\n",
       " 48: u'grp2',\n",
       " 49: u'RNaseP',\n",
       " 50: u'grp1',\n",
       " 51: u'tmRNA',\n",
       " 52: u'telomerase',\n",
       " 53: u'srp',\n",
       " 54: u'grp1',\n",
       " 55: u'RNaseP',\n",
       " 56: u'srp',\n",
       " 57: u'tmRNA',\n",
       " 58: u'tRNA',\n",
       " 59: u'RNaseP',\n",
       " 60: u'RNaseP',\n",
       " 61: u'tmRNA',\n",
       " 62: u'srp',\n",
       " 63: u'srp',\n",
       " 64: u'5s',\n",
       " 65: u'grp2',\n",
       " 66: u'grp1',\n",
       " 67: u'tRNA',\n",
       " 68: u'tRNA',\n",
       " 69: u'tRNA',\n",
       " 70: u'srp',\n",
       " 71: u'tRNA',\n",
       " 72: u'srp',\n",
       " 73: u'srp',\n",
       " 74: u'tmRNA',\n",
       " 75: u'tRNA',\n",
       " 76: u'tRNA',\n",
       " 77: u'grp1',\n",
       " 78: u'srp',\n",
       " 79: u'srp',\n",
       " 80: u'tRNA',\n",
       " 81: u'srp',\n",
       " 82: u'telomerase',\n",
       " 83: u'srp',\n",
       " 84: u'telomerase',\n",
       " 85: u'tmRNA',\n",
       " 86: u'tRNA',\n",
       " 87: u'RNaseP',\n",
       " 88: u'tRNA',\n",
       " 89: u'tRNA',\n",
       " 90: u'srp',\n",
       " 91: u'RNaseP',\n",
       " 92: u'grp1',\n",
       " 93: u'tRNA',\n",
       " 94: u'tmRNA',\n",
       " 95: u'tRNA',\n",
       " 96: u'grp1',\n",
       " 97: u'srp',\n",
       " 98: u'srp',\n",
       " 99: u'RNaseP',\n",
       " 100: u'tmRNA',\n",
       " 101: u'grp1',\n",
       " 102: u'RNaseP',\n",
       " 103: u'tmRNA',\n",
       " 104: u'RNaseP',\n",
       " 105: u'RNaseP',\n",
       " 106: u'srp',\n",
       " 107: u'RNaseP',\n",
       " 108: u'RNaseP',\n",
       " 109: u'RNaseP',\n",
       " 110: u'tRNA',\n",
       " 111: u'tmRNA',\n",
       " 112: u'RNaseP',\n",
       " 113: u'srp',\n",
       " 114: u'srp',\n",
       " 115: u'tmRNA',\n",
       " 116: u'srp',\n",
       " 117: u'grp1',\n",
       " 118: u'srp',\n",
       " 119: u'tRNA',\n",
       " 120: u'tRNA',\n",
       " 121: u'srp',\n",
       " 122: u'tRNA',\n",
       " 123: u'RNaseP',\n",
       " 124: u'tmRNA',\n",
       " 125: u'tRNA',\n",
       " 126: u'srp',\n",
       " 127: u'tmRNA',\n",
       " 128: u'grp1',\n",
       " 129: u'telomerase',\n",
       " 130: u'5s',\n",
       " 131: u'srp',\n",
       " 132: u'srp',\n",
       " 133: u'tRNA',\n",
       " 134: u'RNaseP',\n",
       " 135: u'5s',\n",
       " 136: u'tmRNA',\n",
       " 137: u'srp',\n",
       " 138: u'RNaseP',\n",
       " 139: u'grp2',\n",
       " 140: u'RNaseP',\n",
       " 141: u'5s',\n",
       " 142: u'grp1',\n",
       " 143: u'grp1',\n",
       " 144: u'tmRNA',\n",
       " 145: u'tRNA',\n",
       " 146: u'srp',\n",
       " 147: u'RNaseP',\n",
       " 148: u'5s',\n",
       " 149: u'srp',\n",
       " 150: u'RNaseP',\n",
       " 151: u'RNaseP',\n",
       " 152: u'5s',\n",
       " 153: u'telomerase',\n",
       " 154: u'srp',\n",
       " 155: u'srp',\n",
       " 156: u'tRNA',\n",
       " 157: u'tmRNA',\n",
       " 158: u'tmRNA',\n",
       " 159: u'grp1',\n",
       " 160: u'tmRNA',\n",
       " 161: u'RNaseP',\n",
       " 162: u'16s',\n",
       " 163: u'16s',\n",
       " 164: u'16s',\n",
       " 165: u'tmRNA',\n",
       " 166: u'16s',\n",
       " 167: u'srp',\n",
       " 168: u'RNaseP',\n",
       " 169: u'16s',\n",
       " 170: u'16s',\n",
       " 171: u'16s',\n",
       " 172: u'16s',\n",
       " 173: u'RNaseP',\n",
       " 174: u'srp',\n",
       " 175: u'tmRNA',\n",
       " 176: u'srp',\n",
       " 177: u'srp',\n",
       " 178: u'srp',\n",
       " 179: u'tmRNA',\n",
       " 180: u'srp',\n",
       " 181: u'srp',\n",
       " 182: u'RNaseP',\n",
       " 183: u'RNaseP',\n",
       " 184: u'tmRNA',\n",
       " 185: u'srp',\n",
       " 186: u'srp',\n",
       " 187: u'tmRNA',\n",
       " 188: u'RNaseP',\n",
       " 189: u'tRNA',\n",
       " 190: u'RNaseP',\n",
       " 191: u'RNaseP',\n",
       " 192: u'RNaseP',\n",
       " 193: u'tRNA',\n",
       " 194: u'RNaseP',\n",
       " 195: u'5s',\n",
       " 196: u'tmRNA',\n",
       " 197: u'srp',\n",
       " 198: u'RNaseP',\n",
       " 199: u'RNaseP',\n",
       " 200: u'srp',\n",
       " 201: u'5s',\n",
       " 202: u'srp',\n",
       " 203: u'tmRNA',\n",
       " 204: u'srp',\n",
       " 205: u'tRNA',\n",
       " 206: u'srp',\n",
       " 207: u'tRNA',\n",
       " 208: u'grp1',\n",
       " 209: u'srp',\n",
       " 210: u'srp',\n",
       " 211: u'23s',\n",
       " 212: u'23s',\n",
       " 213: u'23s',\n",
       " 214: u'23s',\n",
       " 215: u'tRNA',\n",
       " 216: u'23s',\n",
       " 217: u'23s',\n",
       " 218: u'srp',\n",
       " 219: u'tmRNA',\n",
       " 220: u'tmRNA',\n",
       " 221: u'srp',\n",
       " 222: u'tmRNA',\n",
       " 223: u'tRNA',\n",
       " 224: u'grp1',\n",
       " 225: u'tmRNA',\n",
       " 226: u'RNaseP',\n",
       " 227: u'RNaseP',\n",
       " 228: u'tmRNA',\n",
       " 229: u'tmRNA',\n",
       " 230: u'tmRNA',\n",
       " 231: u'srp',\n",
       " 232: u'tmRNA',\n",
       " 233: u'srp',\n",
       " 234: u'srp',\n",
       " 235: u'srp',\n",
       " 236: u'tmRNA',\n",
       " 237: u'RNaseP',\n",
       " 238: u'tmRNA',\n",
       " 239: u'RNaseP',\n",
       " 240: u'grp2',\n",
       " 241: u'grp1',\n",
       " 242: u'RNaseP',\n",
       " 243: u'tRNA',\n",
       " 244: u'srp',\n",
       " 245: u'RNaseP',\n",
       " 246: u'grp1',\n",
       " 247: u'tRNA',\n",
       " 248: u'tmRNA',\n",
       " 249: u'RNaseP',\n",
       " 250: u'grp1',\n",
       " 251: u'RNaseP',\n",
       " 252: u'tmRNA',\n",
       " 253: u'tRNA',\n",
       " 254: u'srp',\n",
       " 255: u'srp',\n",
       " 256: u'srp',\n",
       " 257: u'tRNA',\n",
       " 258: u'RNaseP',\n",
       " 259: u'grp1',\n",
       " 260: u'RNaseP',\n",
       " 261: u'tmRNA',\n",
       " 262: u'tmRNA',\n",
       " 263: u'srp',\n",
       " 264: u'tRNA',\n",
       " 265: u'tRNA',\n",
       " 266: u'tRNA',\n",
       " 267: u'tmRNA',\n",
       " 268: u'RNaseP',\n",
       " 269: u'tmRNA',\n",
       " 270: u'16s',\n",
       " 271: u'16s',\n",
       " 272: u'16s',\n",
       " 273: u'16s',\n",
       " 274: u'srp',\n",
       " 275: u'tmRNA',\n",
       " 276: u'grp1',\n",
       " 277: u'tRNA',\n",
       " 278: u'srp',\n",
       " 279: u'tmRNA',\n",
       " 280: u'grp1',\n",
       " 281: u'16s',\n",
       " 282: u'srp',\n",
       " 283: u'srp',\n",
       " 284: u'srp',\n",
       " 285: u'grp1',\n",
       " 286: u'srp',\n",
       " 287: u'grp1',\n",
       " 288: u'RNaseP',\n",
       " 289: u'tmRNA',\n",
       " 290: u'grp1',\n",
       " 291: u'tRNA',\n",
       " 292: u'RNaseP',\n",
       " 293: u'RNaseP',\n",
       " 294: u'RNaseP',\n",
       " 295: u'srp',\n",
       " 296: u'tmRNA',\n",
       " 297: u'RNaseP',\n",
       " 298: u'tRNA',\n",
       " 299: u'srp',\n",
       " 300: u'tRNA',\n",
       " 301: u'tmRNA',\n",
       " 302: u'srp',\n",
       " 303: u'tmRNA',\n",
       " 304: u'srp',\n",
       " 305: u'RNaseP',\n",
       " 306: u'srp',\n",
       " 307: u'RNaseP',\n",
       " 308: u'RNaseP',\n",
       " 309: u'tmRNA',\n",
       " 310: u'tRNA',\n",
       " 311: u'srp',\n",
       " 312: u'tmRNA',\n",
       " 313: u'5s',\n",
       " 314: u'srp',\n",
       " 315: u'tmRNA',\n",
       " 316: u'RNaseP',\n",
       " 317: u'srp',\n",
       " 318: u'RNaseP',\n",
       " 319: u'tmRNA',\n",
       " 320: u'srp',\n",
       " 321: u'RNaseP',\n",
       " 322: u'srp',\n",
       " 323: u'RNaseP',\n",
       " 324: u'srp',\n",
       " 325: u'tmRNA',\n",
       " 326: u'grp1',\n",
       " 327: u'tmRNA',\n",
       " 328: u'telomerase',\n",
       " 329: u'5s',\n",
       " 330: u'tmRNA',\n",
       " 331: u'RNaseP',\n",
       " 332: u'tRNA',\n",
       " 333: u'srp',\n",
       " 334: u'RNaseP',\n",
       " 335: u'tmRNA',\n",
       " 336: u'grp1',\n",
       " 337: u'tRNA',\n",
       " 338: u'grp1',\n",
       " 339: u'tmRNA',\n",
       " 340: u'RNaseP',\n",
       " 341: u'grp1',\n",
       " 342: u'tmRNA',\n",
       " 343: u'RNaseP',\n",
       " 344: u'telomerase',\n",
       " 345: u'srp',\n",
       " 346: u'16s',\n",
       " 347: u'5s',\n",
       " 348: u'16s',\n",
       " 349: u'16s',\n",
       " 350: u'grp2',\n",
       " 351: u'srp',\n",
       " 352: u'tRNA',\n",
       " 353: u'RNaseP',\n",
       " 354: u'grp1',\n",
       " 355: u'RNaseP',\n",
       " 356: u'grp1',\n",
       " 357: u'srp',\n",
       " 358: u'srp',\n",
       " 359: u'srp',\n",
       " 360: u'5s',\n",
       " 361: u'5s',\n",
       " 362: u'16s',\n",
       " 363: u'16s',\n",
       " 364: u'16s',\n",
       " 365: u'tmRNA',\n",
       " 366: u'grp1',\n",
       " 367: u'RNaseP',\n",
       " 368: u'srp',\n",
       " 369: u'grp1',\n",
       " 370: u'grp1',\n",
       " 371: u'srp',\n",
       " 372: u'tmRNA',\n",
       " 373: u'srp',\n",
       " 374: u'srp',\n",
       " 375: u'grp1',\n",
       " 376: u'5s',\n",
       " 377: u'RNaseP',\n",
       " 378: u'tmRNA',\n",
       " 379: u'srp',\n",
       " 380: u'tmRNA',\n",
       " 381: u'RNaseP',\n",
       " 382: u'RNaseP',\n",
       " 383: u'tmRNA',\n",
       " 384: u'grp1',\n",
       " 385: u'srp',\n",
       " 386: u'srp',\n",
       " 387: u'grp1',\n",
       " 388: u'tRNA',\n",
       " 389: u'tmRNA',\n",
       " 390: u'srp',\n",
       " 391: u'tmRNA',\n",
       " 392: u'RNaseP',\n",
       " 393: u'RNaseP',\n",
       " 394: u'RNaseP',\n",
       " 395: u'grp1',\n",
       " 396: u'srp',\n",
       " 397: u'srp',\n",
       " 398: u'tmRNA',\n",
       " 399: u'tRNA',\n",
       " 400: u'tRNA',\n",
       " 401: u'srp',\n",
       " 402: u'RNaseP',\n",
       " 403: u'tmRNA',\n",
       " 404: u'tRNA',\n",
       " 405: u'RNaseP',\n",
       " 406: u'tmRNA',\n",
       " 407: u'telomerase',\n",
       " 408: u'grp2',\n",
       " 409: u'RNaseP',\n",
       " 410: u'srp',\n",
       " 411: u'RNaseP',\n",
       " 412: u'srp',\n",
       " 413: u'srp',\n",
       " 414: u'grp1',\n",
       " 415: u'5s',\n",
       " 416: u'srp',\n",
       " 417: u'RNaseP',\n",
       " 418: u'RNaseP',\n",
       " 419: u'RNaseP',\n",
       " 420: u'grp1',\n",
       " 421: u'tmRNA',\n",
       " 422: u'tRNA',\n",
       " 423: u'tmRNA',\n",
       " 424: u'RNaseP',\n",
       " 425: u'srp',\n",
       " 426: u'tRNA',\n",
       " 427: u'grp1',\n",
       " 428: u'5s',\n",
       " 429: u'srp',\n",
       " 430: u'RNaseP',\n",
       " 431: u'tmRNA',\n",
       " 432: u'5s',\n",
       " 433: u'RNaseP',\n",
       " 434: u'RNaseP',\n",
       " 435: u'RNaseP',\n",
       " 436: u'RNaseP',\n",
       " 437: u'tRNA',\n",
       " 438: u'srp',\n",
       " 439: u'srp',\n",
       " 440: u'srp',\n",
       " 441: u'grp2',\n",
       " 442: u'srp',\n",
       " 443: u'srp',\n",
       " 444: u'srp',\n",
       " 445: u'tmRNA',\n",
       " 446: u'srp',\n",
       " 447: u'tRNA',\n",
       " 448: u'srp',\n",
       " 449: u'srp',\n",
       " 450: u'srp',\n",
       " 451: u'telomerase',\n",
       " 452: u'tmRNA',\n",
       " 453: u'tRNA',\n",
       " 454: u'srp',\n",
       " 455: u'tRNA',\n",
       " 456: u'RNaseP',\n",
       " 457: u'tmRNA',\n",
       " 458: u'grp1',\n",
       " 459: u'grp1',\n",
       " 460: u'grp1',\n",
       " 461: u'srp',\n",
       " 462: u'RNaseP',\n",
       " 463: u'tmRNA',\n",
       " 464: u'srp',\n",
       " 465: u'tmRNA',\n",
       " 466: u'RNaseP',\n",
       " 467: u'tmRNA',\n",
       " 468: u'16s',\n",
       " 469: u'16s',\n",
       " 470: u'16s',\n",
       " 471: u'16s',\n",
       " 472: u'16s',\n",
       " 473: u'grp2',\n",
       " 474: u'tRNA',\n",
       " 475: u'RNaseP',\n",
       " 476: u'RNaseP',\n",
       " 477: u'srp',\n",
       " 478: u'srp',\n",
       " 479: u'grp2',\n",
       " 480: u'tmRNA',\n",
       " 481: u'5s',\n",
       " 482: u'RNaseP',\n",
       " 483: u'telomerase',\n",
       " 484: u'grp1',\n",
       " 485: u'tRNA',\n",
       " 486: u'srp',\n",
       " 487: u'srp',\n",
       " 488: u'srp',\n",
       " 489: u'RNaseP',\n",
       " 490: u'RNaseP',\n",
       " 491: u'srp',\n",
       " 492: u'tRNA',\n",
       " 493: u'RNaseP',\n",
       " 494: u'tRNA',\n",
       " 495: u'tmRNA',\n",
       " 496: u'grp2',\n",
       " 497: u'RNaseP',\n",
       " 498: u'tmRNA',\n",
       " 499: u'grp1',\n",
       " 500: u'tmRNA',\n",
       " 501: u'RNaseP',\n",
       " 502: u'srp',\n",
       " 503: u'srp',\n",
       " 504: u'RNaseP',\n",
       " 505: u'tRNA',\n",
       " 506: u'srp',\n",
       " 507: u'5s',\n",
       " 508: u'grp1',\n",
       " 509: u'tmRNA',\n",
       " 510: u'RNaseP',\n",
       " 511: u'grp1',\n",
       " 512: u'srp',\n",
       " 513: u'srp',\n",
       " 514: u'srp',\n",
       " 515: u'RNaseP',\n",
       " 516: u'tmRNA',\n",
       " 517: u'RNaseP',\n",
       " 518: u'RNaseP',\n",
       " 519: u'grp1',\n",
       " 520: u'tmRNA',\n",
       " 521: u'tRNA',\n",
       " 522: u'5s',\n",
       " 523: u'RNaseP',\n",
       " 524: u'telomerase',\n",
       " 525: u'grp1',\n",
       " 526: u'srp',\n",
       " 527: u'tRNA',\n",
       " 528: u'grp1',\n",
       " 529: u'RNaseP',\n",
       " 530: u'srp',\n",
       " 531: u'tmRNA',\n",
       " 532: u'5s',\n",
       " 533: u'tmRNA',\n",
       " 534: u'tmRNA',\n",
       " 535: u'RNaseP',\n",
       " 536: u'16s',\n",
       " 537: u'16s',\n",
       " 538: u'16s',\n",
       " 539: u'16s'}"
      ]
     },
     "execution_count": 31,
     "metadata": {},
     "output_type": "execute_result"
    }
   ],
   "source": [
    "name"
   ]
  },
  {
   "cell_type": "code",
   "execution_count": 32,
   "metadata": {},
   "outputs": [
    {
     "data": {
      "text/plain": [
       "<matplotlib.legend.Legend at 0x2b9e29acde10>"
      ]
     },
     "execution_count": 32,
     "metadata": {},
     "output_type": "execute_result"
    },
    {
     "data": {
      "image/png": "[encoded data removed]",
      "text/plain": [
       "<matplotlib.figure.Figure at 0x2b9e29850690>"
      ]
     },
     "metadata": {},
     "output_type": "display_data"
    }
   ],
   "source": [
    "seqname = predictions.keys()[4]\n",
    "fig, ax = subplots(figsize=(16, 3))\n",
    "ax.plot(-predictions[seqname]['predicted_values'], label='predicted')\n",
    "ax.plot(predictions[seqname]['true_labels'], label='known_structure')\n",
    "ax.legend()"
   ]
  },
  {
   "cell_type": "code",
   "execution_count": 101,
   "metadata": {},
   "outputs": [
    {
     "data": {
      "text/plain": [
       "u'16s_H.sapiens_domain4'"
      ]
     },
     "execution_count": 101,
     "metadata": {},
     "output_type": "execute_result"
    }
   ],
   "source": [
    "seqname"
   ]
  },
  {
   "cell_type": "code",
   "execution_count": 33,
   "metadata": {
    "collapsed": true
   },
   "outputs": [],
   "source": [
    "from scipy.stats import pearsonr"
   ]
  },
  {
   "cell_type": "code",
   "execution_count": 34,
   "metadata": {
    "collapsed": true
   },
   "outputs": [],
   "source": [
    "pcc = {}\n",
    "for i in range(540):\n",
    "    seqname = predictions.keys()[i]\n",
    "    pre = -predictions[seqname]['predicted_values']\n",
    "    true = predictions[seqname]['true_labels']\n",
    "    pcc[i] = pearsonr(pre,true)"
   ]
  },
  {
   "cell_type": "code",
   "execution_count": 35,
   "metadata": {},
   "outputs": [
    {
     "data": {
      "text/plain": [
       "{0: (-0.022086030036677431, 0.85389678335082286),\n",
       " 1: (0.054774466367258329, 0.59412164451331484),\n",
       " 2: (0.14487662116171524, 0.00049239166359081404),\n",
       " 3: (0.307297903843118, 4.1136930336574284e-09),\n",
       " 4: (0.24815489973907612, 5.3979142291223589e-05),\n",
       " 5: (0.19488665859117038, 0.0014622475362103386),\n",
       " 6: (0.018263971800974086, 0.7605027392687923),\n",
       " 7: (0.038635438301667289, 0.28365617022830569),\n",
       " 8: (-0.17424053629456232, 0.14324101798560562),\n",
       " 9: (nan, 1.0),\n",
       " 10: (0.074178063782823392, 0.52993415514813957),\n",
       " 11: (0.17803415501614867, 0.15593688230737621),\n",
       " 12: (0.28972969751706124, 2.3723489856743109e-09),\n",
       " 13: (0.052832222045768443, 0.25554061599836347),\n",
       " 14: (0.25336025678895252, 1.0567848116129041e-05),\n",
       " 15: (0.37242595695325542, 2.6205779296148003e-19),\n",
       " 16: (0.16642357624969073, 0.0033972516106152038),\n",
       " 17: (0.10016924106313686, 0.066668108492243194),\n",
       " 18: (0.024238256179128562, 0.82468779415008231),\n",
       " 19: (0.25108925180159342, 0.027617421621576939),\n",
       " 20: (0.37192240054715853, 4.1369241523593821e-11),\n",
       " 21: (0.34659960682255975, 5.9711316146284899e-08),\n",
       " 22: (0.26446414935082585, 1.1979446631976229e-07),\n",
       " 23: (0.010428142356800328, 0.91756627591498896),\n",
       " 24: (0.19071159857717238, 4.6654648728514136e-05),\n",
       " 25: (0.11462093983670114, 0.039513962039266909),\n",
       " 26: (-0.0093930851378502631, 0.8499728344940467),\n",
       " 27: (-0.0058051235971031002, 0.91067143067501233),\n",
       " 28: (0.0552439863604378, 0.49619155271790061),\n",
       " 29: (0.22024215651282592, 0.057603552915851876),\n",
       " 30: (0.034045507483885198, 0.51730807126604428),\n",
       " 31: (0.096880872159449433, 0.45380847957573167),\n",
       " 32: (0.049934452632021155, 0.33617134084533895),\n",
       " 33: (-0.017254267061612021, 0.8599826022282997),\n",
       " 34: (0.091374961558675416, 0.36838298915232015),\n",
       " 35: (0.24540801853454733, 2.6983634842592031e-06),\n",
       " 36: (0.09583985137183397, 0.14825756440889332),\n",
       " 37: (0.14971125717156458, 0.010024399592017591),\n",
       " 38: (0.039991785342784747, 0.66452360013884626),\n",
       " 39: (0.25766719603382693, 3.4092147668166402e-07),\n",
       " 40: (0.14852047677685856, 0.068760265862999714),\n",
       " 41: (0.16420441146757705, 0.00015512143332651701),\n",
       " 42: (0.23329066172509069, 2.8587422253959002e-06),\n",
       " 43: (0.39615670521747992, 1.3447255977594008e-22),\n",
       " 44: (0.36302851768556854, 3.245354865706924e-15),\n",
       " 45: (0.10279721054877397, 0.14245207749161218),\n",
       " 46: (0.28667903272821543, 0.0055963714559678791),\n",
       " 47: (0.064119922661562662, 0.31954101161258031),\n",
       " 48: (0.17524156636006918, 8.4560089348684686e-07),\n",
       " 49: (0.075928076736633446, 0.17613591546685656),\n",
       " 50: (0.011109171864456794, 0.8640591867569114),\n",
       " 51: (0.26561542119947784, 2.5084823644361366e-07),\n",
       " 52: (0.18404240442227723, 5.1690110396771932e-05),\n",
       " 53: (0.50982771364575941, 1.2287786357298151e-05),\n",
       " 54: (0.18474634002019438, 8.5445794397505974e-06),\n",
       " 55: (0.077630014319768834, 0.20779461308074812),\n",
       " 56: (-0.052265215278368436, 0.57405730319583048),\n",
       " 57: (0.082654733648389919, 0.12767847527346263),\n",
       " 58: (0.2382861482824021, 0.036895806804488375),\n",
       " 59: (0.2712274540652877, 3.8557465699034194e-08),\n",
       " 60: (0.27194826972357189, 1.4863701066345273e-06),\n",
       " 61: (0.31329352627005486, 2.9262045570131058e-10),\n",
       " 62: (-0.086170576394350634, 0.50544956712350875),\n",
       " 63: (-0.043834361862859314, 0.73089986427693632),\n",
       " 64: (-0.0012249054781758219, 0.98958808742503002),\n",
       " 65: (0.098188376399197932, 0.014530725808514075),\n",
       " 66: (-0.11012807747001856, 0.10488697377393381),\n",
       " 67: (0.16638144638980157, 0.15367512034748473),\n",
       " 68: (0.060256980430408037, 0.61510049097025621),\n",
       " 69: (-0.023713946257970211, 0.83887264291290908),\n",
       " 70: (0.14600628374751287, 0.1697069525270799),\n",
       " 71: (0.20307214592326581, 0.074560520807548089),\n",
       " 72: (0.050934570812802275, 0.61842730388726586),\n",
       " 73: (0.10184623119012574, 0.088940097013965214),\n",
       " 74: (-0.042437293185210417, 0.67192737873721642),\n",
       " 75: (0.019748101408874785, 0.86828933417323761),\n",
       " 76: (0.20914426779680917, 0.054735878322946283),\n",
       " 77: (0.20808810951911341, 7.7748369789626718e-07),\n",
       " 78: (0.064671300003347129, 0.54942404398524891),\n",
       " 79: (0.14182089903459419, 0.016204456671529147),\n",
       " 80: (0.069077306564688731, 0.60638447818032093),\n",
       " 81: (0.021039777954666064, 0.83292801143023221),\n",
       " 82: (0.15210182260741964, 0.0020122890388308266),\n",
       " 83: (0.026602017538544357, 0.55327573397513985),\n",
       " 84: (0.094322149818714021, 0.060433514178178487),\n",
       " 85: (0.22034777025913962, 2.3368467724154624e-05),\n",
       " 86: (-0.09465580216334632, 0.45687978906636328),\n",
       " 87: (0.2817716984724763, 3.1424819338260723e-10),\n",
       " 88: (0.15528563683811181, 0.15094926775264969),\n",
       " 89: (0.35669770590725147, 0.0015625205595116308),\n",
       " 90: (0.21534072664366843, 0.0010672299567002152),\n",
       " 91: (0.15507667026517696, 0.0058928647986660424),\n",
       " 92: (0.099880419555533242, 0.022999947574101454),\n",
       " 93: (0.065089594574783527, 0.57902219200543914),\n",
       " 94: (0.34151914706616204, 4.5898091130592252e-11),\n",
       " 95: (0.12549703265039944, 0.28669227981428241),\n",
       " 96: (0.1236574974808126, 0.0066766834149375983),\n",
       " 97: (0.11356971046511767, 0.062389655233674367),\n",
       " 98: (0.071594549245637615, 0.22498067248128076),\n",
       " 99: (0.27814540542387861, 2.1845159031045304e-06),\n",
       " 100: (0.16276663212348091, 0.0020945809240005314),\n",
       " 101: (0.17332550537415317, 0.00032548223567346185),\n",
       " 102: (0.37518254509474286, 1.6702029576178122e-12),\n",
       " 103: (0.1890285826577916, 0.00044893180458068145),\n",
       " 104: (0.29745161076102228, 5.3846411752804879e-09),\n",
       " 105: (0.30157985107631452, 1.6247890673032908e-09),\n",
       " 106: (0.16077810814557192, 0.1118875381362224),\n",
       " 107: (0.29686729424579883, 6.1522464785333582e-07),\n",
       " 108: (0.29771817000686501, 2.0808605649640433e-08),\n",
       " 109: (0.32265841946968404, 1.4750568409170262e-10),\n",
       " 110: (0.10351050919244092, 0.34582147705655719),\n",
       " 111: (0.28942101989037283, 2.5634870477403521e-08),\n",
       " 112: (0.38967327056994733, 1.0107709278984267e-09),\n",
       " 113: (0.22239373396726064, 7.834802083698481e-05),\n",
       " 114: (0.17020418057424982, 0.0031536597810267689),\n",
       " 115: (0.24981347934850939, 5.6794844295613341e-05),\n",
       " 116: (0.17188836061949445, 0.11353446640247845),\n",
       " 117: (0.18507193744422942, 7.2835729070054819e-05),\n",
       " 118: (0.10277138624891798, 0.0956479787224227),\n",
       " 119: (0.16560695861365193, 0.15004117732592687),\n",
       " 120: (0.073576456263164225, 0.50336438352165969),\n",
       " 121: (0.11274330218387997, 0.2846075281326792),\n",
       " 122: (-0.023231474057104892, 0.84424318593829284),\n",
       " 123: (0.036839877703032257, 0.46419094814298234),\n",
       " 124: (0.23671446752122063, 6.5272291363793579e-06),\n",
       " 125: (0.10894403966278898, 0.31231123276853484),\n",
       " 126: (0.34717434538266578, 9.6107912756902389e-06),\n",
       " 127: (0.15681956254234614, 0.001746910938008046),\n",
       " 128: (0.098577561377137898, 0.014783860868288756),\n",
       " 129: (0.12316436308793194, 0.0054403125310799154),\n",
       " 130: (0.091820618182781921, 0.32062615863387423),\n",
       " 131: (0.10831760597300753, 0.25132012162984713),\n",
       " 132: (-0.023917258941279013, 0.80681947194907577),\n",
       " 133: (0.018596259379506208, 0.88126542875880798),\n",
       " 134: (0.28906282920342824, 2.4297068487184811e-07),\n",
       " 135: (0.046610913919930635, 0.6116819285730144),\n",
       " 136: (0.11984861184202693, 0.034337634926436343),\n",
       " 137: (-0.045825376410472504, 0.65410771510544685),\n",
       " 138: (0.32179567119255409, 3.8446406766160646e-08),\n",
       " 139: (0.015801986052153386, 0.66801815767199391),\n",
       " 140: (0.18213693810110873, 0.01061832739942925),\n",
       " 141: (0.21055414576275866, 0.020982252609037598),\n",
       " 142: (0.11770207017795616, 0.088101543562254983),\n",
       " 143: (0.16319499691866707, 0.0077693472741275195),\n",
       " 144: (0.18243568640561747, 0.00066185214563620469),\n",
       " 145: (0.35137026237131769, 0.0024746211934984913),\n",
       " 146: (0.15100625865891573, 0.010280514450474868),\n",
       " 147: (0.12057848872209186, 0.013858390168318481),\n",
       " 148: (0.089469769118145664, 0.30763351868152383),\n",
       " 149: (0.04972641764449371, 0.71086795802311809),\n",
       " 150: (-0.048162673791520338, 0.41713103844084398),\n",
       " 151: (0.13928149382716581, 0.029623585434946482),\n",
       " 152: (0.085118431705934805, 0.3573620555677306),\n",
       " 153: (0.1647027139295042, 0.00079110296450345444),\n",
       " 154: (0.057274034094956836, 0.56942427397315709),\n",
       " 155: (0.087289743124903799, 0.14660580873571685),\n",
       " 156: (-0.2785031984895292, 0.018683225244048824),\n",
       " 157: (0.29840140768638085, 1.1351959357703301e-08),\n",
       " 158: (0.20615237394717939, 9.5597799797348982e-05),\n",
       " 159: (0.1579514757712733, 0.0022787571941331871),\n",
       " 160: (0.25836658686078762, 8.0204698616679464e-07),\n",
       " 161: (0.085589430576755318, 0.094403383153255985),\n",
       " 162: (0.16936675321944247, 0.00021853178383021674),\n",
       " 163: (0.33375233715442337, 1.7883426578514287e-10),\n",
       " 164: (0.32717470300338131, 3.452253896446141e-14),\n",
       " 165: (0.26837799874790708, 3.9724878358554593e-08),\n",
       " 166: (0.037662136816391474, 0.65289314909591534),\n",
       " 167: (0.30821213767579703, 1.9023658247207091e-08),\n",
       " 168: (0.2934411413710758, 3.8777574708254647e-08),\n",
       " 169: (0.20465122677943876, 3.6647192862304173e-07),\n",
       " 170: (0.14305774403978713, 0.00093657265987964083),\n",
       " 171: (0.094647756197089886, 0.03564932059007879),\n",
       " 172: (0.14835237257858511, 0.052113287463327218),\n",
       " 173: (0.18421924045858631, 0.001540233646575871),\n",
       " 174: (0.13442061437378705, 0.017703513320163539),\n",
       " 175: (0.24846013525400365, 9.3645344293698789e-07),\n",
       " 176: (0.14324849743155213, 0.022133487842333016),\n",
       " 177: (0.17453317491312173, 0.0033901104353002772),\n",
       " 178: (0.23831979195304709, 0.017526536989964543),\n",
       " 179: (0.19180557734395737, 0.00022766955328449882),\n",
       " 180: (0.0079843873560754858, 0.93780539243939876),\n",
       " 181: (0.18431015299944195, 0.0013434505223241383),\n",
       " 182: (0.24899966153712533, 1.7887147915316707e-05),\n",
       " 183: (0.33533397842532758, 2.0075752035092955e-09),\n",
       " 184: (0.19151072355167875, 0.00010320292252724705),\n",
       " 185: (0.1897011464692866, 0.00095985414651431273),\n",
       " 186: (0.07418288418060251, 0.18982782688777292),\n",
       " 187: (0.1707083142098047, 0.0010426070453601944),\n",
       " 188: (0.22174466122822661, 4.1196842277641361e-05),\n",
       " 189: (0.27860528495800208, 0.0068469329227228946),\n",
       " 190: (0.24519596037547917, 0.00011263210981853919),\n",
       " 191: (0.31513588592218678, 3.4277722722849953e-07),\n",
       " 192: (0.11225226020036949, 0.045823524315104176),\n",
       " 193: (-0.20481021244208641, 0.088982039841765836),\n",
       " 194: (0.30972828745976383, 2.4856407080776382e-09),\n",
       " 195: (0.01995468863171038, 0.82801759467988267),\n",
       " 196: (0.11630278408985685, 0.027348403414096559),\n",
       " 197: (0.091120557070630367, 0.11107841631900092),\n",
       " 198: (0.3354611556731511, 1.9342814474554227e-10),\n",
       " 199: (0.35996131348620303, 2.0146128791826741e-10),\n",
       " 200: (0.10874357507018347, 0.072314940322582441),\n",
       " 201: (0.19437152472012101, 0.049138587281867215),\n",
       " 202: (0.01872093096626325, 0.74964394416468427),\n",
       " 203: (0.13452728275856085, 0.010721486450125432),\n",
       " 204: (0.20379151646305999, 0.055423563987057382),\n",
       " 205: (-0.087115320418274786, 0.47994097110880873),\n",
       " 206: (0.16256420550930642, 0.010034647873553836),\n",
       " 207: (-0.056005513235995168, 0.64515705889413943),\n",
       " 208: (0.19733470898091873, 1.7084408323065177e-05),\n",
       " 209: (-0.045732382772433564, 0.62898219879565143),\n",
       " 210: (0.096770736114935099, 0.33326192296419765),\n",
       " 211: (0.22103321164528777, 3.8390362849145187e-08),\n",
       " 212: (0.38456100254082176, 1.0380206147012662e-13),\n",
       " 213: (0.15534656028656049, 0.012478916025507391),\n",
       " 214: (0.35430744844052359, 6.0135450886227002e-18),\n",
       " 215: (0.085892829855194072, 0.46066557505599826),\n",
       " 216: (0.38408453008416554, 1.0641094564721364e-14),\n",
       " 217: (0.29915578858563879, 1.5141527347792517e-15),\n",
       " 218: (0.35412945741379676, 0.00021042268337306377),\n",
       " 219: (0.14835964727988879, 0.0022736675753526427),\n",
       " 220: (0.26870268332172309, 1.0045677350778811e-07),\n",
       " 221: (0.082646478416643174, 0.15399970911723695),\n",
       " 222: (0.2223893130544333, 2.7615798343921975e-05),\n",
       " 223: (0.22408257395130837, 0.085217116097116671),\n",
       " 224: (0.13371653570917907, 0.00082017530697680251),\n",
       " 225: (0.10618148599512633, 0.041776203066561227),\n",
       " 226: (0.34734848016474451, 8.646875620360045e-10),\n",
       " 227: (0.27075106795224801, 2.6958953406048998e-07),\n",
       " 228: (0.22461336768656262, 5.1380965030677835e-06),\n",
       " 229: (0.018351506637069612, 0.71169834951622846),\n",
       " 230: (0.13314892759862662, 0.012282349744857167),\n",
       " 231: (0.00036831918989571139, 0.99698149391660751),\n",
       " 232: (0.058849251663747028, 0.31709784288869447),\n",
       " 233: (0.044781645650596801, 0.5186691859531749),\n",
       " 234: (0.19649684109477539, 0.093356064787248866),\n",
       " 235: (0.3110434848732333, 0.0026912683230588849),\n",
       " 236: (0.2426639366436085, 7.0176365216477667e-07),\n",
       " 237: (0.31670706386763864, 2.5304680191759603e-10),\n",
       " 238: (0.16202389476320087, 0.0017422275525246511),\n",
       " 239: (0.10492038370609566, 0.050177103261070187),\n",
       " 240: (0.060153767714272235, 0.097721414508749119),\n",
       " 241: (0.13849895100289497, 0.0085037172096963948),\n",
       " 242: (0.25466607966736854, 1.5809562088907622e-08),\n",
       " 243: (0.22433729792090881, 0.041461945495594753),\n",
       " 244: (0.040561896998851453, 0.4573213832199573),\n",
       " 245: (0.25316438481415249, 1.781041310972128e-07),\n",
       " 246: (0.011446296186594075, 0.855668558042743),\n",
       " 247: (-0.12674229696580103, 0.2818989430067208),\n",
       " 248: (0.16511990851740804, 0.0015950946740675173),\n",
       " 249: (0.24461014855783758, 0.0001171020210013244),\n",
       " 250: (0.23951699021935449, 1.8776634182860097e-06),\n",
       " 251: (0.37353333412318951, 1.9996982736558727e-14),\n",
       " 252: (0.26699666171436848, 2.9357408801039511e-07),\n",
       " 253: (-0.30885234792997762, 0.023065115483008925),\n",
       " 254: (-0.11985326185199728, 0.23734678537600792),\n",
       " 255: (0.22895352104397584, 0.066577223337067559),\n",
       " 256: (0.21518555099581727, 0.0012236525201232036),\n",
       " 257: (0.10703427937837688, 0.35742330046767135),\n",
       " 258: (0.1417299476803634, 0.011140952048977502),\n",
       " 259: (0.036807606037700537, 0.58625853432226993),\n",
       " 260: (0.20426418585167022, 0.00078646813515261568),\n",
       " 261: (0.16358019039155666, 0.00099562782880288961),\n",
       " 262: (0.26060801868645878, 5.3788230946380024e-08),\n",
       " 263: (0.036826881645580491, 0.52238688211806572),\n",
       " 264: (0.1604813545514466, 0.16609788684706533),\n",
       " 265: (0.18769334068703317, 0.10445704757387743),\n",
       " 266: (-0.032522878190036922, 0.79388390570972234),\n",
       " 267: (0.13046837831081085, 0.013361530272719217),\n",
       " 268: (-0.041745308238663577, 0.43362903369900985),\n",
       " 269: (-0.040152231097795893, 0.41573383766529026),\n",
       " 270: (-0.059050566018717873, 0.53074028151721486),\n",
       " 271: (0.079461677282868612, 0.11861646917915304),\n",
       " 272: (0.12941805789876393, 0.038521182979656718),\n",
       " 273: (0.28808587392012552, 4.6726403029460399e-08),\n",
       " 274: (0.12747123400680352, 0.029988495077019919),\n",
       " 275: (0.26354145537332524, 9.5168470484740088e-08),\n",
       " 276: (0.15725678245261254, 0.00010683662608508511),\n",
       " 277: (-0.046026759285401619, 0.69697810950187611),\n",
       " 278: (0.0094713205660337165, 0.82730916850569602),\n",
       " 279: (0.012732840607816095, 0.81857564387168913),\n",
       " 280: (0.19795513287719821, 3.9394251072172834e-07),\n",
       " 281: (0.14602895087285411, 0.0031864483286339735),\n",
       " 282: (0.036159480985813092, 0.52995792089822369),\n",
       " 283: (0.089102377955838932, 0.24095609647237201),\n",
       " 284: (-0.009530533179492099, 0.86556985598343572),\n",
       " 285: (0.078490492593320541, 0.14689224582953114),\n",
       " 286: (-0.038852047395267826, 0.6774874433825635),\n",
       " 287: (0.017225129489579456, 0.7559584017636598),\n",
       " 288: (0.26947573312601186, 2.5134287332892563e-05),\n",
       " 289: (0.12014454132246788, 0.011954521418266736),\n",
       " 290: (0.12312010765282878, 0.005645103803556391),\n",
       " 291: (-0.034243992191082304, 0.77054186469888719),\n",
       " 292: (0.21812928647737681, 1.9803692766929275e-05),\n",
       " 293: (0.3238419242576473, 7.9622423876027788e-11),\n",
       " 294: (0.29092538528548945, 4.4661925655730952e-08),\n",
       " 295: (0.048732224836756419, 0.67384315974397324),\n",
       " 296: (0.16803017599045217, 0.0015093707632827854),\n",
       " 297: (0.29641958576286254, 9.5451329613277676e-08),\n",
       " 298: (-0.084647230009799207, 0.49583844205285221),\n",
       " 299: (0.039576251545656187, 0.60836765480496968),\n",
       " 300: (0.20335757110880326, 0.078084609720160306),\n",
       " 301: (0.21331887913660097, 1.2589981984627078e-05),\n",
       " 302: (0.11125202497665801, 0.20762140349921868),\n",
       " 303: (0.21983319388463549, 2.0372903488416786e-05),\n",
       " 304: (0.07915401196552159, 0.1577656386534152),\n",
       " 305: (0.12070489809975415, 0.030874712715809431),\n",
       " 306: (0.091768701607607014, 0.16448871967599668),\n",
       " 307: (0.39180700130534302, 1.2438177498789481e-12),\n",
       " 308: (0.13633025215842864, 0.0037615314355995341),\n",
       " 309: (0.35450297981603796, 1.267355451947973e-11),\n",
       " 310: (0.36578580035517716, 0.0013511780858617498),\n",
       " 311: (0.13246276606984961, 0.020874764807089739),\n",
       " 312: (0.10094875760280567, 0.046908765297715475),\n",
       " 313: (0.050096363991792264, 0.5805737192901721),\n",
       " 314: (0.045407224964451133, 0.41385917552486862),\n",
       " 315: (0.16567560323447694, 0.0018712656210863056),\n",
       " 316: (0.31621444278995725, 7.8704162908712546e-07),\n",
       " 317: (0.20389184204058719, 0.0005582367288636316),\n",
       " 318: (0.2708688110276683, 2.5597385622396133e-07),\n",
       " 319: (-0.014747871674115304, 0.75959484466516902),\n",
       " 320: (-0.061549757925506314, 0.53080702453369644),\n",
       " 321: (0.32536526632518342, 1.3712235494558161e-11),\n",
       " 322: (0.087335429243978441, 0.41305998938423383),\n",
       " 323: (0.06009184801134048, 0.23164225243142278),\n",
       " 324: (0.19347035333230833, 0.001872069323592659),\n",
       " 325: (0.3007004530333684, 5.5779275267363845e-09),\n",
       " 326: (-0.096539532403495665, 0.016451836642152912),\n",
       " 327: (0.29635699819759731, 8.1806853768816349e-09),\n",
       " 328: (0.032089083173986531, 0.52378710039784315),\n",
       " 329: (0.10519308560031537, 0.25285313745535504),\n",
       " 330: (0.16367092451055082, 0.0010801082414595218),\n",
       " 331: (0.1848285988662618, 0.0034210364242605613),\n",
       " 332: (0.11054980918424256, 0.35524331477964133),\n",
       " 333: (0.072939956015395532, 0.47537826059915134),\n",
       " 334: (0.15983998774792721, 0.08118306250116171),\n",
       " 335: (0.23639598253343269, 4.414616610371783e-06),\n",
       " 336: (0.086642516420761234, 0.1636325486908542),\n",
       " 337: (0.28469483510648369, 0.01395387361940284),\n",
       " 338: (0.16496398782681496, 0.0036931080309620958),\n",
       " 339: (0.081746467939725759, 0.11020888705539061),\n",
       " 340: (0.11342027086292474, 0.036859643223200997),\n",
       " 341: (0.15155223717187497, 0.00031528871183206573),\n",
       " 342: (0.19208368701206016, 0.00030102647906905138),\n",
       " 343: (0.20708474435031307, 0.0011672965094701559),\n",
       " 344: (0.15519655702936569, 0.0010079483489042241),\n",
       " 345: (0.067848453439786627, 0.4895297566510094),\n",
       " 346: (0.1564519865211346, 0.071038840762621694),\n",
       " 347: (0.072585213931063181, 0.43275326810951387),\n",
       " 348: (0.091498244670259521, 0.04400252918490144),\n",
       " 349: (0.090574943834341143, 0.073253351523695068),\n",
       " 350: (0.22344824488588746, 5.3583087490273159e-10),\n",
       " 351: (0.12096526251477206, 0.045842372302854137),\n",
       " 352: (-0.45772244257774147, 0.00030312332700286861),\n",
       " 353: (0.20904190748006127, 2.8165130589857391e-05),\n",
       " 354: (0.077278473200372039, 0.10120455461365241),\n",
       " 355: (0.30997115270886955, 8.8286921808239884e-09),\n",
       " 356: (0.18944908439398905, 0.0018383433990854614),\n",
       " 357: (-0.063139567791773557, 0.36962953815656419),\n",
       " 358: (0.059725292866923803, 0.65318314168173797),\n",
       " 359: (-0.079029558085998111, 0.43211304479601476),\n",
       " 360: (0.091500654531816786, 0.32025454791773178),\n",
       " 361: (0.11921614263640602, 0.18543186208892146),\n",
       " 362: (0.22525185370080666, 1.8840649030409179e-05),\n",
       " 363: (0.075002629609063759, 0.098629864990046265),\n",
       " 364: (0.21996781638136212, 4.7364395353513751e-07),\n",
       " 365: (0.24171024170524302, 1.9893638977150226e-06),\n",
       " 366: (0.10348595302431776, 0.096541293627179045),\n",
       " 367: (0.32231762234641287, 7.4972536309986107e-09),\n",
       " 368: (0.08956218947152314, 0.25854610036963666),\n",
       " 369: (0.30515155419340528, 6.6826497064510576e-06),\n",
       " 370: (0.16755146928365344, 0.0004357112065886915),\n",
       " 371: (0.17290566952414016, 0.092057221753450186),\n",
       " 372: (0.18961377032537949, 0.00014431766118043143),\n",
       " 373: (0.16566396649576456, 0.23581742885363804),\n",
       " 374: (0.18939647498243037, 0.082555861451909393),\n",
       " 375: (0.08327905565881713, 0.023859145053890349),\n",
       " 376: (0.044502458331038539, 0.62789910640764202),\n",
       " 377: (0.25670908258271824, 8.8335529561956079e-07),\n",
       " 378: (0.1395193560198717, 0.0061049694993724271),\n",
       " 379: (-0.036597406922802687, 0.74566102621920405),\n",
       " 380: (0.16102433371780706, 0.0033546909544899832),\n",
       " 381: (0.31783638903792322, 4.9826265288035656e-11),\n",
       " 382: (0.27909152476352367, 3.4515406517247386e-09),\n",
       " 383: (0.20066336528514461, 0.00060034051324521194),\n",
       " 384: (0.28476508391109429, 7.9882477124945512e-09),\n",
       " 385: (0.25504969209588096, 0.0086452315049426846),\n",
       " 386: (0.17234484215567566, 0.0029798807659740696),\n",
       " 387: (0.23169622092839318, 3.1970919446081153e-07),\n",
       " 388: (0.079514184882558431, 0.50672587956906023),\n",
       " 389: (0.21835895402355768, 2.9253543561683334e-05),\n",
       " 390: (0.13170889334444105, 0.19845137060754545),\n",
       " 391: (0.28572820090195994, 5.3223424482717554e-08),\n",
       " 392: (0.34461724752907757, 1.899464675321728e-11),\n",
       " 393: (0.2192581014512838, 0.00011022328216838391),\n",
       " 394: (0.22689386685781188, 4.6895791860152906e-05),\n",
       " 395: (0.09829316977589922, 0.10905153075984006),\n",
       " 396: (0.10948935856195355, 0.059481412707077436),\n",
       " 397: (0.12632210118728432, 0.24646820730925786),\n",
       " 398: (0.18046191814898971, 0.00026171426932260287),\n",
       " 399: (0.085916149472141948, 0.43431642448055052),\n",
       " 400: (0.04683657329368697, 0.69603336290162132),\n",
       " 401: (-0.062713798978837054, 0.58295833265190522),\n",
       " 402: (0.23030716862216566, 6.2490821173671611e-06),\n",
       " 403: (0.25016147099002184, 2.148706523051793e-06),\n",
       " 404: (0.35096636559056088, 0.0020201755973174923),\n",
       " 405: (0.34484305810788374, 7.0310231641397531e-08),\n",
       " 406: (0.29336174814658234, 1.8629454348181367e-08),\n",
       " 407: (0.13806920186221031, 0.0010649712914600018),\n",
       " 408: (0.06582325672424591, 0.091339855807627116),\n",
       " 409: (0.16746271453197803, 0.000957236160254633),\n",
       " 410: (0.15669470678437505, 0.014276285833833871),\n",
       " 411: (0.085459727892094842, 0.10997591006788188),\n",
       " 412: (0.29429732534438757, 0.026274152112397794),\n",
       " 413: (0.10801161491998403, 0.082152296551808779),\n",
       " 414: (0.23014611194833612, 1.493356890934638e-06),\n",
       " 415: (0.18870272783465677, 0.03582405725051066),\n",
       " 416: (0.13838531900808024, 0.013964710346552273),\n",
       " 417: (0.19359405894891502, 0.0011075681570864976),\n",
       " 418: (0.13432034103669688, 0.016203580324623903),\n",
       " 419: (0.34718432179136, 2.5351584089882449e-11),\n",
       " 420: (0.12320090073807476, 0.0017927693818161506),\n",
       " 421: (0.043993202701801092, 0.40594672546879595),\n",
       " 422: (0.14092472249177262, 0.20102559443845139),\n",
       " 423: (0.12678050094764201, 0.015797197448780984),\n",
       " 424: (0.27053952321422559, 2.756491882633278e-07),\n",
       " 425: (0.23264891292549406, 3.3249227591108495e-05),\n",
       " 426: (0.070032170081523251, 0.56455494152632602),\n",
       " 427: (-0.054330935364586878, 0.20124580032291686),\n",
       " 428: (0.17189955039771934, 0.072543182029755862),\n",
       " 429: (0.3206089479123721, 0.060412147315517577),\n",
       " 430: (0.092113404996787288, 0.062725056281219202),\n",
       " 431: (0.27041143007064466, 1.5497821192393432e-07),\n",
       " 432: (0.023698304639031314, 0.80237448319422522),\n",
       " 433: (0.088635624599460866, 0.10963786224117213),\n",
       " 434: (0.31230104338646736, 2.2009531476246866e-10),\n",
       " 435: (0.27571527419254865, 7.5456353684723255e-07),\n",
       " 436: (0.26473413520329137, 2.2846956481142298e-07),\n",
       " 437: (-0.13867062503810232, 0.23542698794208949),\n",
       " 438: (0.24648791457328181, 1.1114829213046414e-06),\n",
       " 439: (0.075600244455413579, 0.45472054816513541),\n",
       " 440: (0.19966812144845553, 0.00099205802965070733),\n",
       " 441: (0.056810868056386007, 0.13431806390722051),\n",
       " 442: (-0.00076446862036830515, 0.99429436929844284),\n",
       " 443: (-0.023910936796516142, 0.86114069668142923),\n",
       " 444: (0.13444294690875633, 0.0024905742885349695),\n",
       " 445: (0.13067651715894005, 0.013605347025683655),\n",
       " 446: (0.095834063856283735, 0.11686078959651836),\n",
       " 447: (0.084427247240674935, 0.53236065200731786),\n",
       " 448: (0.22765212697710233, 5.6855025577423707e-05),\n",
       " 449: (-0.063540316499791347, 0.57306421258346796),\n",
       " 450: (0.10144253134846165, 0.4176697706458149),\n",
       " 451: (0.17803241354759269, 0.00016542281492214515),\n",
       " 452: (0.2391092846057209, 3.3989971528136554e-06),\n",
       " 453: (0.09595262708882181, 0.42942966372520053),\n",
       " 454: (0.060707896758198085, 0.4977687766674298),\n",
       " 455: (0.38074322443430864, 0.0017549506426535481),\n",
       " 456: (0.22998641735027928, 8.9211006221798545e-05),\n",
       " 457: (0.16194854569010284, 0.0011363134206828487),\n",
       " 458: (0.16577352206805709, 4.0565455498828091e-05),\n",
       " 459: (0.081506001154206087, 0.16999603788676804),\n",
       " 460: (0.12641607283276618, 0.039740745007744306),\n",
       " 461: (0.21149439720841698, 1.0584545474459894e-06),\n",
       " 462: (0.24008346061848732, 5.9264557522642458e-06),\n",
       " 463: (0.1882741378883247, 0.00033453720480085253),\n",
       " 464: (0.1103064335439303, 0.065306973246517144),\n",
       " 465: (0.075838185930523661, 0.15215227895491429),\n",
       " 466: (0.36934917098627895, 1.2867690635195362e-11),\n",
       " 467: (0.10196923444537807, 0.052898990410540678),\n",
       " 468: (-0.042240680116238369, 0.72271408222626388),\n",
       " 469: (0.012520773206891883, 0.79316705457612746),\n",
       " 470: (0.16310508779792462, 0.032021719573893652),\n",
       " 471: (0.012119568643173885, 0.8371776008440539),\n",
       " 472: (-0.051315069689017001, 0.51665898761771212),\n",
       " 473: (0.15341919356826911, 1.9059697203513413e-05),\n",
       " 474: (0.31250891133116004, 0.0056562734679130996),\n",
       " 475: (0.094392972600897573, 0.1275130086751679),\n",
       " 476: (0.27364810972123493, 1.3241047450291283e-09),\n",
       " 477: (0.079135788411611271, 0.43620754617264745),\n",
       " 478: (0.20859439743295841, 0.033588451835196605),\n",
       " 479: (0.044652704627417716, 0.23537608160008958),\n",
       " 480: (0.19877507501160085, 0.00037792272343615922),\n",
       " 481: (0.1285506162887767, 0.14976798076056755),\n",
       " 482: (0.19705336150747735, 0.00012258005522757139),\n",
       " 483: (0.062937535386229024, 0.1855859656326575),\n",
       " 484: (0.16639452572028177, 0.0098132297114889994),\n",
       " 485: (-0.045586636215956461, 0.69973706507875999),\n",
       " 486: (0.23765737760491143, 0.023306598422055382),\n",
       " 487: (0.18280270351021269, 0.00017762925196890649),\n",
       " 488: (0.22878326708110946, 6.5368803587366301e-05),\n",
       " 489: (0.18566082668523295, 0.0011455928546263059),\n",
       " 490: (0.18005436617346612, 0.00096567076671717886),\n",
       " 491: (0.073109521850863904, 0.46523864887064958),\n",
       " 492: (0.12425402615227239, 0.28162779389956444),\n",
       " 493: (0.26827334337951636, 4.0308997617202195e-06),\n",
       " 494: (0.077627453414367109, 0.50218854526644097),\n",
       " 495: (0.10617524863875288, 0.036810337847858914),\n",
       " 496: (0.26051888237058063, 3.7284220090294557e-11),\n",
       " 497: (0.18815457848585662, 0.00022975220525609254),\n",
       " 498: (0.099953707836265268, 0.047402241114571572),\n",
       " 499: (0.24834054079117793, 3.6825017138773454e-05),\n",
       " 500: (0.21880230359363964, 0.00016848682458881593),\n",
       " 501: (0.2455397625645595, 8.8721059502574234e-07),\n",
       " 502: (0.25310534743222146, 8.4687045703053301e-06),\n",
       " 503: (0.087944382609705718, 0.15981082466856103),\n",
       " 504: (0.077789806763834263, 0.11850548519064667),\n",
       " 505: (-0.23254063729053695, 0.043233554757082619),\n",
       " 506: (0.080368751190321552, 0.20084394818275517),\n",
       " 507: (0.0022773327843412868, 0.98064360148029617),\n",
       " 508: (0.1422537068266122, 0.0018627433073401057),\n",
       " 509: (0.23041337695193187, 3.8121015159882236e-06),\n",
       " 510: (0.22614085879799034, 5.0614866859850329e-06),\n",
       " 511: (0.1790179403829453, 0.00098111018073917242),\n",
       " 512: (0.26401882732389365, 0.00068671070322013326),\n",
       " 513: (0.047551398736677533, 0.65627767604859311),\n",
       " 514: (nan, 1.0),\n",
       " 515: (0.17865030636663648, 0.0001739302916831957),\n",
       " 516: (0.011364430092107736, 0.81508003813951402),\n",
       " 517: (0.15552470312526104, 0.0034407628596003531),\n",
       " 518: (0.19890874368214273, 9.9639519502821054e-06),\n",
       " 519: (0.23764879333104683, 6.3778702919928972e-07),\n",
       " 520: (0.17260070842144851, 0.0010941950541688648),\n",
       " 521: (0.094998831172278975, 0.41432660525527565),\n",
       " 522: (0.17399491892050878, 0.053276675174908056),\n",
       " 523: (0.08959724878211224, 0.11135426056437764),\n",
       " 524: (0.11886489070373389, 0.011714731374270695),\n",
       " 525: (0.29001474431936314, 8.0857134308849455e-09),\n",
       " 526: (0.17083383104436015, 0.089248239699615969),\n",
       " 527: (-0.14169388653681955, 0.27196569480263633),\n",
       " 528: (0.13319849400482936, 0.041779108762650861),\n",
       " 529: (0.30594335203039241, 5.7850182088533621e-08),\n",
       " 530: (0.12799737228884348, 0.060987953291501279),\n",
       " 531: (0.28537789200189345, 8.4384897792679115e-06),\n",
       " 532: (0.067945372983947219, 0.47657461057769612),\n",
       " 533: (0.27099311107642726, 2.8441029801047299e-07),\n",
       " 534: (0.21612440084925327, 4.0192976489853181e-05),\n",
       " 535: (0.12941847249368918, 0.055836701430032144),\n",
       " 536: (0.1262474720638877, 0.0012043850066291158),\n",
       " 537: (0.18735045668604658, 1.1737597594027759e-05),\n",
       " 538: (0.09624342734145655, 0.03074854562819981),\n",
       " 539: (0.13189092667443328, 0.085511061068927197)}"
      ]
     },
     "execution_count": 35,
     "metadata": {},
     "output_type": "execute_result"
    }
   ],
   "source": [
    "pcc"
   ]
  },
  {
   "cell_type": "code",
   "execution_count": 36,
   "metadata": {
    "collapsed": true
   },
   "outputs": [],
   "source": [
    "pcc_adjust = {}\n",
    "for i in range(540):\n",
    "    seqname = predictions.keys()[i]\n",
    "    pre = np.abs(np.ceil(-predictions[seqname]['predicted_values']))\n",
    "    true = predictions[seqname]['true_labels']\n",
    "    pcc_adjust[i] = pearsonr(pre,true)"
   ]
  },
  {
   "cell_type": "code",
   "execution_count": 37,
   "metadata": {
    "collapsed": true
   },
   "outputs": [],
   "source": [
    "from math import isnan\n",
    "clean_dict = {k: pcc_adjust[k][0] for k in pcc_adjust if not isnan(pcc_adjust[k][0])}"
   ]
  },
  {
   "cell_type": "code",
   "execution_count": 38,
   "metadata": {
    "collapsed": true
   },
   "outputs": [],
   "source": [
    "pcc_ad = np.array([[value] for (key,value) in clean_dict.iteritems()])"
   ]
  },
  {
   "cell_type": "code",
   "execution_count": 39,
   "metadata": {
    "collapsed": true
   },
   "outputs": [],
   "source": [
    "name_ = np.array([[value] for (key,value) in name.iteritems()])"
   ]
  },
  {
   "cell_type": "code",
   "execution_count": null,
   "metadata": {
    "collapsed": true
   },
   "outputs": [],
   "source": []
  },
  {
   "cell_type": "code",
   "execution_count": 40,
   "metadata": {},
   "outputs": [
    {
     "data": {
      "text/plain": [
       "array([u'16s', u'23s', u'5s', u'RNaseP', u'grp1', u'grp2', u'srp', u'tRNA',\n",
       "       u'telomerase', u'tmRNA'],\n",
       "      dtype='<U10')"
      ]
     },
     "execution_count": 40,
     "metadata": {},
     "output_type": "execute_result"
    }
   ],
   "source": [
    "np.unique(name_)"
   ]
  },
  {
   "cell_type": "code",
   "execution_count": 41,
   "metadata": {
    "collapsed": true
   },
   "outputs": [],
   "source": [
    "from sklearn.metrics import accuracy_score\n",
    "acc = {}\n",
    "for i in range(540):\n",
    "    seqname = predictions.keys()[i]\n",
    "    pre = np.abs(np.ceil(-predictions[seqname]['predicted_values']))\n",
    "    true = predictions[seqname]['true_labels']\n",
    "    acc[i] = accuracy_score(pre,true)\n",
    "acc = np.array([[value] for (key,value) in acc.iteritems()])"
   ]
  },
  {
   "cell_type": "code",
   "execution_count": 42,
   "metadata": {
    "collapsed": true
   },
   "outputs": [],
   "source": [
    "accu = {}\n",
    "for nam in np.unique(name_):\n",
    "    accu[nam] = 0\n",
    "    count =0\n",
    "    for i in range(540):\n",
    "        if name_[i] == nam:\n",
    "            accu[nam] += acc[i]\n",
    "            count+=1\n",
    "    accu[nam] /=float(count)"
   ]
  },
  {
   "cell_type": "code",
   "execution_count": 43,
   "metadata": {},
   "outputs": [
    {
     "data": {
      "text/plain": [
       "{u'16s': array([ 0.54610361]),\n",
       " u'23s': array([ 0.6480513]),\n",
       " u'5s': array([ 0.58823203]),\n",
       " u'RNaseP': array([ 0.59285918]),\n",
       " u'grp1': array([ 0.56642894]),\n",
       " u'grp2': array([ 0.5112496]),\n",
       " u'srp': array([ 0.57095736]),\n",
       " u'tRNA': array([ 0.54386393]),\n",
       " u'telomerase': array([ 0.49613444]),\n",
       " u'tmRNA': array([ 0.59321966])}"
      ]
     },
     "execution_count": 43,
     "metadata": {},
     "output_type": "execute_result"
    }
   ],
   "source": [
    "accu"
   ]
  },
  {
   "cell_type": "code",
   "execution_count": 44,
   "metadata": {
    "collapsed": true
   },
   "outputs": [],
   "source": [
    "#set a threshold to select accuracy"
   ]
  },
  {
   "cell_type": "code",
   "execution_count": 45,
   "metadata": {},
   "outputs": [
    {
     "data": {
      "text/plain": [
       "(171,)"
      ]
     },
     "execution_count": 45,
     "metadata": {},
     "output_type": "execute_result"
    }
   ],
   "source": [
    "predictions[seqname]['predicted_values'].shape"
   ]
  },
  {
   "cell_type": "code",
   "execution_count": 46,
   "metadata": {
    "collapsed": true
   },
   "outputs": [],
   "source": [
    "list = [i/100.0 for i in np.arange(-100,100)]"
   ]
  },
  {
   "cell_type": "code",
   "execution_count": 47,
   "metadata": {
    "collapsed": true
   },
   "outputs": [],
   "source": [
    "from tqdm import tqdm"
   ]
  },
  {
   "cell_type": "code",
   "execution_count": 67,
   "metadata": {},
   "outputs": [
    {
     "name": "stderr",
     "output_type": "stream",
     "text": [
      "100%|██████████| 200/200 [02:04<00:00,  1.49it/s]\n"
     ]
    }
   ],
   "source": [
    "acc_ = {}\n",
    "pre = {}\n",
    "for t in tqdm(range(200)):\n",
    "    acc = {}\n",
    "    alpha = list[t]\n",
    "    for i in range(540):\n",
    "        seqname = predictions.keys()[i]\n",
    "        pre[t] = np.ndarray([predictions[seqname]['predicted_values'].shape[0],1])\n",
    "        for j in range(predictions[seqname]['predicted_values'].shape[0]):\n",
    "            if -predictions[seqname]['predicted_values'][j] <alpha:\n",
    "                pre[t][j] = 0\n",
    "            else:\n",
    "                pre[t][j] = 1\n",
    "        true = predictions[seqname]['true_labels']\n",
    "        acc[i] = accuracy_score(pre[t],true)\n",
    "    acc_[alpha] = np.array([[value] for (key,value) in acc.iteritems()])"
   ]
  },
  {
   "cell_type": "code",
   "execution_count": 65,
   "metadata": {},
   "outputs": [
    {
     "data": {
      "text/plain": [
       "-0.25290835"
      ]
     },
     "execution_count": 65,
     "metadata": {},
     "output_type": "execute_result"
    }
   ],
   "source": [
    "-predictions[seqname]['predicted_values'][j] <0.1"
   ]
  },
  {
   "cell_type": "code",
   "execution_count": null,
   "metadata": {},
   "outputs": [],
   "source": []
  },
  {
   "cell_type": "code",
   "execution_count": null,
   "metadata": {},
   "outputs": [],
   "source": []
  },
  {
   "cell_type": "code",
   "execution_count": 54,
   "metadata": {},
   "outputs": [
    {
     "name": "stderr",
     "output_type": "stream",
     "text": [
      "100%|██████████| 200/200 [00:01<00:00, 125.76it/s]\n"
     ]
    }
   ],
   "source": [
    "acc_whole = {}\n",
    "for t in tqdm(range(200)):\n",
    "    accu = {}\n",
    "    sum = 0\n",
    "    for nam in np.unique(name_):\n",
    "        accu[nam] = 0\n",
    "        count =0\n",
    "        for i in range(540):\n",
    "            if name_[i] == nam:\n",
    "                accu[nam] += acc_[list[t]][i]\n",
    "                count+=1\n",
    "        accu[nam] /=float(count)\n",
    "        sum += accu[nam]\n",
    "    ave = sum/10.0\n",
    "    accu['average'] = ave\n",
    "    acc_whole[list[t]] = accu"
   ]
  },
  {
   "cell_type": "code",
   "execution_count": 62,
   "metadata": {},
   "outputs": [
    {
     "data": {
      "text/plain": [
       "0.49360783449927548"
      ]
     },
     "execution_count": 62,
     "metadata": {},
     "output_type": "execute_result"
    }
   ],
   "source": [
    "acc_whole[list[1]]['average'][0]"
   ]
  },
  {
   "cell_type": "code",
   "execution_count": 85,
   "metadata": {},
   "outputs": [],
   "source": [
    "average = np.ndarray([200,1])\n",
    "s16 = np.ndarray([200,1])\n",
    "s23 = np.ndarray([200,1])\n",
    "s5 = np.ndarray([200,1])\n",
    "rnp = np.ndarray([200,1])\n",
    "grp1 = np.ndarray([200,1])\n",
    "grp2 = np.ndarray([200,1])\n",
    "srp = np.ndarray([200,1])\n",
    "trna = np.ndarray([200,1])\n",
    "tel = np.ndarray([200,1])\n",
    "tmrna = np.ndarray([200,1])\n",
    "for i in range(200):\n",
    "    average[i] = acc_whole[list[i]]['average'][0]\n",
    "    s16[i] = acc_whole[list[i]]['16s'][0]\n",
    "    s23[i] = acc_whole[list[i]]['23s'][0]\n",
    "    s5[i] = acc_whole[list[i]]['5s'][0]\n",
    "    rnp[i] = acc_whole[list[i]]['RNaseP'][0]\n",
    "    grp1[i] = acc_whole[list[i]]['grp1'][0]\n",
    "    grp2[i] = acc_whole[list[i]]['grp2'][0]\n",
    "    srp[i] = acc_whole[list[i]]['srp'][0]\n",
    "    trna[i] = acc_whole[list[i]]['tRNA'][0]\n",
    "    tel[i] = acc_whole[list[i]]['telomerase'][0]\n",
    "    tmrna[i] = acc_whole[list[i]]['tmRNA'][0]"
   ]
  },
  {
   "cell_type": "code",
   "execution_count": 92,
   "metadata": {},
   "outputs": [
    {
     "data": {
      "text/plain": [
       "array([ 0.43787904])"
      ]
     },
     "execution_count": 92,
     "metadata": {},
     "output_type": "execute_result"
    }
   ],
   "source": [
    "s16[0]"
   ]
  },
  {
   "cell_type": "code",
   "execution_count": null,
   "metadata": {},
   "outputs": [],
   "source": []
  },
  {
   "cell_type": "code",
   "execution_count": 73,
   "metadata": {},
   "outputs": [
    {
     "data": {
      "text/plain": [
       "101"
      ]
     },
     "execution_count": 73,
     "metadata": {},
     "output_type": "execute_result"
    }
   ],
   "source": [
    "np.argmax(acc_whole[list[i]]['average'])"
   ]
  },
  {
   "cell_type": "code",
   "execution_count": 98,
   "metadata": {},
   "outputs": [
    {
     "name": "stdout",
     "output_type": "stream",
     "text": [
      "[ 0.57830879] 103\n",
      "[ 0.67218786] 101\n",
      "[ 0.5939097] 101\n",
      "[ 0.6157253] 101\n",
      "[ 0.58631317] 101\n",
      "[ 0.64288216] 195\n",
      "[ 0.57203238] 96\n",
      "[ 0.5466822] 92\n",
      "[ 0.56455239] 167\n",
      "[ 0.59531995] 100\n"
     ]
    }
   ],
   "source": [
    "print s16[np.argmax(s16)],np.argmax(s16)\n",
    "print s23[np.argmax(s23)],np.argmax(s23)\n",
    "print s5[np.argmax(s5)],np.argmax(s5)\n",
    "print rnp[np.argmax(rnp)],np.argmax(rnp)\n",
    "print grp1[np.argmax(grp1)],np.argmax(grp1)\n",
    "print grp2[np.argmax(grp2)],np.argmax(grp2)\n",
    "print srp[np.argmax(srp)],np.argmax(srp)\n",
    "print trna[np.argmax(trna)],np.argmax(trna)\n",
    "print tel[np.argmax(tel)],np.argmax(tel)\n",
    "print tmrna[np.argmax(tmrna)],np.argmax(tmrna)"
   ]
  },
  {
   "cell_type": "code",
   "execution_count": 89,
   "metadata": {},
   "outputs": [
    {
     "ename": "TypeError",
     "evalue": "'function' object has no attribute '__getitem__'",
     "output_type": "error",
     "traceback": [
      "\u001b[0;31m\u001b[0m",
      "\u001b[0;31mTypeError\u001b[0mTraceback (most recent call last)",
      "\u001b[0;32m<ipython-input-89-d074fee145d2>\u001b[0m in \u001b[0;36m<module>\u001b[0;34m()\u001b[0m\n\u001b[0;32m----> 1\u001b[0;31m \u001b[0ms16\u001b[0m\u001b[0;34m[\u001b[0m\u001b[0mnp\u001b[0m\u001b[0;34m.\u001b[0m\u001b[0margmax\u001b[0m\u001b[0;34m[\u001b[0m\u001b[0ms16\u001b[0m\u001b[0;34m]\u001b[0m\u001b[0;34m]\u001b[0m\u001b[0;34m\u001b[0m\u001b[0m\n\u001b[0m",
      "\u001b[0;31mTypeError\u001b[0m: 'function' object has no attribute '__getitem__'"
     ]
    }
   ],
   "source": [
    "s16[]"
   ]
  },
  {
   "cell_type": "code",
   "execution_count": 88,
   "metadata": {},
   "outputs": [
    {
     "data": {
      "text/plain": [
       "[<matplotlib.lines.Line2D at 0x2b9e30051310>]"
      ]
     },
     "execution_count": 88,
     "metadata": {},
     "output_type": "execute_result"
    },
    {
     "data": {
      "image/png": "[encoded data removed]",
      "text/plain": [
       "<matplotlib.figure.Figure at 0x2b9e29cfd750>"
      ]
     },
     "metadata": {},
     "output_type": "display_data"
    }
   ],
   "source": [
    "plt.plot(s23)"
   ]
  },
  {
   "cell_type": "code",
   "execution_count": 75,
   "metadata": {},
   "outputs": [
    {
     "data": {
      "text/plain": [
       "{u'16s': array([ 0.57609013]),\n",
       " u'23s': array([ 0.67218786]),\n",
       " u'5s': array([ 0.5939097]),\n",
       " u'RNaseP': array([ 0.6157253]),\n",
       " 'average': array([ 0.58343282]),\n",
       " u'grp1': array([ 0.58631317]),\n",
       " u'grp2': array([ 0.56278526]),\n",
       " u'srp': array([ 0.56791467]),\n",
       " u'tRNA': array([ 0.53742798]),\n",
       " u'telomerase': array([ 0.53033387]),\n",
       " u'tmRNA': array([ 0.5916403])}"
      ]
     },
     "execution_count": 75,
     "metadata": {},
     "output_type": "execute_result"
    }
   ],
   "source": [
    "acc_whole[list[101]]"
   ]
  },
  {
   "cell_type": "code",
   "execution_count": 65,
   "metadata": {},
   "outputs": [
    {
     "data": {
      "text/plain": [
       "0.0017310730345789199"
      ]
     },
     "execution_count": 65,
     "metadata": {},
     "output_type": "execute_result"
    }
   ],
   "source": [
    "sum = 0\n",
    "for i in range(10):\n",
    "    if i in clean_dict.keys():\n",
    "        sum += clean_dict[i]\n",
    "sum/538.0"
   ]
  },
  {
   "cell_type": "code",
   "execution_count": 21,
   "metadata": {
    "collapsed": true
   },
   "outputs": [],
   "source": []
  },
  {
   "cell_type": "code",
   "execution_count": null,
   "metadata": {
    "collapsed": true
   },
   "outputs": [],
   "source": []
  },
  {
   "cell_type": "code",
   "execution_count": null,
   "metadata": {
    "collapsed": true
   },
   "outputs": [],
   "source": []
  },
  {
   "cell_type": "code",
   "execution_count": 55,
   "metadata": {},
   "outputs": [
    {
     "data": {
      "text/plain": [
       "Text(0.5,1,u'accuracy distribution')"
      ]
     },
     "execution_count": 55,
     "metadata": {},
     "output_type": "execute_result"
    },
    {
     "data": {
      "image/png": "[encoded data removed]",
      "text/plain": [
       "<matplotlib.figure.Figure at 0x2b86ff417390>"
      ]
     },
     "metadata": {},
     "output_type": "display_data"
    }
   ],
   "source": [
    "fig, ax = plt.subplots((1), figsize=(6,4))\n",
    "ax.hist(acc, bins=50, normed=True)\n",
    "ax.set_title('accuracy distribution')"
   ]
  },
  {
   "cell_type": "code",
   "execution_count": 36,
   "metadata": {},
   "outputs": [
    {
     "data": {
      "text/plain": [
       "[u'predicted_labels', u'true_labels', u'predicted_values', u'sequence']"
      ]
     },
     "execution_count": 36,
     "metadata": {},
     "output_type": "execute_result"
    }
   ],
   "source": [
    "predictions[seqname].keys()"
   ]
  },
  {
   "cell_type": "code",
   "execution_count": 37,
   "metadata": {
    "collapsed": true
   },
   "outputs": [],
   "source": [
    "predicted_values = np.concatenate([predictions[seqname]['predicted_values'] for seqname in predictions.keys()])\n",
    "true_labels = np.concatenate([predictions[seqname]['true_labels'] for seqname in predictions.keys()])"
   ]
  },
  {
   "cell_type": "code",
   "execution_count": 54,
   "metadata": {},
   "outputs": [
    {
     "data": {
      "text/plain": [
       "Text(0.5,1,u'predicted values')"
      ]
     },
     "execution_count": 54,
     "metadata": {},
     "output_type": "execute_result"
    },
    {
     "data": {
      "image/png": "[encoded data removed]",
      "text/plain": [
       "<matplotlib.figure.Figure at 0x2b86ff310790>"
      ]
     },
     "metadata": {},
     "output_type": "display_data"
    }
   ],
   "source": [
    "fig, ax = plt.subplots((1), figsize=(6,4))\n",
    "ax.hist(predicted_values, bins=50, normed=True)\n",
    "ax.set_title('predicted values')"
   ]
  },
  {
   "cell_type": "code",
   "execution_count": 29,
   "metadata": {},
   "outputs": [
    {
     "name": "stdout",
     "output_type": "stream",
     "text": [
      "(0.16947936792234319, 0.0)\n"
     ]
    }
   ],
   "source": [
    "from scipy.stats import pearsonr\n",
    "print(pearsonr(-predicted_values, true_labels))"
   ]
  },
  {
   "cell_type": "code",
   "execution_count": null,
   "metadata": {
    "collapsed": true
   },
   "outputs": [],
   "source": []
  }
 ],
 "metadata": {
  "anaconda-cloud": {},
  "kernelspec": {
   "display_name": "Python [default]",
   "language": "python",
   "name": "python2"
  },
  "language_info": {
   "codemirror_mode": {
    "name": "ipython",
    "version": 2
   },
   "file_extension": ".py",
   "mimetype": "text/x-python",
   "name": "python",
   "nbconvert_exporter": "python",
   "pygments_lexer": "ipython2",
   "version": "2.7.13"
  }
 },
 "nbformat": 4,
 "nbformat_minor": 1
}
