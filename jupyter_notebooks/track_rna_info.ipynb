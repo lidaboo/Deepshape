{
 "cells": [
  {
   "cell_type": "code",
   "execution_count": 1,
   "metadata": {},
   "outputs": [],
   "source": [
    "import numpy as np\n",
    "import pandas as pd\n",
    "from tqdm import tqdm\n",
    "import h5py"
   ]
  },
  {
   "cell_type": "code",
   "execution_count": 2,
   "metadata": {},
   "outputs": [
    {
     "name": "stdout",
     "output_type": "stream",
     "text": [
      "/home/chenxupeng/projects/deepshape\n"
     ]
    }
   ],
   "source": [
    "cd /home/chenxupeng/projects/deepshape/"
   ]
  },
  {
   "cell_type": "code",
   "execution_count": 3,
   "metadata": {},
   "outputs": [],
   "source": [
    "def append_extra_line(f):\n",
    "    \"\"\"Yield an empty line after the last line in the file\n",
    "    \"\"\"\n",
    "    for line in f:\n",
    "        yield line\n",
    "    yield ''\n",
    "def read_fasta(filename):\n",
    "    with open(filename, 'r') as f:\n",
    "        name = None\n",
    "        seq = ''\n",
    "        for line in append_extra_line(f):\n",
    "            if line.startswith('>') or (len(line) == 0):\n",
    "                if (len(seq) > 0) and (name is not None):\n",
    "                    yield (name, seq)\n",
    "                if line.startswith('>'):\n",
    "                    name = line.strip()[1:].split()[0]\n",
    "                    seq = ''\n",
    "            else:\n",
    "                if name is None:\n",
    "                    raise ValueError('the first line does not start with \">\"')\n",
    "                seq += line.strip()"
   ]
  },
  {
   "cell_type": "code",
   "execution_count": 4,
   "metadata": {},
   "outputs": [],
   "source": [
    "#sequence file\n",
    "fasta = dict(read_fasta('data/fasta/CDS.transcript.fa'))\n",
    "#icshape file\n",
    "f =h5py.File('/home/chenxupeng/projects/deepshape/data/icSHAPE/Spitale_2015_invitro/CDS')"
   ]
  },
  {
   "cell_type": "code",
   "execution_count": 5,
   "metadata": {},
   "outputs": [
    {
     "data": {
      "text/plain": [
       "(12676378,)"
      ]
     },
     "execution_count": 5,
     "metadata": {},
     "output_type": "execute_result"
    }
   ],
   "source": [
    "#we should pick according to icshape's rna name\n",
    "icshape = f['feature/icshape'][:]\n",
    "name = f['name'][:]\n",
    "start = f['start'][:]\n",
    "end = f['end'][:]\n",
    "rna_length = end-start\n",
    "icshape.shape"
   ]
  },
  {
   "cell_type": "code",
   "execution_count": 6,
   "metadata": {},
   "outputs": [
    {
     "data": {
      "text/plain": [
       "array([ 0.063,  0.051,  0.   , ...,  1.   ,  0.177,  0.   ], dtype=float32)"
      ]
     },
     "execution_count": 6,
     "metadata": {},
     "output_type": "execute_result"
    }
   ],
   "source": [
    "icshape"
   ]
  },
  {
   "cell_type": "markdown",
   "metadata": {},
   "source": [
    "根据percentile转化icshape的不满足要求的位置为nan  percentile定5或者10\n",
    "但是首先两类不均衡，要把0随机扔掉，直到和1的比例一样"
   ]
  },
  {
   "cell_type": "code",
   "execution_count": 7,
   "metadata": {},
   "outputs": [
    {
     "name": "stdout",
     "output_type": "stream",
     "text": [
      "1的个数: 568751\n",
      "0的个数: 4839853\n",
      "随机扔掉的个数: 4271102\n"
     ]
    }
   ],
   "source": [
    "print '1的个数: %d' %np.sum(np.where(icshape==1)[0].shape[0])\n",
    "print '0的个数: %d' %np.sum(np.where(icshape==0)[0].shape[0])\n",
    "print '随机扔掉的个数: %d' %(np.sum(np.where(icshape==0)[0].shape[0]) - np.sum(np.where(icshape==1)[0].shape[0]))\n",
    "index_zero = np.where(icshape==0)[0]\n",
    "index_zero.shape\n",
    "np.random.seed(1234)\n",
    "indd = np.arange(4271102)\n",
    "np.random.shuffle(indd)\n",
    "pick_zero_to_nan = index_zero[indd]\n",
    "icshape[pick_zero_to_nan] = np.nan"
   ]
  },
  {
   "cell_type": "code",
   "execution_count": 8,
   "metadata": {},
   "outputs": [],
   "source": [
    "def shape_tonan(percentile):\n",
    "    low = np.nanpercentile(icshape,percentile)\n",
    "    high = np.nanpercentile(icshape,100-percentile)\n",
    "    index_nan = np.where(np.logical_and(icshape <high, icshape >low)==1)\n",
    "    icshape_ = np.copy(icshape)\n",
    "    icshape_[index_nan] = np.nan\n",
    "    return icshape_"
   ]
  },
  {
   "cell_type": "code",
   "execution_count": 9,
   "metadata": {},
   "outputs": [
    {
     "data": {
      "text/plain": [
       "0.83799999952316284"
      ]
     },
     "execution_count": 9,
     "metadata": {},
     "output_type": "execute_result"
    }
   ],
   "source": [
    "np.nanpercentile(icshape,90)"
   ]
  },
  {
   "cell_type": "code",
   "execution_count": 10,
   "metadata": {},
   "outputs": [
    {
     "name": "stderr",
     "output_type": "stream",
     "text": [
      "/home/chenxupeng/apps/anaconda2/lib/python2.7/site-packages/ipykernel_launcher.py:4: RuntimeWarning: invalid value encountered in less\n",
      "  after removing the cwd from sys.path.\n",
      "/home/chenxupeng/apps/anaconda2/lib/python2.7/site-packages/ipykernel_launcher.py:4: RuntimeWarning: invalid value encountered in greater\n",
      "  after removing the cwd from sys.path.\n",
      "  0%|          | 0/10123 [00:00<?, ?it/s]/home/chenxupeng/apps/anaconda2/lib/python2.7/site-packages/ipykernel_launcher.py:32: DeprecationWarning: using a non-integer array as obj in delete will result in an error in the future\n",
      "  2%|▏         | 198/10123 [00:10<08:54, 18.56it/s]"
     ]
    },
    {
     "ename": "KeyboardInterrupt",
     "evalue": "",
     "output_type": "error",
     "traceback": [
      "\u001b[0;31m---------------------------------------------------------------------------\u001b[0m",
      "\u001b[0;31mKeyboardInterrupt\u001b[0m                         Traceback (most recent call last)",
      "\u001b[0;32m<ipython-input-10-4507b826ffc8>\u001b[0m in \u001b[0;36m<module>\u001b[0;34m()\u001b[0m\n\u001b[1;32m     22\u001b[0m     \u001b[0mcount\u001b[0m \u001b[0;34m=\u001b[0m \u001b[0mlength\u001b[0m\u001b[0;34m-\u001b[0m\u001b[0;36m128\u001b[0m\u001b[0;34m+\u001b[0m\u001b[0;36m1\u001b[0m\u001b[0;34m\u001b[0m\u001b[0m\n\u001b[1;32m     23\u001b[0m     \u001b[0;32mif\u001b[0m \u001b[0mcount\u001b[0m \u001b[0;34m>=\u001b[0m\u001b[0;36m0\u001b[0m\u001b[0;34m:\u001b[0m\u001b[0;34m\u001b[0m\u001b[0m\n\u001b[0;32m---> 24\u001b[0;31m         \u001b[0my\u001b[0m \u001b[0;34m=\u001b[0m \u001b[0mnp\u001b[0m\u001b[0;34m.\u001b[0m\u001b[0mzeros\u001b[0m\u001b[0;34m(\u001b[0m\u001b[0;34m[\u001b[0m\u001b[0mcount\u001b[0m\u001b[0;34m,\u001b[0m\u001b[0;36m130\u001b[0m\u001b[0;34m]\u001b[0m\u001b[0;34m)\u001b[0m\u001b[0;34m.\u001b[0m\u001b[0mastype\u001b[0m\u001b[0;34m(\u001b[0m\u001b[0;34m'S'\u001b[0m\u001b[0;34m)\u001b[0m\u001b[0;34m\u001b[0m\u001b[0m\n\u001b[0m\u001b[1;32m     25\u001b[0m         \u001b[0mindex\u001b[0m \u001b[0;34m=\u001b[0m \u001b[0mnp\u001b[0m\u001b[0;34m.\u001b[0m\u001b[0marray\u001b[0m\u001b[0;34m(\u001b[0m\u001b[0;34m[\u001b[0m\u001b[0;34m]\u001b[0m\u001b[0;34m)\u001b[0m\u001b[0;34m\u001b[0m\u001b[0m\n\u001b[1;32m     26\u001b[0m         \u001b[0;32mfor\u001b[0m \u001b[0mj\u001b[0m \u001b[0;32min\u001b[0m \u001b[0mrange\u001b[0m\u001b[0;34m(\u001b[0m\u001b[0mcount\u001b[0m\u001b[0;34m)\u001b[0m\u001b[0;34m:\u001b[0m\u001b[0;34m\u001b[0m\u001b[0m\n",
      "\u001b[0;31mKeyboardInterrupt\u001b[0m: "
     ]
    },
    {
     "name": "stderr",
     "output_type": "stream",
     "text": [
      "\r",
      "  2%|▏         | 198/10123 [00:30<25:05,  6.59it/s]"
     ]
    }
   ],
   "source": [
    "#先取icshape，按照rna的name分别取出128的score加上name和起始位置，并且按照rna返回最终选的片段的起始位点，供选取sequence以及计算acc使用\n",
    "#以cds的rna 10123条为顺序，一条一条rna来：\n",
    "#每条rna切成128的小段，one hot，这是 128*4\n",
    "#cds 文件怎么找icshape呢？  找到name的position i ,然后start[i] 是起始，end[i]是终止\n",
    "#把这段icshape取出来， length， length -128 +1 为需要截取的次数 count\n",
    "#for i in range(count): 取出y  把rna name 和在rna中的起始位置（i）加到前两维，算index: 用coverage给，如果非nan比例高于coverage的\n",
    "#才予以保留   找到该条rna需要保留的i \n",
    "#然后构造X  X通过i找到起始位点，每次截取128的长度， 128*4  索引为rna name加上从第几个截取\n",
    "#至此一个rna的处理完毕\n",
    "nan_icshape = shape_tonan(5)  #其实全是0 所以nan的比例比90%少\n",
    "coverage = 0.5\n",
    "\n",
    "rna_icshape_whole = {}\n",
    "rna_need_index = {}\n",
    "rna_nan_index = {}\n",
    "rna_index = np.array([])\n",
    "for i in tqdm(range(name.shape[0])):   #name.shape[0]\n",
    "    rna_name = name[i]\n",
    "    sequence = fasta[rna_name]\n",
    "    shape_score = nan_icshape[start[i]:end[i]]\n",
    "    length = end[i] - start[i] \n",
    "    count = length-128+1\n",
    "    if count >=0:\n",
    "        y = np.zeros([count,130]).astype('S')\n",
    "        index = np.array([])\n",
    "        for j in range(count):\n",
    "            y[j][0] = rna_name\n",
    "            y[j][1] = j\n",
    "            y[j][2:] = shape_score[j:j+128]  \n",
    "            if np.where(y[j][2:] == str(np.nan))[0].shape[0]/128.0 >1 - coverage:\n",
    "                index = np.concatenate((index,np.array([j])))\n",
    "        y_ = np.delete(y,index,axis =0)\n",
    "        index_ = np.setdiff1d(np.arange(count),index)\n",
    "        rna_icshape_whole[i] = y_\n",
    "        rna_need_index[i] = index_\n",
    "        rna_nan_index[i] = index\n",
    "        #符合大于128的rna的index\n",
    "        rna_index = np.concatenate((rna_index,np.array([i])))\n",
    "rna_index = rna_index.astype('int')"
   ]
  },
  {
   "cell_type": "code",
   "execution_count": null,
   "metadata": {},
   "outputs": [],
   "source": [
    "sum_1 = 0\n",
    "for i in range(rna_index.shape[0]):\n",
    "    sum_1 +=rna_need_index[rna_index[i]].shape[0]\n",
    "sum_2 = 0\n",
    "for i in range(rna_index.shape[0]):\n",
    "    sum_2 +=rna_nan_index[rna_index[i]].shape[0]"
   ]
  },
  {
   "cell_type": "code",
   "execution_count": 33,
   "metadata": {},
   "outputs": [
    {
     "data": {
      "text/plain": [
       "0.03581034535713815"
      ]
     },
     "execution_count": 33,
     "metadata": {},
     "output_type": "execute_result"
    }
   ],
   "source": [
    "float(sum_1)/float(sum_1+sum_2)"
   ]
  },
  {
   "cell_type": "code",
   "execution_count": null,
   "metadata": {},
   "outputs": [],
   "source": [
    "print np.sum(np.isnan(icshape))/float(icshape.shape[0])\n",
    "print np.sum(np.isnan(nan_icshape))/float(nan_icshape.shape[0])"
   ]
  },
  {
   "cell_type": "code",
   "execution_count": 37,
   "metadata": {},
   "outputs": [],
   "source": [
    "class Onehot(object):\n",
    "    def __init__(self, alphabet='ATCG'):\n",
    "        self.transtable = np.zeros(128, np.int64)\n",
    "        self.transtable[[ord(a) for a in alphabet]] = range(len(alphabet))\n",
    "        self.alphabet = np.frombuffer(alphabet, np.int8)\n",
    "    def encode(self, seq):\n",
    "        seq_int = self.transtable[np.frombuffer(seq, np.int8)]\n",
    "        encoded = np.zeros((len(seq), len(self.alphabet)), np.int8)\n",
    "        encoded[np.r_[:len(seq)], seq_int] = 1\n",
    "        return encoded\n",
    "    def decode(self, a):\n",
    "        return self.alphabet[np.argmax(a, axis=1)].tostring()"
   ]
  },
  {
   "cell_type": "raw",
   "metadata": {},
   "source": [
    "#只需要上一部的key值那些i对应的rna 找fasta！ 一定要对应好！"
   ]
  },
  {
   "cell_type": "code",
   "execution_count": 40,
   "metadata": {},
   "outputs": [
    {
     "data": {
      "text/plain": [
       "9957"
      ]
     },
     "execution_count": 40,
     "metadata": {},
     "output_type": "execute_result"
    }
   ],
   "source": [
    "rna_index.shape[0]"
   ]
  },
  {
   "cell_type": "code",
   "execution_count": 41,
   "metadata": {},
   "outputs": [
    {
     "name": "stderr",
     "output_type": "stream",
     "text": [
      "100%|██████████| 9957/9957 [00:04<00:00, 2296.36it/s]\n"
     ]
    }
   ],
   "source": [
    "#i 使用符合rna长度大于128的\n",
    "rna_sequence = {}\n",
    "for i in tqdm(rna_index): #name.shapep[0]\n",
    "    data = fasta[name[i]]\n",
    "    onehot = Onehot()\n",
    "    encoded = onehot.encode(data)\n",
    "    #decoded = onehot.decode(encoded)\n",
    "    count = rna_need_index[i].shape[0]\n",
    "    ind = rna_need_index[i]\n",
    "    scores = np.zeros([count,128,4])\n",
    "    for j in range(count):\n",
    "        scores[j] = encoded[ind[j]:ind[j]+128]\n",
    "    rna_sequence[i] = scores"
   ]
  },
  {
   "cell_type": "markdown",
   "metadata": {},
   "source": [
    "存储 rna sequence 为X  rna icshape为y 以及rnalength和rna name\n",
    "按照rna名字来挑，先保证同一个rna的不会既出现在训练集又出现测试集，然后再shuffle\n",
    "所以先按照i来挑20%的作为测试集，然后分别按照索引打乱"
   ]
  },
  {
   "cell_type": "code",
   "execution_count": 42,
   "metadata": {},
   "outputs": [
    {
     "name": "stdout",
     "output_type": "stream",
     "text": [
      "9957\n"
     ]
    }
   ],
   "source": [
    "#挑20%作为测试集rna  按照rna_index挑\n",
    "rna_index_sample = np.copy(rna_index)\n",
    "print rna_index.shape[0]\n",
    "np.random.seed(1111)\n",
    "np.random.shuffle(rna_index_sample)\n",
    "train_index = rna_index_sample[:int(0.8*rna_index.shape[0])]\n",
    "test_index= rna_index_sample[int(0.8*rna_index.shape[0]):]"
   ]
  },
  {
   "cell_type": "code",
   "execution_count": 43,
   "metadata": {},
   "outputs": [],
   "source": [
    "#计算存储按照需要的 i，每个i里几个片段\n",
    "count_fragments_numer = {}\n",
    "for i in rna_need_index.keys():\n",
    "    count_fragments_numer[i] = rna_need_index[i].shape[0]"
   ]
  },
  {
   "cell_type": "code",
   "execution_count": 44,
   "metadata": {},
   "outputs": [],
   "source": [
    "def prepare_data(index):\n",
    "    #rna sequence 为X  rna icshape为y 以及rnalength和rna name\n",
    "    count = 0\n",
    "    for i in index:\n",
    "        count +=count_fragments_numer[i]\n",
    "    X = np.zeros([count,128,4])\n",
    "    y = np.zeros([count,130]).astype('S')\n",
    "    name_ = np.array([])\n",
    "    rna_length_ = np.array([])\n",
    "    count = 0\n",
    "    for i in tqdm(index):\n",
    "        X[count:count+count_fragments_numer[i]] = rna_sequence[i]\n",
    "        y[count:count+count_fragments_numer[i]] = rna_icshape_whole[i]\n",
    "        count +=count_fragments_numer[i]\n",
    "        name_ = np.concatenate((name_,np.array([name[i]])))\n",
    "        rna_length_ = np.concatenate((rna_length_,np.array([rna_length[i]])))\n",
    "    return X,y,name_,rna_length_"
   ]
  },
  {
   "cell_type": "code",
   "execution_count": 46,
   "metadata": {},
   "outputs": [
    {
     "name": "stderr",
     "output_type": "stream",
     "text": [
      "100%|██████████| 7965/7965 [00:03<00:00, 2494.74it/s]\n"
     ]
    }
   ],
   "source": [
    "X,y,name_,rna_length_ = prepare_data(train_index)\n",
    "with h5py.File('data/new/12.22_CDS_rna_track_train') as f:\n",
    "    f.create_dataset('X_train',data = X)\n",
    "    f.create_dataset('y_train',data = y)\n",
    "    f.create_dataset('name_train',data = name_)\n",
    "    f.create_dataset('length_train',data = rna_length_)"
   ]
  },
  {
   "cell_type": "code",
   "execution_count": 47,
   "metadata": {},
   "outputs": [
    {
     "name": "stderr",
     "output_type": "stream",
     "text": [
      "100%|██████████| 1992/1992 [00:00<00:00, 2468.83it/s]\n"
     ]
    }
   ],
   "source": [
    "X,y,name_,rna_length_ = prepare_data(test_index)\n",
    "with h5py.File('data/new/12.22_CDS_rna_track_test') as f:\n",
    "    f.create_dataset('X_test',data = X)\n",
    "    f.create_dataset('y_test',data = y)\n",
    "    f.create_dataset('name_test',data = name_)\n",
    "    f.create_dataset('length_test',data = rna_length_)"
   ]
  },
  {
   "cell_type": "markdown",
   "metadata": {},
   "source": [
    "此时还未打乱，然后再分别打乱片段"
   ]
  },
  {
   "cell_type": "code",
   "execution_count": 7,
   "metadata": {},
   "outputs": [],
   "source": [
    "with h5py.File('data/new/12.22_CDS_rna_track_train') as f:\n",
    "    X_train = f['X_train'][:]"
   ]
  },
  {
   "cell_type": "code",
   "execution_count": 9,
   "metadata": {},
   "outputs": [
    {
     "data": {
      "text/plain": [
       "(1326561, 128, 4)"
      ]
     },
     "execution_count": 9,
     "metadata": {},
     "output_type": "execute_result"
    }
   ],
   "source": [
    "X_train.shape"
   ]
  },
  {
   "cell_type": "code",
   "execution_count": 3,
   "metadata": {},
   "outputs": [],
   "source": [
    "with h5py.File('data/new/12.22_CDS_rna_track_train') as f:\n",
    "    X_train = f['X_train'][:]\n",
    "    y_train = f['y_train'][:]\n",
    "    name_train = f['name_train'][:]\n",
    "    length_train = f['length_train'][:]"
   ]
  },
  {
   "cell_type": "code",
   "execution_count": 8,
   "metadata": {},
   "outputs": [
    {
     "data": {
      "text/plain": [
       "(128, 4)"
      ]
     },
     "execution_count": 8,
     "metadata": {},
     "output_type": "execute_result"
    }
   ],
   "source": [
    "X_train[0].shape"
   ]
  },
  {
   "cell_type": "code",
   "execution_count": 5,
   "metadata": {},
   "outputs": [
    {
     "data": {
      "text/plain": [
       "(1326561, 130)"
      ]
     },
     "execution_count": 5,
     "metadata": {},
     "output_type": "execute_result"
    }
   ],
   "source": [
    "y_train.shape"
   ]
  },
  {
   "cell_type": "code",
   "execution_count": 15,
   "metadata": {},
   "outputs": [
    {
     "data": {
      "text/plain": [
       "array(['ENSMUST00000200100.1-CDS', 'ENSMUST00000199311.1-CDS',\n",
       "       'ENSMUST00000173895.7-CDS', 'ENSMUST00000126794.1-CDS',\n",
       "       'ENSMUST00000033763.14-CDS', 'ENSMUST00000213866.1-CDS',\n",
       "       'ENSMUST00000021356.5-CDS', 'ENSMUST00000020078.13-CDS',\n",
       "       'ENSMUST00000112305.9-CDS', 'ENSMUST00000103118.3-CDS',\n",
       "       'ENSMUST00000100484.4-CDS', 'ENSMUST00000051867.6-CDS',\n",
       "       'ENSMUST00000073691.3-CDS', 'ENSMUST00000089680.9-CDS',\n",
       "       'ENSMUST00000038388.5-CDS', 'ENSMUST00000155781.1-CDS',\n",
       "       'ENSMUST00000135772.1-CDS', 'ENSMUST00000151708.2-CDS',\n",
       "       'ENSMUST00000043584.4-CDS', 'ENSMUST00000028583.7-CDS',\n",
       "       'ENSMUST00000034983.6-CDS', 'ENSMUST00000034000.14-CDS',\n",
       "       'ENSMUST00000059498.11-CDS', 'ENSMUST00000029879.14-CDS',\n",
       "       'ENSMUST00000022960.2-CDS', 'ENSMUST00000196528.4-CDS',\n",
       "       'ENSMUST00000094378.9-CDS', 'ENSMUST00000143728.1-CDS',\n",
       "       'ENSMUST00000118366.7-CDS', 'ENSMUST00000010899.13-CDS',\n",
       "       'ENSMUST00000167149.7-CDS', 'ENSMUST00000039913.8-CDS',\n",
       "       'ENSMUST00000110328.7-CDS', 'ENSMUST00000120680.1-CDS',\n",
       "       'ENSMUST00000045756.13-CDS', 'ENSMUST00000070653.12-CDS',\n",
       "       'ENSMUST00000168891.7-CDS', 'ENSMUST00000034276.12-CDS',\n",
       "       'ENSMUST00000173879.7-CDS', 'ENSMUST00000166526.7-CDS',\n",
       "       'ENSMUST00000028817.6-CDS', 'ENSMUST00000080033.6-CDS',\n",
       "       'ENSMUST00000038446.8-CDS', 'ENSMUST00000093943.9-CDS',\n",
       "       'ENSMUST00000100023.1-CDS', 'ENSMUST00000143942.1-CDS',\n",
       "       'ENSMUST00000034947.6-CDS', 'ENSMUST00000205949.1-CDS',\n",
       "       'ENSMUST00000160880.1-CDS', 'ENSMUST00000090792.10-CDS',\n",
       "       'ENSMUST00000200452.4-CDS', 'ENSMUST00000216867.1-CDS',\n",
       "       'ENSMUST00000022563.7-CDS', 'ENSMUST00000033873.8-CDS',\n",
       "       'ENSMUST00000148442.7-CDS', 'ENSMUST00000190131.1-CDS',\n",
       "       'ENSMUST00000036805.5-CDS', 'ENSMUST00000183114.1-CDS',\n",
       "       'ENSMUST00000105578.1-CDS', 'ENSMUST00000189636.6-CDS',\n",
       "       'ENSMUST00000034600.4-CDS', 'ENSMUST00000062580.7-CDS',\n",
       "       'ENSMUST00000168372.1-CDS', 'ENSMUST00000007602.14-CDS',\n",
       "       'ENSMUST00000156968.1-CDS', 'ENSMUST00000020974.6-CDS',\n",
       "       'ENSMUST00000038765.5-CDS', 'ENSMUST00000006625.7-CDS',\n",
       "       'ENSMUST00000065784.5-CDS', 'ENSMUST00000040555.14-CDS',\n",
       "       'ENSMUST00000011450.7-CDS', 'ENSMUST00000002292.14-CDS',\n",
       "       'ENSMUST00000166044.1-CDS', 'ENSMUST00000199668.2-CDS',\n",
       "       'ENSMUST00000216892.1-CDS', 'ENSMUST00000010536.8-CDS',\n",
       "       'ENSMUST00000169673.1-CDS', 'ENSMUST00000109070.2-CDS',\n",
       "       'ENSMUST00000043881.11-CDS', 'ENSMUST00000181173.1-CDS',\n",
       "       'ENSMUST00000166033.5-CDS', 'ENSMUST00000064234.6-CDS',\n",
       "       'ENSMUST00000114387.7-CDS', 'ENSMUST00000129935.7-CDS',\n",
       "       'ENSMUST00000043716.8-CDS', 'ENSMUST00000100206.2-CDS',\n",
       "       'ENSMUST00000014445.6-CDS', 'ENSMUST00000136621.8-CDS',\n",
       "       'ENSMUST00000164243.1-CDS', 'ENSMUST00000084525.11-CDS',\n",
       "       'ENSMUST00000177592.1-CDS', 'ENSMUST00000173170.1-CDS',\n",
       "       'ENSMUST00000137519.1-CDS', 'ENSMUST00000146629.1-CDS',\n",
       "       'ENSMUST00000151406.1-CDS', 'ENSMUST00000041618.12-CDS',\n",
       "       'ENSMUST00000103008.11-CDS', 'ENSMUST00000069107.13-CDS',\n",
       "       'ENSMUST00000022446.5-CDS', 'ENSMUST00000110918.2-CDS'],\n",
       "      dtype='|S32')"
      ]
     },
     "execution_count": 15,
     "metadata": {},
     "output_type": "execute_result"
    }
   ],
   "source": [
    "name_train[:100]"
   ]
  },
  {
   "cell_type": "code",
   "execution_count": 13,
   "metadata": {},
   "outputs": [
    {
     "data": {
      "text/plain": [
       "array([ 555.,  365.,  135., ...,  537.,  360.,  768.])"
      ]
     },
     "execution_count": 13,
     "metadata": {},
     "output_type": "execute_result"
    }
   ],
   "source": [
    "length_train"
   ]
  },
  {
   "cell_type": "code",
   "execution_count": null,
   "metadata": {},
   "outputs": [],
   "source": []
  },
  {
   "cell_type": "code",
   "execution_count": null,
   "metadata": {},
   "outputs": [],
   "source": []
  },
  {
   "cell_type": "code",
   "execution_count": null,
   "metadata": {},
   "outputs": [],
   "source": []
  },
  {
   "cell_type": "code",
   "execution_count": null,
   "metadata": {},
   "outputs": [],
   "source": []
  },
  {
   "cell_type": "code",
   "execution_count": null,
   "metadata": {},
   "outputs": [],
   "source": []
  },
  {
   "cell_type": "code",
   "execution_count": null,
   "metadata": {},
   "outputs": [],
   "source": [
    "#计算acc阶段，再次核查之前写的对不对\n",
    "\n",
    "#在生成y_test 的时候要标清楚每条的rna来源以及其起始为rna的第几个position\n",
    "\n",
    "#剩下的都是有值的点，已经知道该片段的rna和起始位点了，下面用rna一条一条计算。y_pred和y_true 都对应到rna上\n",
    "#最终的y_true不是CDS里读出来的标注，因为好多位置被转成了nan\n",
    "#同步统计y_true 和y_pred  每条片段的rna对应回去，np.ndarray 一个rna长度的向量\n",
    "#预计新的y_true 每行[rna,origin,128*ichshape]  name指rna name\n",
    "\n",
    "#计算y_true\n",
    "def rna_icshape_true():\n",
    "    position_need = {}\n",
    "    rna_icshape = {}\n",
    "    #每条rna每个位置出现了几次\n",
    "    rna_position = {}\n",
    "    rna_ic_correct = {}\n",
    "    for i in range(name.shape[0]):\n",
    "        #每条rna\n",
    "        rna_icshape[i] = np.zeros([length[i]])\n",
    "        #每个片段看看是否匹配\n",
    "        rna_position[i] = np.array([])\n",
    "        for j in range(y_true.shape[0]):\n",
    "            if y_true[j][0] = name[i]:\n",
    "                origin = y_true[j][1]\n",
    "                #找不是nan的部分,要累加\n",
    "                index = np.where(np.isnan(y_true[2:])=0)[0]\n",
    "                rna_icshape[i][origin:origin+128][index] += y_true[j][2:][index]\n",
    "                #统计赋值的位置\n",
    "                position = np.arange(origin:origin+128)[index]\n",
    "                rna_position[i] = np.concatenate((rna_position[i],position))\n",
    "        #统计第i条rna每个位置分别被加了几次\n",
    "        position_count = np.zeros([length[i]])\n",
    "        unique, counts = numpy.unique(rna_position[i], return_counts=True)\n",
    "        position_count[unique] = counts\n",
    "        #找到position count不是0的位置\n",
    "        index_ = np.where(position_count)[0]\n",
    "        rna_ic_correct[i] = rna_icshape[i][index_].astype('float') / position_count[index_]\n",
    "        rna_ic_correct[i][np.where(rna_ic_correct>=0.5)] =1\n",
    "        rna_ic_correct[i][np.where(rna_ic_correct<0.5)] =0\n",
    "        position_need[i] = index_\n",
    "    return rna_ic_correct,position_need\n",
    "\n",
    "#计算y_test\n",
    "def rna_icshape_pred():\n",
    "    rna_icshape = {}\n",
    "    #每条rna每个位置出现了几次\n",
    "    rna_position = {}\n",
    "    rna_ic_correct = {}\n",
    "    for i in range(name.shape[0]):\n",
    "        #每条rna\n",
    "        rna_icshape[i] = np.zeros([length[i]])\n",
    "        #每个片段看看是否匹配\n",
    "        rna_position[i] = np.array([])\n",
    "        for j in range(y_true.shape[0]):\n",
    "            if y_true[j][0] = name[i]:\n",
    "                origin = y_true[j][1]\n",
    "                #找不是nan的部分,要累加\n",
    "                index = np.where(np.isnan(y_true[2:])=0)[0]\n",
    "                rna_icshape[i][origin:origin+128][index] += y_pred[j][index]\n",
    "                #统计赋值的位置\n",
    "                position = np.arange(origin:origin+128)[index]\n",
    "                rna_position[i] = np.concatenate((rna_position[i],position))\n",
    "        #统计第i条rna每个位置分别被加了几次\n",
    "        position_count = np.zeros([length[i]])\n",
    "        unique, counts = numpy.unique(rna_position[i], return_counts=True)\n",
    "        position_count[unique] = counts\n",
    "        #找到position count不是0的位置\n",
    "        index_ = np.where(position_count)[0]\n",
    "        rna_ic_correct[i] = rna_icshape[i][index_].astype('float') / position_count[index_]\n",
    "        rna_ic_correct[i][np.where(rna_ic_correct>=0.5)] =1\n",
    "        rna_ic_correct[i][np.where(rna_ic_correct<0.5)] =0\n",
    "    return rna_ic_correct"
   ]
  },
  {
   "cell_type": "code",
   "execution_count": null,
   "metadata": {},
   "outputs": [],
   "source": [
    "#看下 返回的样子  需要返回一个真正被考虑的位置的index，要不然nan和0都是0，acc肯定大！ \n",
    "#读取 true和pred  以及每条rna需要被考虑的位点"
   ]
  },
  {
   "cell_type": "code",
   "execution_count": null,
   "metadata": {},
   "outputs": [],
   "source": [
    "#分类计算acc  对应出来染色体名字和所属类别\n",
    "category = []\n",
    "acc = {}\n",
    "for j in range(len(category)):\n",
    "    acc[category[j]] = {}\n",
    "    for i in range(name.shape[0]):\n",
    "        if name[i] = category[j]:\n",
    "            count = position_need[i].shape[0]    \n",
    "            acc[category[j]][name[i]] = (count - np.sum(rna_ic_correct_true - rna_ic_correct_pred))/count    "
   ]
  }
 ],
 "metadata": {
  "kernelspec": {
   "display_name": "Python 2",
   "language": "python",
   "name": "python2"
  },
  "language_info": {
   "codemirror_mode": {
    "name": "ipython",
    "version": 2
   },
   "file_extension": ".py",
   "mimetype": "text/x-python",
   "name": "python",
   "nbconvert_exporter": "python",
   "pygments_lexer": "ipython2",
   "version": "2.7.14"
  }
 },
 "nbformat": 4,
 "nbformat_minor": 2
}
