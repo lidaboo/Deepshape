{
 "cells": [
  {
   "cell_type": "markdown",
   "metadata": {},
   "source": [
    "使用mutate and map作为衡量不同模型的指标之一"
   ]
  },
  {
   "cell_type": "markdown",
   "metadata": {},
   "source": [
    "从540条序列中产生序列突变，分别用我们的模型和baseline预测，分析mutate and map"
   ]
  },
  {
   "cell_type": "code",
   "execution_count": 1,
   "metadata": {},
   "outputs": [
    {
     "name": "stdout",
     "output_type": "stream",
     "text": [
      "/home/chenxupeng/projects/deepshape\n"
     ]
    }
   ],
   "source": [
    "cd /home/chenxupeng/projects/deepshape/"
   ]
  },
  {
   "cell_type": "code",
   "execution_count": 89,
   "metadata": {},
   "outputs": [
    {
     "name": "stderr",
     "output_type": "stream",
     "text": [
      "Using TensorFlow backend.\n"
     ]
    },
    {
     "name": "stdout",
     "output_type": "stream",
     "text": [
      "Populating the interactive namespace from numpy and matplotlib\n"
     ]
    }
   ],
   "source": [
    "import numpy as np\n",
    "import h5py\n",
    "from Bio import SeqIO\n",
    "from Bio.Seq import Seq\n",
    "from Bio.SeqRecord import SeqRecord\n",
    "import warnings\n",
    "warnings.filterwarnings('ignore')\n",
    "import numpy as np\n",
    "import argparse, sys, os, errno\n",
    "from glob import glob\n",
    "import pandas as pd\n",
    "import matplotlib.pyplot as plt\n",
    "import seaborn as sns\n",
    "import h5py\n",
    "from tqdm import tqdm\n",
    "import keras as K\n",
    "import seaborn as sns\n",
    "from keras.callbacks import TensorBoard\n",
    "from keras.callbacks import EarlyStopping\n",
    "from unet_128_model_row_column import *\n",
    "from keras.optimizers import Adam\n",
    "from keras.callbacks import ModelCheckpoint\n",
    "import tensorflow as tf\n",
    "import matplotlib.pyplot as plt\n",
    "%pylab inline\n",
    "os.environ[\"CUDA_DEVICE_ORDER\"] = \"PCI_BUS_ID\" # so the IDs match nvidia-smi\n",
    "os.environ[\"CUDA_VISIBLE_DEVICES\"] = \"5\"\n",
    "import tensorflow as tf\n",
    "from keras.backend.tensorflow_backend import set_session\n",
    "config = tf.ConfigProto()\n",
    "config.gpu_options.per_process_gpu_memory_fraction = 0.99\n",
    "set_session(tf.Session(config=config))\n",
    "from keras.models import load_model\n",
    "from keras.utils.generic_utils import get_custom_objects"
   ]
  },
  {
   "cell_type": "code",
   "execution_count": 85,
   "metadata": {},
   "outputs": [],
   "source": [
    "class Onehot(object):\n",
    "    def __init__(self, alphabet='ATCG'):\n",
    "        self.transtable = np.zeros(128, np.int64)\n",
    "        self.transtable[[ord(a) for a in alphabet]] = range(len(alphabet))\n",
    "        self.alphabet = np.frombuffer(alphabet, np.int8)\n",
    "    def encode(self, seq):\n",
    "        seq_int = self.transtable[np.frombuffer(seq, np.int8)]\n",
    "        encoded = np.zeros((len(seq), len(self.alphabet)), np.int8)\n",
    "        encoded[np.r_[:len(seq)], seq_int] = 1\n",
    "        return encoded\n",
    "    def decode(self, a):\n",
    "        return self.alphabet[np.argmax(a, axis=1)].tostring()\n",
    "onehot = Onehot()\n",
    "def convert_to_image(x):\n",
    "    m = (np.repeat(x, 4, axis=1)[np.newaxis, :, :]*np.tile(x, 4)[:, np.newaxis, :])\n",
    "    return m\n",
    "def generate_mutat_map(seq):\n",
    "    '''seq shape: 128*4\n",
    "    将一条序列每个位点突变\n",
    "    return 384*128*4\n",
    "    '''\n",
    "    length = 128\n",
    "    #需要生成的 1的位置\n",
    "    mutated = np.ndarray([length*3,length,4]).astype('int')\n",
    "    for j in range(length):\n",
    "        position = np.setdiff1d(np.array([0,1,2,3]),np.where(seq[j]==1)[0][0])\n",
    "        for i in range(3):\n",
    "            a = np.zeros(4).astype('int')\n",
    "            array = np.copy(seq)\n",
    "            a[position[i]] = 1\n",
    "            array[j] = a\n",
    "            mutated[j*3+i] = array\n",
    "    images_mutated = np.ndarray([length*3,length,length,16]).astype('int')\n",
    "    for i in range(length*3):\n",
    "        images_mutated[i] = convert_to_image(mutated[i])\n",
    "    images_origin = convert_to_image(seq)\n",
    "    return images_mutated,images_origin,mutated"
   ]
  },
  {
   "cell_type": "code",
   "execution_count": 97,
   "metadata": {},
   "outputs": [],
   "source": [
    "with h5py.File('known/known.h5') as f:\n",
    "    names = f['name'][:]\n",
    "record_dict = SeqIO.to_dict(SeqIO.parse(\"known/sequences.fa\", \"fasta\"))\n",
    "sequences = {}\n",
    "for i in range(540):\n",
    "    sequences[i] = record_dict[names[i]].seq.tostring()"
   ]
  },
  {
   "cell_type": "code",
   "execution_count": 100,
   "metadata": {},
   "outputs": [
    {
     "data": {
      "text/plain": [
       "'GGGGGCGAACGGGTTCGACGGGGATGGAGTCCCCTGGGAAGCGAGCCGAGGTCCCCACCTCCTCGTAAAAAAGGTGGGAACACGAATAAGTGCCAACGAACCTGTTGCTGTTGCCGCCTAATAGATAGGCGGCCGTCCTCTCCGGAGTTGGCTGGGCTCCGGAAGAGGGCGTGAGGGATCCAGCCTACCGATCTGGGCTCCGCCTTCCGGCCCGGATCGGGAAGGTTCAGGAAGGCTGTGGGAAGCGACACCCTGCCCGTGGGGGGTCCTTCCCGAGACACGAAACACGGGCTGCGCTCGGAGAAGCCCAGGGGCCTCCATCTTCGGACGGGGGTTCGAATCCCCCCGCCTCCACCA'"
      ]
     },
     "execution_count": 100,
     "metadata": {},
     "output_type": "execute_result"
    }
   ],
   "source": [
    "sequences[0]"
   ]
  },
  {
   "cell_type": "markdown",
   "metadata": {},
   "source": [
    "先用第一条的试试"
   ]
  },
  {
   "cell_type": "code",
   "execution_count": 102,
   "metadata": {},
   "outputs": [],
   "source": [
    "def generate_mutation_seq(i):\n",
    "    '''\n",
    "    specify ith\n",
    "    return mutate and origin\n",
    "    '''\n",
    "    with h5py.File('known/known.h5') as f:\n",
    "        names = f['name'][:]\n",
    "    record_dict = SeqIO.to_dict(SeqIO.parse(\"known/sequences.fa\", \"fasta\"))\n",
    "    sequences = {}\n",
    "    for i in range(540):\n",
    "        sequences[i] = record_dict[names[i]].seq.tostring()\n",
    "    seqs = onehot.encode(sequences[i])[:128]\n",
    "    a,b,c = generate_mutat_map(seqs)\n",
    "    sequences = []\n",
    "    for i in range(384):\n",
    "        sequences.append(onehot.decode(c[i]))\n",
    "    with open('submit/540_submit/submit_'+str(i)+'.fasta', 'a') as the_file:\n",
    "        for i in range(384):\n",
    "            the_file.write('>'+str(i)+'\\n')\n",
    "            the_file.write(sequences[i]+'\\n')\n",
    "    return a, b.reshape(1,128,128,16)"
   ]
  },
  {
   "cell_type": "code",
   "execution_count": 104,
   "metadata": {},
   "outputs": [],
   "source": [
    "for i in range(1):\n",
    "    a,b = generate_mutation_seq(i)"
   ]
  },
  {
   "cell_type": "code",
   "execution_count": 106,
   "metadata": {},
   "outputs": [
    {
     "data": {
      "text/plain": [
       "(384, 128, 128, 16)"
      ]
     },
     "execution_count": 106,
     "metadata": {},
     "output_type": "execute_result"
    }
   ],
   "source": [
    "a.shape"
   ]
  },
  {
   "cell_type": "code",
   "execution_count": 108,
   "metadata": {},
   "outputs": [],
   "source": [
    "def Model():\n",
    "    #为转成十六通道的图片预测shape做准备\n",
    "    model = UNET_128()\n",
    "    optim = Adam()\n",
    "    model.compile(optimizer=optim, loss=CrossEntropyLoss(model,10), metrics=[binary_accuracy_with_nan,binary_crossentropy_with_nan,MSE(model)])\n",
    "    loss=CrossEntropyLoss(model,10)\n",
    "    model = load_model('output/newunet_row_col_mse_1.30_3.hdf5',custom_objects = {\"CrossEntropyLoss\": loss,\\\n",
    "                                                                            'binary_accuracy_with_nan':binary_accuracy_with_nan,\\\n",
    "                                                                            'binary_crossentropy_with_nan':binary_crossentropy_with_nan,\\\n",
    "                                                                            'MSE':MSE(model)})\n",
    "    return model\n",
    "def generate_mutation_map(images_mutated,images_origin):\n",
    "    model = Model()\n",
    "    predict_origin = model.predict(images_origin)[0][:128]\n",
    "    predict_mutated = model.predict(images_mutated)[:,:128]\n",
    "    mutation_map = np.ndarray([128*3,128])\n",
    "    for i in range(128*3):\n",
    "        mutation_map[i] =  predict_origin - predict_mutated[i]\n",
    "    cube_map = np.ndarray([384,384])\n",
    "    for i in range(128):\n",
    "        cube_map[:,3*i] = mutation_map[:,i]\n",
    "        cube_map[:,3*i+1] = mutation_map[:,i]\n",
    "        cube_map[:,3*i+2] = mutation_map[:,i]\n",
    "    return cube_map"
   ]
  },
  {
   "cell_type": "code",
   "execution_count": 109,
   "metadata": {},
   "outputs": [],
   "source": [
    "map = generate_mutation_map(a,b)"
   ]
  },
  {
   "cell_type": "code",
   "execution_count": 110,
   "metadata": {},
   "outputs": [
    {
     "data": {
      "text/plain": [
       "(384, 384)"
      ]
     },
     "execution_count": 110,
     "metadata": {},
     "output_type": "execute_result"
    }
   ],
   "source": [
    "map.shape"
   ]
  },
  {
   "cell_type": "code",
   "execution_count": 42,
   "metadata": {},
   "outputs": [],
   "source": [
    "def from_result_to_mutate_map():\n",
    "    list = np.loadtxt('mutation/baseline_mutate/a.txt',dtype = 'S')\n",
    "    arr = np.ndarray([384,]).astype('int')\n",
    "    for i in range(384):\n",
    "        arr[i] = int(list[i].split('.')[0])\n",
    "    index = np.argsort(arr)\n",
    "    mutate_array = np.ndarray([384,128])\n",
    "    for i in range(384):\n",
    "        mutate_array[i] = np.loadtxt('mutation/baseline_mutate/'+list[index][i],dtype='S')[:,2:3].astype('float').ravel()\n",
    "    origin = np.loadtxt('mutation/baseline_mutate/origin.txt',dtype='S')[:,2:3].astype('float').ravel()\n",
    "    mutate_map = np.ndarray([384,128])\n",
    "    for i in range(384):\n",
    "        mutate_map[i] = np.abs(mutate_array[i] - origin)\n",
    "    cube_map = np.ndarray([384,384])\n",
    "    for i in range(128):\n",
    "        cube_map[:,3*i] = mutate_map[:,i]\n",
    "        cube_map[:,3*i+1] = mutate_map[:,i]\n",
    "        cube_map[:,3*i+2] = mutate_map[:,i]\n",
    "    fig, ax = plt.subplots(1,figsize=(8,8))\n",
    "    ax.matshow(cube_map,cmap = cm.RdBu_r)"
   ]
  },
  {
   "cell_type": "code",
   "execution_count": 56,
   "metadata": {},
   "outputs": [],
   "source": []
  },
  {
   "cell_type": "code",
   "execution_count": 60,
   "metadata": {},
   "outputs": [],
   "source": []
  },
  {
   "cell_type": "code",
   "execution_count": 113,
   "metadata": {},
   "outputs": [
    {
     "data": {
      "text/plain": [
       "<matplotlib.image.AxesImage at 0x7f62847bbd50>"
      ]
     },
     "execution_count": 113,
     "metadata": {},
     "output_type": "execute_result"
    },
    {
     "data": {
      "image/png": "[encoded data removed]",
      "text/plain": [
       "<matplotlib.figure.Figure at 0x7f629470da90>"
      ]
     },
     "metadata": {},
     "output_type": "display_data"
    }
   ],
   "source": [
    "fig, ax = plt.subplots(1,2,figsize=(20,10))\n",
    "ax[0].matshow(cube_map,cmap = cm.RdBu_r)\n",
    "ax[1].matshow(map,cmap = cm.RdBu_r)"
   ]
  },
  {
   "cell_type": "code",
   "execution_count": null,
   "metadata": {},
   "outputs": [],
   "source": []
  },
  {
   "cell_type": "code",
   "execution_count": 118,
   "metadata": {},
   "outputs": [
    {
     "name": "stderr",
     "output_type": "stream",
     "text": [
      "100%|██████████| 540/540 [00:00<00:00, 1085.55it/s]\n"
     ]
    }
   ],
   "source": [
    "ic_shape = {}\n",
    "with h5py.File('known/known.h5') as f:\n",
    "    for i in tqdm(range(540)):\n",
    "        ic_shape[i] = f['known'][f['start'][i]:f['end'][i]]\n",
    "    icshape = np.array([value for (key,value) in ic_shape.iteritems()])\n",
    "    name = f['name'][:]"
   ]
  },
  {
   "cell_type": "code",
   "execution_count": 204,
   "metadata": {},
   "outputs": [],
   "source": [
    "acc = []\n",
    "for i in range(540):\n",
    "    a = np.loadtxt('submit/540_baseline_predict/'+name[i]+name[i]+'.txt',dtype = 'S')[:,2:3].astype('float').ravel()\n",
    "    a[np.where(a>=0)[0]] = 1\n",
    "    a[np.where(a <0)[0]] = 0\n",
    "    acc.append(1.- np.abs(icshape[i] - a).sum()/a.shape[0])\n",
    "category = np.ndarray([540]).astype('S')\n",
    "for i in range(540):\n",
    "    category[i] = name[i].split('_')[0]\n",
    "name_list = np.unique(category,)\n",
    "acc_cate = {}\n",
    "for j in range(10):\n",
    "    acc_cate[name_list[j]] = []\n",
    "    for i in range(540):\n",
    "        if category[i] ==name_list[j]:\n",
    "            acc_cate[name_list[j]].append(acc[i])"
   ]
  },
  {
   "cell_type": "code",
   "execution_count": 206,
   "metadata": {},
   "outputs": [],
   "source": [
    "table = pd.DataFrame([10])\n",
    "for i in range(10):\n",
    "    table[i] =  sum(acc_cate[name_list[i]])/len(acc_cate[name_list[i]])\n",
    "table = table.T\n",
    "table = table.set_index(name_list)\n",
    "table.columns = ['baseline']"
   ]
  },
  {
   "cell_type": "code",
   "execution_count": 207,
   "metadata": {},
   "outputs": [],
   "source": [
    "table_1 = pd.read_csv('known/accuracy/acc_1.31_pick').iloc[:,2:]\n",
    "table_1 = table_1.set_index(name_list)"
   ]
  },
  {
   "cell_type": "code",
   "execution_count": 208,
   "metadata": {},
   "outputs": [
    {
     "data": {
      "text/html": [
       "<div>\n",
       "<style scoped>\n",
       "    .dataframe tbody tr th:only-of-type {\n",
       "        vertical-align: middle;\n",
       "    }\n",
       "\n",
       "    .dataframe tbody tr th {\n",
       "        vertical-align: top;\n",
       "    }\n",
       "\n",
       "    .dataframe thead th {\n",
       "        text-align: right;\n",
       "    }\n",
       "</style>\n",
       "<table border=\"1\" class=\"dataframe\">\n",
       "  <thead>\n",
       "    <tr style=\"text-align: right;\">\n",
       "      <th></th>\n",
       "      <th>2d_model_restrict</th>\n",
       "      <th>dense</th>\n",
       "    </tr>\n",
       "  </thead>\n",
       "  <tbody>\n",
       "    <tr>\n",
       "      <th>16s</th>\n",
       "      <td>0.532</td>\n",
       "      <td>0.597</td>\n",
       "    </tr>\n",
       "    <tr>\n",
       "      <th>23s</th>\n",
       "      <td>0.419</td>\n",
       "      <td>0.684</td>\n",
       "    </tr>\n",
       "    <tr>\n",
       "      <th>5s</th>\n",
       "      <td>0.445</td>\n",
       "      <td>0.628</td>\n",
       "    </tr>\n",
       "    <tr>\n",
       "      <th>RNaseP</th>\n",
       "      <td>0.442</td>\n",
       "      <td>0.634</td>\n",
       "    </tr>\n",
       "    <tr>\n",
       "      <th>grp1</th>\n",
       "      <td>0.494</td>\n",
       "      <td>0.587</td>\n",
       "    </tr>\n",
       "    <tr>\n",
       "      <th>grp2</th>\n",
       "      <td>0.640</td>\n",
       "      <td>0.524</td>\n",
       "    </tr>\n",
       "    <tr>\n",
       "      <th>srp</th>\n",
       "      <td>0.436</td>\n",
       "      <td>0.578</td>\n",
       "    </tr>\n",
       "    <tr>\n",
       "      <th>tRNA</th>\n",
       "      <td>0.451</td>\n",
       "      <td>0.563</td>\n",
       "    </tr>\n",
       "    <tr>\n",
       "      <th>telomerase</th>\n",
       "      <td>0.516</td>\n",
       "      <td>0.555</td>\n",
       "    </tr>\n",
       "    <tr>\n",
       "      <th>tmRNA</th>\n",
       "      <td>0.471</td>\n",
       "      <td>0.602</td>\n",
       "    </tr>\n",
       "  </tbody>\n",
       "</table>\n",
       "</div>"
      ],
      "text/plain": [
       "            2d_model_restrict  dense\n",
       "16s                     0.532  0.597\n",
       "23s                     0.419  0.684\n",
       "5s                      0.445  0.628\n",
       "RNaseP                  0.442  0.634\n",
       "grp1                    0.494  0.587\n",
       "grp2                    0.640  0.524\n",
       "srp                     0.436  0.578\n",
       "tRNA                    0.451  0.563\n",
       "telomerase              0.516  0.555\n",
       "tmRNA                   0.471  0.602"
      ]
     },
     "execution_count": 208,
     "metadata": {},
     "output_type": "execute_result"
    }
   ],
   "source": [
    "table_1"
   ]
  },
  {
   "cell_type": "code",
   "execution_count": 209,
   "metadata": {},
   "outputs": [],
   "source": [
    "whole = pd.concat((table,table_1),axis =1)"
   ]
  },
  {
   "cell_type": "code",
   "execution_count": 210,
   "metadata": {},
   "outputs": [],
   "source": [
    "whole.columns = ['submit', '2d_restrict', 'dense']"
   ]
  },
  {
   "cell_type": "code",
   "execution_count": 211,
   "metadata": {},
   "outputs": [
    {
     "data": {
      "text/html": [
       "<div>\n",
       "<style scoped>\n",
       "    .dataframe tbody tr th:only-of-type {\n",
       "        vertical-align: middle;\n",
       "    }\n",
       "\n",
       "    .dataframe tbody tr th {\n",
       "        vertical-align: top;\n",
       "    }\n",
       "\n",
       "    .dataframe thead th {\n",
       "        text-align: right;\n",
       "    }\n",
       "</style>\n",
       "<table border=\"1\" class=\"dataframe\">\n",
       "  <thead>\n",
       "    <tr style=\"text-align: right;\">\n",
       "      <th></th>\n",
       "      <th>submit</th>\n",
       "      <th>2d_restrict</th>\n",
       "      <th>dense</th>\n",
       "    </tr>\n",
       "  </thead>\n",
       "  <tbody>\n",
       "    <tr>\n",
       "      <th>16s</th>\n",
       "      <td>0.597</td>\n",
       "      <td>0.532</td>\n",
       "      <td>0.597</td>\n",
       "    </tr>\n",
       "    <tr>\n",
       "      <th>23s</th>\n",
       "      <td>0.689</td>\n",
       "      <td>0.419</td>\n",
       "      <td>0.684</td>\n",
       "    </tr>\n",
       "    <tr>\n",
       "      <th>5s</th>\n",
       "      <td>0.606</td>\n",
       "      <td>0.445</td>\n",
       "      <td>0.628</td>\n",
       "    </tr>\n",
       "    <tr>\n",
       "      <th>RNaseP</th>\n",
       "      <td>0.631</td>\n",
       "      <td>0.442</td>\n",
       "      <td>0.634</td>\n",
       "    </tr>\n",
       "    <tr>\n",
       "      <th>grp1</th>\n",
       "      <td>0.594</td>\n",
       "      <td>0.494</td>\n",
       "      <td>0.587</td>\n",
       "    </tr>\n",
       "    <tr>\n",
       "      <th>grp2</th>\n",
       "      <td>0.554</td>\n",
       "      <td>0.640</td>\n",
       "      <td>0.524</td>\n",
       "    </tr>\n",
       "    <tr>\n",
       "      <th>srp</th>\n",
       "      <td>0.567</td>\n",
       "      <td>0.436</td>\n",
       "      <td>0.578</td>\n",
       "    </tr>\n",
       "    <tr>\n",
       "      <th>tRNA</th>\n",
       "      <td>0.557</td>\n",
       "      <td>0.451</td>\n",
       "      <td>0.563</td>\n",
       "    </tr>\n",
       "    <tr>\n",
       "      <th>telomerase</th>\n",
       "      <td>0.545</td>\n",
       "      <td>0.516</td>\n",
       "      <td>0.555</td>\n",
       "    </tr>\n",
       "    <tr>\n",
       "      <th>tmRNA</th>\n",
       "      <td>0.601</td>\n",
       "      <td>0.471</td>\n",
       "      <td>0.602</td>\n",
       "    </tr>\n",
       "  </tbody>\n",
       "</table>\n",
       "</div>"
      ],
      "text/plain": [
       "            submit  2d_restrict  dense\n",
       "16s          0.597        0.532  0.597\n",
       "23s          0.689        0.419  0.684\n",
       "5s           0.606        0.445  0.628\n",
       "RNaseP       0.631        0.442  0.634\n",
       "grp1         0.594        0.494  0.587\n",
       "grp2         0.554        0.640  0.524\n",
       "srp          0.567        0.436  0.578\n",
       "tRNA         0.557        0.451  0.563\n",
       "telomerase   0.545        0.516  0.555\n",
       "tmRNA        0.601        0.471  0.602"
      ]
     },
     "execution_count": 211,
     "metadata": {},
     "output_type": "execute_result"
    }
   ],
   "source": [
    "whole.round(3)"
   ]
  },
  {
   "cell_type": "code",
   "execution_count": 213,
   "metadata": {},
   "outputs": [
    {
     "data": {
      "image/png": "[encoded data removed]",
      "text/plain": [
       "<matplotlib.figure.Figure at 0x7f61f12ea3d0>"
      ]
     },
     "metadata": {},
     "output_type": "display_data"
    }
   ],
   "source": [
    "#'b', 'g', 'r', 'c', 'm', 'y', 'k', 'w'\n",
    "size = 10\n",
    "x = np.arange(size)\n",
    "a = np.array(whole['submit'])\n",
    "b = np.array(whole['2d_restrict'])\n",
    "c = np.array(whole['dense'])\n",
    "plt.style.use('ggplot')\n",
    "total_width, n = 0.8, 3\n",
    "width = total_width / n\n",
    "x = x - (total_width - width) / 2\n",
    "plt.figure(figsize=(15,8))\n",
    "plt.bar(x, a,  width=width,color ='g' , label='submit')\n",
    "plt.bar(x + width, b, width=width,color ='r', label='2D')\n",
    "plt.bar(x + 2 * width, c, width=width, color ='c',label='Dense')\n",
    "LABELS = name_list\n",
    "plt.xticks(x + width, LABELS)\n",
    "\n",
    "plt.legend()\n",
    "plt.show()"
   ]
  },
  {
   "cell_type": "code",
   "execution_count": 178,
   "metadata": {},
   "outputs": [
    {
     "data": {
      "text/plain": [
       "array([ 0.63508129,  0.19397501,  0.53494786,  0.22502623,  0.74016737,\n",
       "        0.32304754,  0.46247581,  0.65147427,  0.73832393,  0.26634509])"
      ]
     },
     "execution_count": 178,
     "metadata": {},
     "output_type": "execute_result"
    }
   ],
   "source": [
    "a"
   ]
  },
  {
   "cell_type": "code",
   "execution_count": 214,
   "metadata": {},
   "outputs": [],
   "source": [
    "acc = []\n",
    "for i in range(540):\n",
    "    a = np.loadtxt('submit/icshape_predict/'+name[i]+name[i]+'.txt',dtype = 'S')[:,2:3].astype('float').ravel()\n",
    "    a[np.where(a>=0)[0]] = 1\n",
    "    a[np.where(a <0)[0]] = 0\n",
    "    acc.append(1.- np.abs(icshape[i] - a).sum()/a.shape[0])\n",
    "category = np.ndarray([540]).astype('S')\n",
    "for i in range(540):\n",
    "    category[i] = name[i].split('_')[0]\n",
    "name_list = np.unique(category,)\n",
    "acc_cate = {}\n",
    "for j in range(10):\n",
    "    acc_cate[name_list[j]] = []\n",
    "    for i in range(540):\n",
    "        if category[i] ==name_list[j]:\n",
    "            acc_cate[name_list[j]].append(acc[i])"
   ]
  },
  {
   "cell_type": "code",
   "execution_count": null,
   "metadata": {},
   "outputs": [],
   "source": []
  },
  {
   "cell_type": "code",
   "execution_count": 216,
   "metadata": {},
   "outputs": [],
   "source": [
    "tablee = pd.DataFrame([10])\n",
    "for i in range(10):\n",
    "    tablee[i] =  sum(acc_cate[name_list[i]])/len(acc_cate[name_list[i]])\n",
    "tablee = tablee.T\n",
    "tablee = tablee.set_index(name_list)\n",
    "tablee.columns = ['submit_ic']"
   ]
  },
  {
   "cell_type": "code",
   "execution_count": 218,
   "metadata": {},
   "outputs": [],
   "source": [
    "whole = pd.concat((whole,tablee),axis =1)"
   ]
  },
  {
   "cell_type": "code",
   "execution_count": 219,
   "metadata": {},
   "outputs": [],
   "source": [
    "whole = whole.round(3)"
   ]
  },
  {
   "cell_type": "code",
   "execution_count": 220,
   "metadata": {},
   "outputs": [
    {
     "data": {
      "text/html": [
       "<div>\n",
       "<style scoped>\n",
       "    .dataframe tbody tr th:only-of-type {\n",
       "        vertical-align: middle;\n",
       "    }\n",
       "\n",
       "    .dataframe tbody tr th {\n",
       "        vertical-align: top;\n",
       "    }\n",
       "\n",
       "    .dataframe thead th {\n",
       "        text-align: right;\n",
       "    }\n",
       "</style>\n",
       "<table border=\"1\" class=\"dataframe\">\n",
       "  <thead>\n",
       "    <tr style=\"text-align: right;\">\n",
       "      <th></th>\n",
       "      <th>submit</th>\n",
       "      <th>2d_restrict</th>\n",
       "      <th>dense</th>\n",
       "      <th>submit_ic</th>\n",
       "    </tr>\n",
       "  </thead>\n",
       "  <tbody>\n",
       "    <tr>\n",
       "      <th>16s</th>\n",
       "      <td>0.597</td>\n",
       "      <td>0.532</td>\n",
       "      <td>0.597</td>\n",
       "      <td>0.529</td>\n",
       "    </tr>\n",
       "    <tr>\n",
       "      <th>23s</th>\n",
       "      <td>0.689</td>\n",
       "      <td>0.419</td>\n",
       "      <td>0.684</td>\n",
       "      <td>0.585</td>\n",
       "    </tr>\n",
       "    <tr>\n",
       "      <th>5s</th>\n",
       "      <td>0.606</td>\n",
       "      <td>0.445</td>\n",
       "      <td>0.628</td>\n",
       "      <td>0.570</td>\n",
       "    </tr>\n",
       "    <tr>\n",
       "      <th>RNaseP</th>\n",
       "      <td>0.631</td>\n",
       "      <td>0.442</td>\n",
       "      <td>0.634</td>\n",
       "      <td>0.564</td>\n",
       "    </tr>\n",
       "    <tr>\n",
       "      <th>grp1</th>\n",
       "      <td>0.594</td>\n",
       "      <td>0.494</td>\n",
       "      <td>0.587</td>\n",
       "      <td>0.550</td>\n",
       "    </tr>\n",
       "    <tr>\n",
       "      <th>grp2</th>\n",
       "      <td>0.554</td>\n",
       "      <td>0.640</td>\n",
       "      <td>0.524</td>\n",
       "      <td>0.524</td>\n",
       "    </tr>\n",
       "    <tr>\n",
       "      <th>srp</th>\n",
       "      <td>0.567</td>\n",
       "      <td>0.436</td>\n",
       "      <td>0.578</td>\n",
       "      <td>0.525</td>\n",
       "    </tr>\n",
       "    <tr>\n",
       "      <th>tRNA</th>\n",
       "      <td>0.557</td>\n",
       "      <td>0.451</td>\n",
       "      <td>0.563</td>\n",
       "      <td>0.519</td>\n",
       "    </tr>\n",
       "    <tr>\n",
       "      <th>telomerase</th>\n",
       "      <td>0.545</td>\n",
       "      <td>0.516</td>\n",
       "      <td>0.555</td>\n",
       "      <td>0.494</td>\n",
       "    </tr>\n",
       "    <tr>\n",
       "      <th>tmRNA</th>\n",
       "      <td>0.601</td>\n",
       "      <td>0.471</td>\n",
       "      <td>0.602</td>\n",
       "      <td>0.563</td>\n",
       "    </tr>\n",
       "  </tbody>\n",
       "</table>\n",
       "</div>"
      ],
      "text/plain": [
       "            submit  2d_restrict  dense  submit_ic\n",
       "16s          0.597        0.532  0.597      0.529\n",
       "23s          0.689        0.419  0.684      0.585\n",
       "5s           0.606        0.445  0.628      0.570\n",
       "RNaseP       0.631        0.442  0.634      0.564\n",
       "grp1         0.594        0.494  0.587      0.550\n",
       "grp2         0.554        0.640  0.524      0.524\n",
       "srp          0.567        0.436  0.578      0.525\n",
       "tRNA         0.557        0.451  0.563      0.519\n",
       "telomerase   0.545        0.516  0.555      0.494\n",
       "tmRNA        0.601        0.471  0.602      0.563"
      ]
     },
     "execution_count": 220,
     "metadata": {},
     "output_type": "execute_result"
    }
   ],
   "source": [
    "whole"
   ]
  },
  {
   "cell_type": "code",
   "execution_count": 226,
   "metadata": {},
   "outputs": [
    {
     "data": {
      "image/png": "[encoded data removed]",
      "text/plain": [
       "<matplotlib.figure.Figure at 0x7f61f0c4d510>"
      ]
     },
     "metadata": {},
     "output_type": "display_data"
    }
   ],
   "source": [
    "#'b', 'g', 'r', 'c', 'm', 'y', 'k', 'w'\n",
    "size = 10\n",
    "x = np.arange(size)\n",
    "d = np.array(whole['submit'])\n",
    "a = np.array(whole['2d_restrict'])\n",
    "b = np.array(whole['dense'])\n",
    "c = np.array(whole['submit_ic'])\n",
    "plt.style.use('ggplot')\n",
    "total_width, n = 0.8, 4\n",
    "\n",
    "width = total_width / n\n",
    "x = x - (total_width - width) / 2\n",
    "\n",
    "plt.figure(figsize=(15,8))\n",
    "plt.bar(x, a,  width=width,color ='g' , label='2D')\n",
    "plt.bar(x + width, b, width=width,color ='r', label='Dense')\n",
    "plt.bar(x + 2 * width, c, width=width, color ='c',label='submit_ic')\n",
    "plt.bar(x + 3 * width, d, width=width, color ='m',label='submit')\n",
    "\n",
    "LABELS = name_list\n",
    "plt.xticks(x + width, LABELS)\n",
    "\n",
    "plt.legend()\n",
    "plt.show()"
   ]
  },
  {
   "cell_type": "code",
   "execution_count": null,
   "metadata": {},
   "outputs": [],
   "source": []
  }
 ],
 "metadata": {
  "kernelspec": {
   "display_name": "Python 2",
   "language": "python",
   "name": "python2"
  },
  "language_info": {
   "codemirror_mode": {
    "name": "ipython",
    "version": 2
   },
   "file_extension": ".py",
   "mimetype": "text/x-python",
   "name": "python",
   "nbconvert_exporter": "python",
   "pygments_lexer": "ipython2",
   "version": "2.7.14"
  }
 },
 "nbformat": 4,
 "nbformat_minor": 2
}
